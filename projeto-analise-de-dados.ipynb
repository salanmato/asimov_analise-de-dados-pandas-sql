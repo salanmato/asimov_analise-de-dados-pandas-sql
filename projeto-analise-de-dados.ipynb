{
 "cells": [
  {
   "cell_type": "markdown",
   "id": "motivated-olympus",
   "metadata": {},
   "source": [
    "# Projeto final\n",
    "\n",
    "Bem vindo ao projeto final do curso/módulo de Pandas.\n",
    "Neste projeto, você deve responder a um conjunto de perguntas feitas a dois conjuntos de dados:\n",
    "\n",
    "1. [Obesity among adults by country, 1975-2016](https://www.kaggle.com/amanarora/obesity-among-adults-by-country-19752016/)\n",
    "2. [GDP Per Person (1901-2011)](https://www.kaggle.com/divyansh22/gdp-per-person-19012011?select=GDP.csv)\n",
    "\n",
    "Tais conjuntos de dados são públicos foram publicados no Kaggle. Mais instruções sobre cada um deles podem ser encontrados nos links acima. Você também os encontrará na pasta `Datasets`, dentro de nossas apostilas."
   ]
  },
  {
   "cell_type": "code",
   "execution_count": 1,
   "id": "million-survival",
   "metadata": {},
   "outputs": [],
   "source": [
    "import pandas as pd\n",
    "import numpy as np\n",
    "import matplotlib.pyplot as plt"
   ]
  },
  {
   "cell_type": "markdown",
   "id": "becoming-princeton",
   "metadata": {},
   "source": [
    "## Perguntas - Obesity among adults by country, 1975-2016"
   ]
  },
  {
   "cell_type": "code",
   "execution_count": 2,
   "id": "formal-heater",
   "metadata": {},
   "outputs": [],
   "source": [
    "df_obesity = pd.read_csv(\"obesity_cleaned.csv\")"
   ]
  },
  {
   "cell_type": "code",
   "execution_count": 3,
   "id": "2e5cd49f",
   "metadata": {},
   "outputs": [
    {
     "name": "stdout",
     "output_type": "stream",
     "text": [
      "<class 'pandas.core.frame.DataFrame'>\n",
      "RangeIndex: 24570 entries, 0 to 24569\n",
      "Data columns (total 5 columns):\n",
      " #   Column       Non-Null Count  Dtype \n",
      "---  ------       --------------  ----- \n",
      " 0   Unnamed: 0   24570 non-null  int64 \n",
      " 1   Country      24570 non-null  object\n",
      " 2   Year         24570 non-null  int64 \n",
      " 3   Obesity (%)  24570 non-null  object\n",
      " 4   Sex          24570 non-null  object\n",
      "dtypes: int64(2), object(3)\n",
      "memory usage: 959.9+ KB\n"
     ]
    }
   ],
   "source": [
    "df_obesity.info()"
   ]
  },
  {
   "cell_type": "markdown",
   "id": "divine-rebel",
   "metadata": {},
   "source": [
    "- Limpe os dados do DataFrame, criando uma coluna de nome 'Obesity' que conterá os valores de obesidade. Transforme em float as colunas que porventura foram importadas como string."
   ]
  },
  {
   "cell_type": "code",
   "execution_count": 4,
   "id": "cubic-minneapolis",
   "metadata": {},
   "outputs": [],
   "source": [
    "df_obesity['Obesity (%)'] = (\n",
    "    df_obesity['Obesity (%)']\n",
    "    .str.replace(r'\\[.*\\]', '', regex=True)  # Remove tudo dentro de colchetes\n",
    "    .str.replace('%', '')                    # Remove o símbolo %\n",
    "    .replace('N/A', 'NaN')           )        # Substitui 'N/A' por 'NaN'   "
   ]
  },
  {
   "cell_type": "code",
   "execution_count": 5,
   "id": "56ac6255",
   "metadata": {},
   "outputs": [],
   "source": [
    "df_obesity['Obesity (%)'] = pd.to_numeric(df_obesity['Obesity (%)'], errors='coerce') # Converte para float"
   ]
  },
  {
   "cell_type": "code",
   "execution_count": 6,
   "id": "13700664",
   "metadata": {},
   "outputs": [],
   "source": [
    "df_obesity['Obesity'] = df_obesity['Obesity (%)']"
   ]
  },
  {
   "cell_type": "markdown",
   "id": "voluntary-temperature",
   "metadata": {},
   "source": [
    "- Qual o percentual médio de obesidade por sexo no mundo no ano de 2015?"
   ]
  },
  {
   "cell_type": "code",
   "execution_count": 7,
   "id": "afraid-reminder",
   "metadata": {},
   "outputs": [],
   "source": [
    "df_obesity_2015 = df_obesity[df_obesity['Year'] == 2015]\n",
    "df_obesity_2015 = df_obesity_2015.groupby('Sex')['Obesity (%)'].mean().reset_index()"
   ]
  },
  {
   "cell_type": "code",
   "execution_count": 8,
   "id": "1ca99e1f",
   "metadata": {},
   "outputs": [
    {
     "data": {
      "application/vnd.microsoft.datawrangler.viewer.v0+json": {
       "columns": [
        {
         "name": "index",
         "rawType": "int64",
         "type": "integer"
        },
        {
         "name": "Sex",
         "rawType": "object",
         "type": "string"
        },
        {
         "name": "Obesity (%)",
         "rawType": "float64",
         "type": "float"
        }
       ],
       "conversionMethod": "pd.DataFrame",
       "ref": "60ed33eb-dcff-4451-8897-5dfead623b23",
       "rows": [
        [
         "0",
         "Both sexes",
         "19.508376963350784"
        ],
        [
         "1",
         "Female",
         "22.899476439790575"
        ],
        [
         "2",
         "Male",
         "15.98062827225131"
        ]
       ],
       "shape": {
        "columns": 2,
        "rows": 3
       }
      },
      "text/html": [
       "<div>\n",
       "<style scoped>\n",
       "    .dataframe tbody tr th:only-of-type {\n",
       "        vertical-align: middle;\n",
       "    }\n",
       "\n",
       "    .dataframe tbody tr th {\n",
       "        vertical-align: top;\n",
       "    }\n",
       "\n",
       "    .dataframe thead th {\n",
       "        text-align: right;\n",
       "    }\n",
       "</style>\n",
       "<table border=\"1\" class=\"dataframe\">\n",
       "  <thead>\n",
       "    <tr style=\"text-align: right;\">\n",
       "      <th></th>\n",
       "      <th>Sex</th>\n",
       "      <th>Obesity (%)</th>\n",
       "    </tr>\n",
       "  </thead>\n",
       "  <tbody>\n",
       "    <tr>\n",
       "      <th>0</th>\n",
       "      <td>Both sexes</td>\n",
       "      <td>19.508377</td>\n",
       "    </tr>\n",
       "    <tr>\n",
       "      <th>1</th>\n",
       "      <td>Female</td>\n",
       "      <td>22.899476</td>\n",
       "    </tr>\n",
       "    <tr>\n",
       "      <th>2</th>\n",
       "      <td>Male</td>\n",
       "      <td>15.980628</td>\n",
       "    </tr>\n",
       "  </tbody>\n",
       "</table>\n",
       "</div>"
      ],
      "text/plain": [
       "          Sex  Obesity (%)\n",
       "0  Both sexes    19.508377\n",
       "1      Female    22.899476\n",
       "2        Male    15.980628"
      ]
     },
     "execution_count": 8,
     "metadata": {},
     "output_type": "execute_result"
    }
   ],
   "source": [
    "df_obesity_2015"
   ]
  },
  {
   "cell_type": "markdown",
   "id": "expected-kruger",
   "metadata": {},
   "source": [
    "- Quais são os 5 países com a maior e a menor taxa de aumento nos índices de obesidade no período observado?"
   ]
  },
  {
   "cell_type": "code",
   "execution_count": null,
   "id": "phantom-going",
   "metadata": {},
   "outputs": [
    {
     "name": "stderr",
     "output_type": "stream",
     "text": [
      "C:\\Users\\alant\\AppData\\Local\\Temp\\ipykernel_18316\\3878199749.py:2: DeprecationWarning: DataFrameGroupBy.apply operated on the grouping columns. This behavior is deprecated, and in a future version of pandas the grouping columns will be excluded from the operation. Either pass `include_groups=False` to exclude the groupings or explicitly select the grouping columns after groupby to silence this warning.\n",
      "  df_by_country = df_by_country.groupby('Country').apply(lambda x: (x['Obesity (%)'].iloc[-3] - x['Obesity (%)'].iloc[0])).reset_index(name='Taxa de Aumento')\n"
     ]
    }
   ],
   "source": [
    "df_by_country = df_obesity.dropna(subset=['Obesity (%)']) # eliminando os NaN com .dropna\n",
    "df_by_country = df_by_country.groupby('Country').apply(lambda x: (x['Obesity (%)'].iloc[-3] - x['Obesity (%)'].iloc[0])).reset_index(name='Taxa de Aumento') # o -3 é para pegar Both Sexes no último ano."
   ]
  },
  {
   "cell_type": "code",
   "execution_count": 26,
   "id": "c4bd0bfa",
   "metadata": {},
   "outputs": [],
   "source": [
    "df_by_country = df_by_country.sort_values(by='Taxa de Aumento', ascending=False)"
   ]
  },
  {
   "cell_type": "code",
   "execution_count": 27,
   "id": "7a58962b",
   "metadata": {},
   "outputs": [],
   "source": [
    "df_by_country_top_5_head = df_by_country.head(5)\n",
    "df_by_country_top_5_tail = df_by_country.tail(5)"
   ]
  },
  {
   "cell_type": "code",
   "execution_count": 28,
   "id": "57386293",
   "metadata": {},
   "outputs": [
    {
     "data": {
      "application/vnd.microsoft.datawrangler.viewer.v0+json": {
       "columns": [
        {
         "name": "index",
         "rawType": "int64",
         "type": "integer"
        },
        {
         "name": "Country",
         "rawType": "object",
         "type": "string"
        },
        {
         "name": "Taxa de Aumento",
         "rawType": "float64",
         "type": "float"
        }
       ],
       "conversionMethod": "pd.DataFrame",
       "ref": "9dd14df7-858f-4f2b-aca4-58303b4bb04e",
       "rows": [
        [
         "176",
         "Tuvalu",
         "33.7"
        ],
        [
         "125",
         "Niue",
         "31.1"
        ],
        [
         "90",
         "Kiribati",
         "30.1"
        ],
        [
         "171",
         "Tonga",
         "28.300000000000004"
        ],
        [
         "39",
         "Cook Islands",
         "27.9"
        ]
       ],
       "shape": {
        "columns": 2,
        "rows": 5
       }
      },
      "text/html": [
       "<div>\n",
       "<style scoped>\n",
       "    .dataframe tbody tr th:only-of-type {\n",
       "        vertical-align: middle;\n",
       "    }\n",
       "\n",
       "    .dataframe tbody tr th {\n",
       "        vertical-align: top;\n",
       "    }\n",
       "\n",
       "    .dataframe thead th {\n",
       "        text-align: right;\n",
       "    }\n",
       "</style>\n",
       "<table border=\"1\" class=\"dataframe\">\n",
       "  <thead>\n",
       "    <tr style=\"text-align: right;\">\n",
       "      <th></th>\n",
       "      <th>Country</th>\n",
       "      <th>Taxa de Aumento</th>\n",
       "    </tr>\n",
       "  </thead>\n",
       "  <tbody>\n",
       "    <tr>\n",
       "      <th>176</th>\n",
       "      <td>Tuvalu</td>\n",
       "      <td>33.7</td>\n",
       "    </tr>\n",
       "    <tr>\n",
       "      <th>125</th>\n",
       "      <td>Niue</td>\n",
       "      <td>31.1</td>\n",
       "    </tr>\n",
       "    <tr>\n",
       "      <th>90</th>\n",
       "      <td>Kiribati</td>\n",
       "      <td>30.1</td>\n",
       "    </tr>\n",
       "    <tr>\n",
       "      <th>171</th>\n",
       "      <td>Tonga</td>\n",
       "      <td>28.3</td>\n",
       "    </tr>\n",
       "    <tr>\n",
       "      <th>39</th>\n",
       "      <td>Cook Islands</td>\n",
       "      <td>27.9</td>\n",
       "    </tr>\n",
       "  </tbody>\n",
       "</table>\n",
       "</div>"
      ],
      "text/plain": [
       "          Country  Taxa de Aumento\n",
       "176        Tuvalu             33.7\n",
       "125          Niue             31.1\n",
       "90       Kiribati             30.1\n",
       "171         Tonga             28.3\n",
       "39   Cook Islands             27.9"
      ]
     },
     "execution_count": 28,
     "metadata": {},
     "output_type": "execute_result"
    }
   ],
   "source": [
    "df_by_country_top_5_head"
   ]
  },
  {
   "cell_type": "code",
   "execution_count": 33,
   "id": "0cd24b0d",
   "metadata": {},
   "outputs": [
    {
     "data": {
      "application/vnd.microsoft.datawrangler.viewer.v0+json": {
       "columns": [
        {
         "name": "index",
         "rawType": "int64",
         "type": "integer"
        },
        {
         "name": "Country",
         "rawType": "object",
         "type": "string"
        },
        {
         "name": "Taxa de Aumento",
         "rawType": "float64",
         "type": "float"
        }
       ],
       "conversionMethod": "pd.DataFrame",
       "ref": "2f155d2e-9ffe-46e1-aab1-ba1e86a2415b",
       "rows": [
        [
         "169",
         "Timor-Leste",
         "3.5999999999999996"
        ],
        [
         "13",
         "Bangladesh",
         "3.4"
        ],
        [
         "86",
         "Japan",
         "3.3"
        ],
        [
         "154",
         "Singapore",
         "3.0999999999999996"
        ],
        [
         "187",
         "Viet Nam",
         "2.0"
        ]
       ],
       "shape": {
        "columns": 2,
        "rows": 5
       }
      },
      "text/html": [
       "<div>\n",
       "<style scoped>\n",
       "    .dataframe tbody tr th:only-of-type {\n",
       "        vertical-align: middle;\n",
       "    }\n",
       "\n",
       "    .dataframe tbody tr th {\n",
       "        vertical-align: top;\n",
       "    }\n",
       "\n",
       "    .dataframe thead th {\n",
       "        text-align: right;\n",
       "    }\n",
       "</style>\n",
       "<table border=\"1\" class=\"dataframe\">\n",
       "  <thead>\n",
       "    <tr style=\"text-align: right;\">\n",
       "      <th></th>\n",
       "      <th>Country</th>\n",
       "      <th>Taxa de Aumento</th>\n",
       "    </tr>\n",
       "  </thead>\n",
       "  <tbody>\n",
       "    <tr>\n",
       "      <th>169</th>\n",
       "      <td>Timor-Leste</td>\n",
       "      <td>3.6</td>\n",
       "    </tr>\n",
       "    <tr>\n",
       "      <th>13</th>\n",
       "      <td>Bangladesh</td>\n",
       "      <td>3.4</td>\n",
       "    </tr>\n",
       "    <tr>\n",
       "      <th>86</th>\n",
       "      <td>Japan</td>\n",
       "      <td>3.3</td>\n",
       "    </tr>\n",
       "    <tr>\n",
       "      <th>154</th>\n",
       "      <td>Singapore</td>\n",
       "      <td>3.1</td>\n",
       "    </tr>\n",
       "    <tr>\n",
       "      <th>187</th>\n",
       "      <td>Viet Nam</td>\n",
       "      <td>2.0</td>\n",
       "    </tr>\n",
       "  </tbody>\n",
       "</table>\n",
       "</div>"
      ],
      "text/plain": [
       "         Country  Taxa de Aumento\n",
       "169  Timor-Leste              3.6\n",
       "13    Bangladesh              3.4\n",
       "86         Japan              3.3\n",
       "154    Singapore              3.1\n",
       "187     Viet Nam              2.0"
      ]
     },
     "execution_count": 33,
     "metadata": {},
     "output_type": "execute_result"
    }
   ],
   "source": [
    "df_by_country_top_5_tail"
   ]
  },
  {
   "cell_type": "markdown",
   "id": "efficient-buyer",
   "metadata": {},
   "source": [
    "- Quais os países com maiores e menores níveis percetuais de obesidade em 2015?"
   ]
  },
  {
   "cell_type": "code",
   "execution_count": 34,
   "id": "violent-warren",
   "metadata": {},
   "outputs": [],
   "source": [
    "df_obesity_2015 = df_obesity[df_obesity['Year'] == 2015] # tive que refazer essa variavel pois dei um groupby em uma resposta la em cima\n",
    "\n",
    "df_countries_max_min = df_obesity_2015.groupby((df_obesity_2015['Sex'])).agg(\n",
    "    maior_tax = ('Obesity (%)', 'max'),\n",
    "    country_max_tax = ('Country', lambda x: x[df_obesity_2015.loc[x.index, 'Obesity (%)'].idxmax()]),\n",
    "    menor_tax = ('Obesity (%)', 'min'),\n",
    "    country_min_tax = ('Country', lambda x: x[df_obesity_2015.loc[x.index, 'Obesity (%)'].idxmin()])\n",
    ")"
   ]
  },
  {
   "cell_type": "code",
   "execution_count": 39,
   "id": "9dab9ef3",
   "metadata": {},
   "outputs": [
    {
     "data": {
      "application/vnd.microsoft.datawrangler.viewer.v0+json": {
       "columns": [
        {
         "name": "index",
         "rawType": "int64",
         "type": "integer"
        },
        {
         "name": "Unnamed: 0",
         "rawType": "int64",
         "type": "integer"
        },
        {
         "name": "Country",
         "rawType": "object",
         "type": "string"
        },
        {
         "name": "Year",
         "rawType": "int64",
         "type": "integer"
        },
        {
         "name": "Obesity (%)",
         "rawType": "float64",
         "type": "float"
        },
        {
         "name": "Sex",
         "rawType": "object",
         "type": "string"
        },
        {
         "name": "Obesity",
         "rawType": "float64",
         "type": "float"
        }
       ],
       "conversionMethod": "pd.DataFrame",
       "ref": "ef1c9b2d-ce8a-4a90-94e9-366b1eb69f06",
       "rows": [
        [
         "15116",
         "15116",
         "Nauru",
         "2015",
         "63.1",
         "Female",
         "63.1"
        ]
       ],
       "shape": {
        "columns": 6,
        "rows": 1
       }
      },
      "text/html": [
       "<div>\n",
       "<style scoped>\n",
       "    .dataframe tbody tr th:only-of-type {\n",
       "        vertical-align: middle;\n",
       "    }\n",
       "\n",
       "    .dataframe tbody tr th {\n",
       "        vertical-align: top;\n",
       "    }\n",
       "\n",
       "    .dataframe thead th {\n",
       "        text-align: right;\n",
       "    }\n",
       "</style>\n",
       "<table border=\"1\" class=\"dataframe\">\n",
       "  <thead>\n",
       "    <tr style=\"text-align: right;\">\n",
       "      <th></th>\n",
       "      <th>Unnamed: 0</th>\n",
       "      <th>Country</th>\n",
       "      <th>Year</th>\n",
       "      <th>Obesity (%)</th>\n",
       "      <th>Sex</th>\n",
       "      <th>Obesity</th>\n",
       "    </tr>\n",
       "  </thead>\n",
       "  <tbody>\n",
       "    <tr>\n",
       "      <th>15116</th>\n",
       "      <td>15116</td>\n",
       "      <td>Nauru</td>\n",
       "      <td>2015</td>\n",
       "      <td>63.1</td>\n",
       "      <td>Female</td>\n",
       "      <td>63.1</td>\n",
       "    </tr>\n",
       "  </tbody>\n",
       "</table>\n",
       "</div>"
      ],
      "text/plain": [
       "       Unnamed: 0 Country  Year  Obesity (%)     Sex  Obesity\n",
       "15116       15116   Nauru  2015         63.1  Female     63.1"
      ]
     },
     "execution_count": 39,
     "metadata": {},
     "output_type": "execute_result"
    }
   ],
   "source": [
    "df_obesity_2015[(df_obesity_2015[\"Obesity (%)\"] == df_obesity_2015[\"Obesity (%)\"].max())]"
   ]
  },
  {
   "cell_type": "code",
   "execution_count": 40,
   "id": "bf21581d",
   "metadata": {},
   "outputs": [
    {
     "data": {
      "application/vnd.microsoft.datawrangler.viewer.v0+json": {
       "columns": [
        {
         "name": "index",
         "rawType": "int64",
         "type": "integer"
        },
        {
         "name": "Unnamed: 0",
         "rawType": "int64",
         "type": "integer"
        },
        {
         "name": "Country",
         "rawType": "object",
         "type": "string"
        },
        {
         "name": "Year",
         "rawType": "int64",
         "type": "integer"
        },
        {
         "name": "Obesity (%)",
         "rawType": "float64",
         "type": "float"
        },
        {
         "name": "Sex",
         "rawType": "object",
         "type": "string"
        },
        {
         "name": "Obesity",
         "rawType": "float64",
         "type": "float"
        }
       ],
       "conversionMethod": "pd.DataFrame",
       "ref": "40e49174-07d4-462f-835d-c471fa94a773",
       "rows": [
        [
         "24187",
         "24187",
         "Viet Nam",
         "2015",
         "1.5",
         "Male",
         "1.5"
        ]
       ],
       "shape": {
        "columns": 6,
        "rows": 1
       }
      },
      "text/html": [
       "<div>\n",
       "<style scoped>\n",
       "    .dataframe tbody tr th:only-of-type {\n",
       "        vertical-align: middle;\n",
       "    }\n",
       "\n",
       "    .dataframe tbody tr th {\n",
       "        vertical-align: top;\n",
       "    }\n",
       "\n",
       "    .dataframe thead th {\n",
       "        text-align: right;\n",
       "    }\n",
       "</style>\n",
       "<table border=\"1\" class=\"dataframe\">\n",
       "  <thead>\n",
       "    <tr style=\"text-align: right;\">\n",
       "      <th></th>\n",
       "      <th>Unnamed: 0</th>\n",
       "      <th>Country</th>\n",
       "      <th>Year</th>\n",
       "      <th>Obesity (%)</th>\n",
       "      <th>Sex</th>\n",
       "      <th>Obesity</th>\n",
       "    </tr>\n",
       "  </thead>\n",
       "  <tbody>\n",
       "    <tr>\n",
       "      <th>24187</th>\n",
       "      <td>24187</td>\n",
       "      <td>Viet Nam</td>\n",
       "      <td>2015</td>\n",
       "      <td>1.5</td>\n",
       "      <td>Male</td>\n",
       "      <td>1.5</td>\n",
       "    </tr>\n",
       "  </tbody>\n",
       "</table>\n",
       "</div>"
      ],
      "text/plain": [
       "       Unnamed: 0   Country  Year  Obesity (%)   Sex  Obesity\n",
       "24187       24187  Viet Nam  2015          1.5  Male      1.5"
      ]
     },
     "execution_count": 40,
     "metadata": {},
     "output_type": "execute_result"
    }
   ],
   "source": [
    "df_obesity_2015[df_obesity_2015[\"Obesity (%)\"] == df_obesity_2015[\"Obesity (%)\"].min()]"
   ]
  },
  {
   "cell_type": "markdown",
   "id": "average-holiday",
   "metadata": {},
   "source": [
    "- Qual a diferença média percentual de obesidade entre sexos ao longo dos anos para o Brasil?"
   ]
  },
  {
   "cell_type": "code",
   "execution_count": 41,
   "id": "later-occurrence",
   "metadata": {},
   "outputs": [],
   "source": [
    "df_obesity_in_brasil = df_obesity[df_obesity['Country'] == 'Brazil']\n",
    "df_obesity_in_brasil_per_year = df_obesity_in_brasil.groupby(['Year', 'Sex'])['Obesity (%)'].mean().unstack().reset_index()"
   ]
  },
  {
   "cell_type": "code",
   "execution_count": 20,
   "id": "1ce9af6e",
   "metadata": {},
   "outputs": [
    {
     "data": {
      "application/vnd.microsoft.datawrangler.viewer.v0+json": {
       "columns": [
        {
         "name": "index",
         "rawType": "int64",
         "type": "integer"
        },
        {
         "name": "Year",
         "rawType": "int64",
         "type": "integer"
        },
        {
         "name": "Both sexes",
         "rawType": "float64",
         "type": "float"
        },
        {
         "name": "Female",
         "rawType": "float64",
         "type": "float"
        },
        {
         "name": "Male",
         "rawType": "float64",
         "type": "float"
        }
       ],
       "conversionMethod": "pd.DataFrame",
       "ref": "50ba544f-b823-40eb-aabe-db7edb66bd62",
       "rows": [
        [
         "0",
         "1975",
         "5.2",
         "7.3",
         "3.0"
        ],
        [
         "1",
         "1976",
         "5.5",
         "7.6",
         "3.2"
        ],
        [
         "2",
         "1977",
         "5.7",
         "8.0",
         "3.4"
        ],
        [
         "3",
         "1978",
         "6.0",
         "8.3",
         "3.6"
        ],
        [
         "4",
         "1979",
         "6.3",
         "8.7",
         "3.8"
        ],
        [
         "5",
         "1980",
         "6.6",
         "9.0",
         "4.1"
        ],
        [
         "6",
         "1981",
         "6.9",
         "9.4",
         "4.3"
        ],
        [
         "7",
         "1982",
         "7.2",
         "9.8",
         "4.6"
        ],
        [
         "8",
         "1983",
         "7.6",
         "10.2",
         "4.8"
        ],
        [
         "9",
         "1984",
         "7.9",
         "10.6",
         "5.1"
        ],
        [
         "10",
         "1985",
         "8.3",
         "11.0",
         "5.4"
        ],
        [
         "11",
         "1986",
         "8.6",
         "11.4",
         "5.7"
        ],
        [
         "12",
         "1987",
         "9.0",
         "11.8",
         "6.0"
        ],
        [
         "13",
         "1988",
         "9.4",
         "12.2",
         "6.3"
        ],
        [
         "14",
         "1989",
         "9.8",
         "12.7",
         "6.7"
        ],
        [
         "15",
         "1990",
         "10.2",
         "13.1",
         "7.0"
        ],
        [
         "16",
         "1991",
         "10.6",
         "13.5",
         "7.4"
        ],
        [
         "17",
         "1992",
         "11.0",
         "14.0",
         "7.7"
        ],
        [
         "18",
         "1993",
         "11.4",
         "14.4",
         "8.1"
        ],
        [
         "19",
         "1994",
         "11.8",
         "14.9",
         "8.5"
        ],
        [
         "20",
         "1995",
         "12.2",
         "15.3",
         "8.9"
        ],
        [
         "21",
         "1996",
         "12.7",
         "15.8",
         "9.3"
        ],
        [
         "22",
         "1997",
         "13.1",
         "16.3",
         "9.7"
        ],
        [
         "23",
         "1998",
         "13.6",
         "16.8",
         "10.1"
        ],
        [
         "24",
         "1999",
         "14.1",
         "17.3",
         "10.5"
        ],
        [
         "25",
         "2000",
         "14.5",
         "17.8",
         "11.0"
        ],
        [
         "26",
         "2001",
         "15.0",
         "18.2",
         "11.4"
        ],
        [
         "27",
         "2002",
         "15.5",
         "18.7",
         "11.9"
        ],
        [
         "28",
         "2003",
         "15.9",
         "19.2",
         "12.3"
        ],
        [
         "29",
         "2004",
         "16.4",
         "19.7",
         "12.8"
        ],
        [
         "30",
         "2005",
         "16.8",
         "20.1",
         "13.2"
        ],
        [
         "31",
         "2006",
         "17.3",
         "20.6",
         "13.7"
        ],
        [
         "32",
         "2007",
         "17.8",
         "21.1",
         "14.1"
        ],
        [
         "33",
         "2008",
         "18.2",
         "21.5",
         "14.6"
        ],
        [
         "34",
         "2009",
         "18.7",
         "22.0",
         "15.0"
        ],
        [
         "35",
         "2010",
         "19.2",
         "22.5",
         "15.5"
        ],
        [
         "36",
         "2011",
         "19.6",
         "22.9",
         "16.0"
        ],
        [
         "37",
         "2012",
         "20.1",
         "23.4",
         "16.5"
        ],
        [
         "38",
         "2013",
         "20.6",
         "23.9",
         "17.0"
        ],
        [
         "39",
         "2014",
         "21.1",
         "24.4",
         "17.5"
        ],
        [
         "40",
         "2015",
         "21.6",
         "24.9",
         "18.0"
        ],
        [
         "41",
         "2016",
         "22.1",
         "25.4",
         "18.5"
        ]
       ],
       "shape": {
        "columns": 4,
        "rows": 42
       }
      },
      "text/html": [
       "<div>\n",
       "<style scoped>\n",
       "    .dataframe tbody tr th:only-of-type {\n",
       "        vertical-align: middle;\n",
       "    }\n",
       "\n",
       "    .dataframe tbody tr th {\n",
       "        vertical-align: top;\n",
       "    }\n",
       "\n",
       "    .dataframe thead th {\n",
       "        text-align: right;\n",
       "    }\n",
       "</style>\n",
       "<table border=\"1\" class=\"dataframe\">\n",
       "  <thead>\n",
       "    <tr style=\"text-align: right;\">\n",
       "      <th>Sex</th>\n",
       "      <th>Year</th>\n",
       "      <th>Both sexes</th>\n",
       "      <th>Female</th>\n",
       "      <th>Male</th>\n",
       "    </tr>\n",
       "  </thead>\n",
       "  <tbody>\n",
       "    <tr>\n",
       "      <th>0</th>\n",
       "      <td>1975</td>\n",
       "      <td>5.2</td>\n",
       "      <td>7.3</td>\n",
       "      <td>3.0</td>\n",
       "    </tr>\n",
       "    <tr>\n",
       "      <th>1</th>\n",
       "      <td>1976</td>\n",
       "      <td>5.5</td>\n",
       "      <td>7.6</td>\n",
       "      <td>3.2</td>\n",
       "    </tr>\n",
       "    <tr>\n",
       "      <th>2</th>\n",
       "      <td>1977</td>\n",
       "      <td>5.7</td>\n",
       "      <td>8.0</td>\n",
       "      <td>3.4</td>\n",
       "    </tr>\n",
       "    <tr>\n",
       "      <th>3</th>\n",
       "      <td>1978</td>\n",
       "      <td>6.0</td>\n",
       "      <td>8.3</td>\n",
       "      <td>3.6</td>\n",
       "    </tr>\n",
       "    <tr>\n",
       "      <th>4</th>\n",
       "      <td>1979</td>\n",
       "      <td>6.3</td>\n",
       "      <td>8.7</td>\n",
       "      <td>3.8</td>\n",
       "    </tr>\n",
       "    <tr>\n",
       "      <th>5</th>\n",
       "      <td>1980</td>\n",
       "      <td>6.6</td>\n",
       "      <td>9.0</td>\n",
       "      <td>4.1</td>\n",
       "    </tr>\n",
       "    <tr>\n",
       "      <th>6</th>\n",
       "      <td>1981</td>\n",
       "      <td>6.9</td>\n",
       "      <td>9.4</td>\n",
       "      <td>4.3</td>\n",
       "    </tr>\n",
       "    <tr>\n",
       "      <th>7</th>\n",
       "      <td>1982</td>\n",
       "      <td>7.2</td>\n",
       "      <td>9.8</td>\n",
       "      <td>4.6</td>\n",
       "    </tr>\n",
       "    <tr>\n",
       "      <th>8</th>\n",
       "      <td>1983</td>\n",
       "      <td>7.6</td>\n",
       "      <td>10.2</td>\n",
       "      <td>4.8</td>\n",
       "    </tr>\n",
       "    <tr>\n",
       "      <th>9</th>\n",
       "      <td>1984</td>\n",
       "      <td>7.9</td>\n",
       "      <td>10.6</td>\n",
       "      <td>5.1</td>\n",
       "    </tr>\n",
       "    <tr>\n",
       "      <th>10</th>\n",
       "      <td>1985</td>\n",
       "      <td>8.3</td>\n",
       "      <td>11.0</td>\n",
       "      <td>5.4</td>\n",
       "    </tr>\n",
       "    <tr>\n",
       "      <th>11</th>\n",
       "      <td>1986</td>\n",
       "      <td>8.6</td>\n",
       "      <td>11.4</td>\n",
       "      <td>5.7</td>\n",
       "    </tr>\n",
       "    <tr>\n",
       "      <th>12</th>\n",
       "      <td>1987</td>\n",
       "      <td>9.0</td>\n",
       "      <td>11.8</td>\n",
       "      <td>6.0</td>\n",
       "    </tr>\n",
       "    <tr>\n",
       "      <th>13</th>\n",
       "      <td>1988</td>\n",
       "      <td>9.4</td>\n",
       "      <td>12.2</td>\n",
       "      <td>6.3</td>\n",
       "    </tr>\n",
       "    <tr>\n",
       "      <th>14</th>\n",
       "      <td>1989</td>\n",
       "      <td>9.8</td>\n",
       "      <td>12.7</td>\n",
       "      <td>6.7</td>\n",
       "    </tr>\n",
       "    <tr>\n",
       "      <th>15</th>\n",
       "      <td>1990</td>\n",
       "      <td>10.2</td>\n",
       "      <td>13.1</td>\n",
       "      <td>7.0</td>\n",
       "    </tr>\n",
       "    <tr>\n",
       "      <th>16</th>\n",
       "      <td>1991</td>\n",
       "      <td>10.6</td>\n",
       "      <td>13.5</td>\n",
       "      <td>7.4</td>\n",
       "    </tr>\n",
       "    <tr>\n",
       "      <th>17</th>\n",
       "      <td>1992</td>\n",
       "      <td>11.0</td>\n",
       "      <td>14.0</td>\n",
       "      <td>7.7</td>\n",
       "    </tr>\n",
       "    <tr>\n",
       "      <th>18</th>\n",
       "      <td>1993</td>\n",
       "      <td>11.4</td>\n",
       "      <td>14.4</td>\n",
       "      <td>8.1</td>\n",
       "    </tr>\n",
       "    <tr>\n",
       "      <th>19</th>\n",
       "      <td>1994</td>\n",
       "      <td>11.8</td>\n",
       "      <td>14.9</td>\n",
       "      <td>8.5</td>\n",
       "    </tr>\n",
       "    <tr>\n",
       "      <th>20</th>\n",
       "      <td>1995</td>\n",
       "      <td>12.2</td>\n",
       "      <td>15.3</td>\n",
       "      <td>8.9</td>\n",
       "    </tr>\n",
       "    <tr>\n",
       "      <th>21</th>\n",
       "      <td>1996</td>\n",
       "      <td>12.7</td>\n",
       "      <td>15.8</td>\n",
       "      <td>9.3</td>\n",
       "    </tr>\n",
       "    <tr>\n",
       "      <th>22</th>\n",
       "      <td>1997</td>\n",
       "      <td>13.1</td>\n",
       "      <td>16.3</td>\n",
       "      <td>9.7</td>\n",
       "    </tr>\n",
       "    <tr>\n",
       "      <th>23</th>\n",
       "      <td>1998</td>\n",
       "      <td>13.6</td>\n",
       "      <td>16.8</td>\n",
       "      <td>10.1</td>\n",
       "    </tr>\n",
       "    <tr>\n",
       "      <th>24</th>\n",
       "      <td>1999</td>\n",
       "      <td>14.1</td>\n",
       "      <td>17.3</td>\n",
       "      <td>10.5</td>\n",
       "    </tr>\n",
       "    <tr>\n",
       "      <th>25</th>\n",
       "      <td>2000</td>\n",
       "      <td>14.5</td>\n",
       "      <td>17.8</td>\n",
       "      <td>11.0</td>\n",
       "    </tr>\n",
       "    <tr>\n",
       "      <th>26</th>\n",
       "      <td>2001</td>\n",
       "      <td>15.0</td>\n",
       "      <td>18.2</td>\n",
       "      <td>11.4</td>\n",
       "    </tr>\n",
       "    <tr>\n",
       "      <th>27</th>\n",
       "      <td>2002</td>\n",
       "      <td>15.5</td>\n",
       "      <td>18.7</td>\n",
       "      <td>11.9</td>\n",
       "    </tr>\n",
       "    <tr>\n",
       "      <th>28</th>\n",
       "      <td>2003</td>\n",
       "      <td>15.9</td>\n",
       "      <td>19.2</td>\n",
       "      <td>12.3</td>\n",
       "    </tr>\n",
       "    <tr>\n",
       "      <th>29</th>\n",
       "      <td>2004</td>\n",
       "      <td>16.4</td>\n",
       "      <td>19.7</td>\n",
       "      <td>12.8</td>\n",
       "    </tr>\n",
       "    <tr>\n",
       "      <th>30</th>\n",
       "      <td>2005</td>\n",
       "      <td>16.8</td>\n",
       "      <td>20.1</td>\n",
       "      <td>13.2</td>\n",
       "    </tr>\n",
       "    <tr>\n",
       "      <th>31</th>\n",
       "      <td>2006</td>\n",
       "      <td>17.3</td>\n",
       "      <td>20.6</td>\n",
       "      <td>13.7</td>\n",
       "    </tr>\n",
       "    <tr>\n",
       "      <th>32</th>\n",
       "      <td>2007</td>\n",
       "      <td>17.8</td>\n",
       "      <td>21.1</td>\n",
       "      <td>14.1</td>\n",
       "    </tr>\n",
       "    <tr>\n",
       "      <th>33</th>\n",
       "      <td>2008</td>\n",
       "      <td>18.2</td>\n",
       "      <td>21.5</td>\n",
       "      <td>14.6</td>\n",
       "    </tr>\n",
       "    <tr>\n",
       "      <th>34</th>\n",
       "      <td>2009</td>\n",
       "      <td>18.7</td>\n",
       "      <td>22.0</td>\n",
       "      <td>15.0</td>\n",
       "    </tr>\n",
       "    <tr>\n",
       "      <th>35</th>\n",
       "      <td>2010</td>\n",
       "      <td>19.2</td>\n",
       "      <td>22.5</td>\n",
       "      <td>15.5</td>\n",
       "    </tr>\n",
       "    <tr>\n",
       "      <th>36</th>\n",
       "      <td>2011</td>\n",
       "      <td>19.6</td>\n",
       "      <td>22.9</td>\n",
       "      <td>16.0</td>\n",
       "    </tr>\n",
       "    <tr>\n",
       "      <th>37</th>\n",
       "      <td>2012</td>\n",
       "      <td>20.1</td>\n",
       "      <td>23.4</td>\n",
       "      <td>16.5</td>\n",
       "    </tr>\n",
       "    <tr>\n",
       "      <th>38</th>\n",
       "      <td>2013</td>\n",
       "      <td>20.6</td>\n",
       "      <td>23.9</td>\n",
       "      <td>17.0</td>\n",
       "    </tr>\n",
       "    <tr>\n",
       "      <th>39</th>\n",
       "      <td>2014</td>\n",
       "      <td>21.1</td>\n",
       "      <td>24.4</td>\n",
       "      <td>17.5</td>\n",
       "    </tr>\n",
       "    <tr>\n",
       "      <th>40</th>\n",
       "      <td>2015</td>\n",
       "      <td>21.6</td>\n",
       "      <td>24.9</td>\n",
       "      <td>18.0</td>\n",
       "    </tr>\n",
       "    <tr>\n",
       "      <th>41</th>\n",
       "      <td>2016</td>\n",
       "      <td>22.1</td>\n",
       "      <td>25.4</td>\n",
       "      <td>18.5</td>\n",
       "    </tr>\n",
       "  </tbody>\n",
       "</table>\n",
       "</div>"
      ],
      "text/plain": [
       "Sex  Year  Both sexes  Female  Male\n",
       "0    1975         5.2     7.3   3.0\n",
       "1    1976         5.5     7.6   3.2\n",
       "2    1977         5.7     8.0   3.4\n",
       "3    1978         6.0     8.3   3.6\n",
       "4    1979         6.3     8.7   3.8\n",
       "5    1980         6.6     9.0   4.1\n",
       "6    1981         6.9     9.4   4.3\n",
       "7    1982         7.2     9.8   4.6\n",
       "8    1983         7.6    10.2   4.8\n",
       "9    1984         7.9    10.6   5.1\n",
       "10   1985         8.3    11.0   5.4\n",
       "11   1986         8.6    11.4   5.7\n",
       "12   1987         9.0    11.8   6.0\n",
       "13   1988         9.4    12.2   6.3\n",
       "14   1989         9.8    12.7   6.7\n",
       "15   1990        10.2    13.1   7.0\n",
       "16   1991        10.6    13.5   7.4\n",
       "17   1992        11.0    14.0   7.7\n",
       "18   1993        11.4    14.4   8.1\n",
       "19   1994        11.8    14.9   8.5\n",
       "20   1995        12.2    15.3   8.9\n",
       "21   1996        12.7    15.8   9.3\n",
       "22   1997        13.1    16.3   9.7\n",
       "23   1998        13.6    16.8  10.1\n",
       "24   1999        14.1    17.3  10.5\n",
       "25   2000        14.5    17.8  11.0\n",
       "26   2001        15.0    18.2  11.4\n",
       "27   2002        15.5    18.7  11.9\n",
       "28   2003        15.9    19.2  12.3\n",
       "29   2004        16.4    19.7  12.8\n",
       "30   2005        16.8    20.1  13.2\n",
       "31   2006        17.3    20.6  13.7\n",
       "32   2007        17.8    21.1  14.1\n",
       "33   2008        18.2    21.5  14.6\n",
       "34   2009        18.7    22.0  15.0\n",
       "35   2010        19.2    22.5  15.5\n",
       "36   2011        19.6    22.9  16.0\n",
       "37   2012        20.1    23.4  16.5\n",
       "38   2013        20.6    23.9  17.0\n",
       "39   2014        21.1    24.4  17.5\n",
       "40   2015        21.6    24.9  18.0\n",
       "41   2016        22.1    25.4  18.5"
      ]
     },
     "execution_count": 20,
     "metadata": {},
     "output_type": "execute_result"
    }
   ],
   "source": [
    "df_obesity_in_brasil_per_year"
   ]
  },
  {
   "cell_type": "code",
   "execution_count": 48,
   "id": "107a95a2",
   "metadata": {},
   "outputs": [
    {
     "data": {
      "text/plain": [
       "<Axes: xlabel='Year'>"
      ]
     },
     "execution_count": 48,
     "metadata": {},
     "output_type": "execute_result"
    },
    {
     "data": {
      "image/png": "[encoded data removed]",
      "text/plain": [
       "<Figure size 640x480 with 1 Axes>"
      ]
     },
     "metadata": {},
     "output_type": "display_data"
    }
   ],
   "source": [
    "df_obesity_in_brasil_per_year.plot(x='Year', y='Male') # forma mais fácil de mostrar"
   ]
  },
  {
   "cell_type": "code",
   "execution_count": 21,
   "id": "1ad52d12",
   "metadata": {},
   "outputs": [],
   "source": [
    "df_obesity_in_brasil_per_year['Diferença entre sexos (%) (M - F)'] = round((df_obesity_in_brasil_per_year['Male'] - df_obesity_in_brasil_per_year['Female']), 2)\n",
    "df_obesity_in_brasil_per_year = df_obesity_in_brasil_per_year.rename(\n",
    "    columns={'Male': 'Obesity Male (%)', 'Female': 'Obesity Female (%)', 'Both sexes': 'Obesity Both (%)'}\n",
    ")"
   ]
  },
  {
   "cell_type": "markdown",
   "id": "rising-exhaust",
   "metadata": {},
   "source": [
    "- Você conseguiria plotar um gráfico mostrando a evolução da obesidade para ambos sexos no mundo?"
   ]
  },
  {
   "cell_type": "code",
   "execution_count": 22,
   "id": "senior-recruitment",
   "metadata": {},
   "outputs": [],
   "source": [
    "df_obesity_in_world_per_year = df_obesity.groupby(['Year', 'Sex'])['Obesity (%)'].mean().unstack().reset_index()"
   ]
  },
  {
   "cell_type": "code",
   "execution_count": 23,
   "id": "57452065",
   "metadata": {},
   "outputs": [
    {
     "data": {
      "application/vnd.microsoft.datawrangler.viewer.v0+json": {
       "columns": [
        {
         "name": "index",
         "rawType": "int64",
         "type": "integer"
        },
        {
         "name": "Year",
         "rawType": "int64",
         "type": "integer"
        },
        {
         "name": "Both sexes",
         "rawType": "float64",
         "type": "float"
        },
        {
         "name": "Female",
         "rawType": "float64",
         "type": "float"
        },
        {
         "name": "Male",
         "rawType": "float64",
         "type": "float"
        }
       ],
       "conversionMethod": "pd.DataFrame",
       "ref": "fbf3be0a-e18b-494a-bcd5-155fea775220",
       "rows": [
        [
         "0",
         "1975",
         "6.510994764397905",
         "8.850261780104713",
         "4.076439790575916"
        ],
        [
         "1",
         "1976",
         "6.737696335078534",
         "9.120418848167539",
         "4.2518324607329845"
        ],
        [
         "2",
         "1977",
         "6.962303664921466",
         "9.396858638743455",
         "4.4272251308900525"
        ],
        [
         "3",
         "1978",
         "7.193717277486911",
         "9.67696335078534",
         "4.612565445026178"
        ],
        [
         "4",
         "1979",
         "7.430890052356021",
         "9.963350785340314",
         "4.805235602094241"
        ],
        [
         "5",
         "1980",
         "7.676439790575916",
         "10.256020942408377",
         "5.002094240837696"
        ],
        [
         "6",
         "1981",
         "7.9235602094240845",
         "10.552356020942408",
         "5.205759162303664"
        ],
        [
         "7",
         "1982",
         "8.181151832460733",
         "10.850261780104713",
         "5.4214659685863875"
        ],
        [
         "8",
         "1983",
         "8.434031413612566",
         "11.159162303664923",
         "5.63717277486911"
        ],
        [
         "9",
         "1984",
         "8.709947643979056",
         "11.465445026178012",
         "5.858115183246074"
        ],
        [
         "10",
         "1985",
         "8.97958115183246",
         "11.779581151832462",
         "6.0900523560209425"
        ],
        [
         "11",
         "1986",
         "9.256020942408377",
         "12.095811518324608",
         "6.328795811518324"
        ],
        [
         "12",
         "1987",
         "9.537696335078534",
         "12.41780104712042",
         "6.571727748691099"
        ],
        [
         "13",
         "1988",
         "9.828272251308901",
         "12.741884816753926",
         "6.819371727748691"
        ],
        [
         "14",
         "1989",
         "10.114659685863876",
         "13.073298429319372",
         "7.0785340314136125"
        ],
        [
         "15",
         "1990",
         "10.414659685863874",
         "13.404712041884817",
         "7.342408376963351"
        ],
        [
         "16",
         "1991",
         "10.716230366492146",
         "13.739790575916231",
         "7.606282722513089"
        ],
        [
         "17",
         "1992",
         "11.018324607329843",
         "14.075916230366492",
         "7.878010471204188"
        ],
        [
         "18",
         "1993",
         "11.319895287958115",
         "14.410471204188482",
         "8.153926701570681"
        ],
        [
         "19",
         "1994",
         "11.62565445026178",
         "14.747120418848166",
         "8.43717277486911"
        ],
        [
         "20",
         "1995",
         "11.935602094240837",
         "15.09005235602094",
         "8.724607329842932"
        ],
        [
         "21",
         "1996",
         "12.260732984293195",
         "15.433507853403142",
         "9.014659685863874"
        ],
        [
         "22",
         "1997",
         "12.58324607329843",
         "15.77696335078534",
         "9.309424083769633"
        ],
        [
         "23",
         "1998",
         "12.91413612565445",
         "16.12565445026178",
         "9.616230366492147"
        ],
        [
         "24",
         "1999",
         "13.256020942408377",
         "16.478534031413613",
         "9.923560209424084"
        ],
        [
         "25",
         "2000",
         "13.596858638743456",
         "16.838743455497383",
         "10.241884816753927"
        ],
        [
         "26",
         "2001",
         "13.937696335078533",
         "17.20366492146597",
         "10.564921465968586"
        ],
        [
         "27",
         "2002",
         "14.283769633507852",
         "17.577486910994764",
         "10.895811518324606"
        ],
        [
         "28",
         "2003",
         "14.642931937172776",
         "17.95130890052356",
         "11.23717277486911"
        ],
        [
         "29",
         "2004",
         "15.015706806282722",
         "18.334031413612568",
         "11.58586387434555"
        ],
        [
         "30",
         "2005",
         "15.379057591623036",
         "18.719895287958114",
         "11.94502617801047"
        ],
        [
         "31",
         "2006",
         "15.751832460732984",
         "19.117277486910996",
         "12.303664921465968"
        ],
        [
         "32",
         "2007",
         "16.150785340314137",
         "19.514659685863876",
         "12.676963350785341"
        ],
        [
         "33",
         "2008",
         "16.54240837696335",
         "19.916230366492147",
         "13.06282722513089"
        ],
        [
         "34",
         "2009",
         "16.939267015706807",
         "20.32565445026178",
         "13.44869109947644"
        ],
        [
         "35",
         "2010",
         "17.349214659685863",
         "20.740837696335078",
         "13.847643979057592"
        ],
        [
         "36",
         "2011",
         "17.763874345549738",
         "21.164397905759163",
         "14.254973821989529"
        ],
        [
         "37",
         "2012",
         "18.178534031413612",
         "21.589005235602095",
         "14.672251308900524"
        ],
        [
         "38",
         "2013",
         "18.609424083769635",
         "22.02198952879581",
         "15.097382198952879"
        ],
        [
         "39",
         "2014",
         "19.043979057591624",
         "22.457068062827226",
         "15.534031413612565"
        ],
        [
         "40",
         "2015",
         "19.508376963350784",
         "22.899476439790575",
         "15.98062827225131"
        ],
        [
         "41",
         "2016",
         "19.960732984293195",
         "23.35026178010471",
         "16.442931937172773"
        ]
       ],
       "shape": {
        "columns": 4,
        "rows": 42
       }
      },
      "text/html": [
       "<div>\n",
       "<style scoped>\n",
       "    .dataframe tbody tr th:only-of-type {\n",
       "        vertical-align: middle;\n",
       "    }\n",
       "\n",
       "    .dataframe tbody tr th {\n",
       "        vertical-align: top;\n",
       "    }\n",
       "\n",
       "    .dataframe thead th {\n",
       "        text-align: right;\n",
       "    }\n",
       "</style>\n",
       "<table border=\"1\" class=\"dataframe\">\n",
       "  <thead>\n",
       "    <tr style=\"text-align: right;\">\n",
       "      <th>Sex</th>\n",
       "      <th>Year</th>\n",
       "      <th>Both sexes</th>\n",
       "      <th>Female</th>\n",
       "      <th>Male</th>\n",
       "    </tr>\n",
       "  </thead>\n",
       "  <tbody>\n",
       "    <tr>\n",
       "      <th>0</th>\n",
       "      <td>1975</td>\n",
       "      <td>6.510995</td>\n",
       "      <td>8.850262</td>\n",
       "      <td>4.076440</td>\n",
       "    </tr>\n",
       "    <tr>\n",
       "      <th>1</th>\n",
       "      <td>1976</td>\n",
       "      <td>6.737696</td>\n",
       "      <td>9.120419</td>\n",
       "      <td>4.251832</td>\n",
       "    </tr>\n",
       "    <tr>\n",
       "      <th>2</th>\n",
       "      <td>1977</td>\n",
       "      <td>6.962304</td>\n",
       "      <td>9.396859</td>\n",
       "      <td>4.427225</td>\n",
       "    </tr>\n",
       "    <tr>\n",
       "      <th>3</th>\n",
       "      <td>1978</td>\n",
       "      <td>7.193717</td>\n",
       "      <td>9.676963</td>\n",
       "      <td>4.612565</td>\n",
       "    </tr>\n",
       "    <tr>\n",
       "      <th>4</th>\n",
       "      <td>1979</td>\n",
       "      <td>7.430890</td>\n",
       "      <td>9.963351</td>\n",
       "      <td>4.805236</td>\n",
       "    </tr>\n",
       "    <tr>\n",
       "      <th>5</th>\n",
       "      <td>1980</td>\n",
       "      <td>7.676440</td>\n",
       "      <td>10.256021</td>\n",
       "      <td>5.002094</td>\n",
       "    </tr>\n",
       "    <tr>\n",
       "      <th>6</th>\n",
       "      <td>1981</td>\n",
       "      <td>7.923560</td>\n",
       "      <td>10.552356</td>\n",
       "      <td>5.205759</td>\n",
       "    </tr>\n",
       "    <tr>\n",
       "      <th>7</th>\n",
       "      <td>1982</td>\n",
       "      <td>8.181152</td>\n",
       "      <td>10.850262</td>\n",
       "      <td>5.421466</td>\n",
       "    </tr>\n",
       "    <tr>\n",
       "      <th>8</th>\n",
       "      <td>1983</td>\n",
       "      <td>8.434031</td>\n",
       "      <td>11.159162</td>\n",
       "      <td>5.637173</td>\n",
       "    </tr>\n",
       "    <tr>\n",
       "      <th>9</th>\n",
       "      <td>1984</td>\n",
       "      <td>8.709948</td>\n",
       "      <td>11.465445</td>\n",
       "      <td>5.858115</td>\n",
       "    </tr>\n",
       "    <tr>\n",
       "      <th>10</th>\n",
       "      <td>1985</td>\n",
       "      <td>8.979581</td>\n",
       "      <td>11.779581</td>\n",
       "      <td>6.090052</td>\n",
       "    </tr>\n",
       "    <tr>\n",
       "      <th>11</th>\n",
       "      <td>1986</td>\n",
       "      <td>9.256021</td>\n",
       "      <td>12.095812</td>\n",
       "      <td>6.328796</td>\n",
       "    </tr>\n",
       "    <tr>\n",
       "      <th>12</th>\n",
       "      <td>1987</td>\n",
       "      <td>9.537696</td>\n",
       "      <td>12.417801</td>\n",
       "      <td>6.571728</td>\n",
       "    </tr>\n",
       "    <tr>\n",
       "      <th>13</th>\n",
       "      <td>1988</td>\n",
       "      <td>9.828272</td>\n",
       "      <td>12.741885</td>\n",
       "      <td>6.819372</td>\n",
       "    </tr>\n",
       "    <tr>\n",
       "      <th>14</th>\n",
       "      <td>1989</td>\n",
       "      <td>10.114660</td>\n",
       "      <td>13.073298</td>\n",
       "      <td>7.078534</td>\n",
       "    </tr>\n",
       "    <tr>\n",
       "      <th>15</th>\n",
       "      <td>1990</td>\n",
       "      <td>10.414660</td>\n",
       "      <td>13.404712</td>\n",
       "      <td>7.342408</td>\n",
       "    </tr>\n",
       "    <tr>\n",
       "      <th>16</th>\n",
       "      <td>1991</td>\n",
       "      <td>10.716230</td>\n",
       "      <td>13.739791</td>\n",
       "      <td>7.606283</td>\n",
       "    </tr>\n",
       "    <tr>\n",
       "      <th>17</th>\n",
       "      <td>1992</td>\n",
       "      <td>11.018325</td>\n",
       "      <td>14.075916</td>\n",
       "      <td>7.878010</td>\n",
       "    </tr>\n",
       "    <tr>\n",
       "      <th>18</th>\n",
       "      <td>1993</td>\n",
       "      <td>11.319895</td>\n",
       "      <td>14.410471</td>\n",
       "      <td>8.153927</td>\n",
       "    </tr>\n",
       "    <tr>\n",
       "      <th>19</th>\n",
       "      <td>1994</td>\n",
       "      <td>11.625654</td>\n",
       "      <td>14.747120</td>\n",
       "      <td>8.437173</td>\n",
       "    </tr>\n",
       "    <tr>\n",
       "      <th>20</th>\n",
       "      <td>1995</td>\n",
       "      <td>11.935602</td>\n",
       "      <td>15.090052</td>\n",
       "      <td>8.724607</td>\n",
       "    </tr>\n",
       "    <tr>\n",
       "      <th>21</th>\n",
       "      <td>1996</td>\n",
       "      <td>12.260733</td>\n",
       "      <td>15.433508</td>\n",
       "      <td>9.014660</td>\n",
       "    </tr>\n",
       "    <tr>\n",
       "      <th>22</th>\n",
       "      <td>1997</td>\n",
       "      <td>12.583246</td>\n",
       "      <td>15.776963</td>\n",
       "      <td>9.309424</td>\n",
       "    </tr>\n",
       "    <tr>\n",
       "      <th>23</th>\n",
       "      <td>1998</td>\n",
       "      <td>12.914136</td>\n",
       "      <td>16.125654</td>\n",
       "      <td>9.616230</td>\n",
       "    </tr>\n",
       "    <tr>\n",
       "      <th>24</th>\n",
       "      <td>1999</td>\n",
       "      <td>13.256021</td>\n",
       "      <td>16.478534</td>\n",
       "      <td>9.923560</td>\n",
       "    </tr>\n",
       "    <tr>\n",
       "      <th>25</th>\n",
       "      <td>2000</td>\n",
       "      <td>13.596859</td>\n",
       "      <td>16.838743</td>\n",
       "      <td>10.241885</td>\n",
       "    </tr>\n",
       "    <tr>\n",
       "      <th>26</th>\n",
       "      <td>2001</td>\n",
       "      <td>13.937696</td>\n",
       "      <td>17.203665</td>\n",
       "      <td>10.564921</td>\n",
       "    </tr>\n",
       "    <tr>\n",
       "      <th>27</th>\n",
       "      <td>2002</td>\n",
       "      <td>14.283770</td>\n",
       "      <td>17.577487</td>\n",
       "      <td>10.895812</td>\n",
       "    </tr>\n",
       "    <tr>\n",
       "      <th>28</th>\n",
       "      <td>2003</td>\n",
       "      <td>14.642932</td>\n",
       "      <td>17.951309</td>\n",
       "      <td>11.237173</td>\n",
       "    </tr>\n",
       "    <tr>\n",
       "      <th>29</th>\n",
       "      <td>2004</td>\n",
       "      <td>15.015707</td>\n",
       "      <td>18.334031</td>\n",
       "      <td>11.585864</td>\n",
       "    </tr>\n",
       "    <tr>\n",
       "      <th>30</th>\n",
       "      <td>2005</td>\n",
       "      <td>15.379058</td>\n",
       "      <td>18.719895</td>\n",
       "      <td>11.945026</td>\n",
       "    </tr>\n",
       "    <tr>\n",
       "      <th>31</th>\n",
       "      <td>2006</td>\n",
       "      <td>15.751832</td>\n",
       "      <td>19.117277</td>\n",
       "      <td>12.303665</td>\n",
       "    </tr>\n",
       "    <tr>\n",
       "      <th>32</th>\n",
       "      <td>2007</td>\n",
       "      <td>16.150785</td>\n",
       "      <td>19.514660</td>\n",
       "      <td>12.676963</td>\n",
       "    </tr>\n",
       "    <tr>\n",
       "      <th>33</th>\n",
       "      <td>2008</td>\n",
       "      <td>16.542408</td>\n",
       "      <td>19.916230</td>\n",
       "      <td>13.062827</td>\n",
       "    </tr>\n",
       "    <tr>\n",
       "      <th>34</th>\n",
       "      <td>2009</td>\n",
       "      <td>16.939267</td>\n",
       "      <td>20.325654</td>\n",
       "      <td>13.448691</td>\n",
       "    </tr>\n",
       "    <tr>\n",
       "      <th>35</th>\n",
       "      <td>2010</td>\n",
       "      <td>17.349215</td>\n",
       "      <td>20.740838</td>\n",
       "      <td>13.847644</td>\n",
       "    </tr>\n",
       "    <tr>\n",
       "      <th>36</th>\n",
       "      <td>2011</td>\n",
       "      <td>17.763874</td>\n",
       "      <td>21.164398</td>\n",
       "      <td>14.254974</td>\n",
       "    </tr>\n",
       "    <tr>\n",
       "      <th>37</th>\n",
       "      <td>2012</td>\n",
       "      <td>18.178534</td>\n",
       "      <td>21.589005</td>\n",
       "      <td>14.672251</td>\n",
       "    </tr>\n",
       "    <tr>\n",
       "      <th>38</th>\n",
       "      <td>2013</td>\n",
       "      <td>18.609424</td>\n",
       "      <td>22.021990</td>\n",
       "      <td>15.097382</td>\n",
       "    </tr>\n",
       "    <tr>\n",
       "      <th>39</th>\n",
       "      <td>2014</td>\n",
       "      <td>19.043979</td>\n",
       "      <td>22.457068</td>\n",
       "      <td>15.534031</td>\n",
       "    </tr>\n",
       "    <tr>\n",
       "      <th>40</th>\n",
       "      <td>2015</td>\n",
       "      <td>19.508377</td>\n",
       "      <td>22.899476</td>\n",
       "      <td>15.980628</td>\n",
       "    </tr>\n",
       "    <tr>\n",
       "      <th>41</th>\n",
       "      <td>2016</td>\n",
       "      <td>19.960733</td>\n",
       "      <td>23.350262</td>\n",
       "      <td>16.442932</td>\n",
       "    </tr>\n",
       "  </tbody>\n",
       "</table>\n",
       "</div>"
      ],
      "text/plain": [
       "Sex  Year  Both sexes     Female       Male\n",
       "0    1975    6.510995   8.850262   4.076440\n",
       "1    1976    6.737696   9.120419   4.251832\n",
       "2    1977    6.962304   9.396859   4.427225\n",
       "3    1978    7.193717   9.676963   4.612565\n",
       "4    1979    7.430890   9.963351   4.805236\n",
       "5    1980    7.676440  10.256021   5.002094\n",
       "6    1981    7.923560  10.552356   5.205759\n",
       "7    1982    8.181152  10.850262   5.421466\n",
       "8    1983    8.434031  11.159162   5.637173\n",
       "9    1984    8.709948  11.465445   5.858115\n",
       "10   1985    8.979581  11.779581   6.090052\n",
       "11   1986    9.256021  12.095812   6.328796\n",
       "12   1987    9.537696  12.417801   6.571728\n",
       "13   1988    9.828272  12.741885   6.819372\n",
       "14   1989   10.114660  13.073298   7.078534\n",
       "15   1990   10.414660  13.404712   7.342408\n",
       "16   1991   10.716230  13.739791   7.606283\n",
       "17   1992   11.018325  14.075916   7.878010\n",
       "18   1993   11.319895  14.410471   8.153927\n",
       "19   1994   11.625654  14.747120   8.437173\n",
       "20   1995   11.935602  15.090052   8.724607\n",
       "21   1996   12.260733  15.433508   9.014660\n",
       "22   1997   12.583246  15.776963   9.309424\n",
       "23   1998   12.914136  16.125654   9.616230\n",
       "24   1999   13.256021  16.478534   9.923560\n",
       "25   2000   13.596859  16.838743  10.241885\n",
       "26   2001   13.937696  17.203665  10.564921\n",
       "27   2002   14.283770  17.577487  10.895812\n",
       "28   2003   14.642932  17.951309  11.237173\n",
       "29   2004   15.015707  18.334031  11.585864\n",
       "30   2005   15.379058  18.719895  11.945026\n",
       "31   2006   15.751832  19.117277  12.303665\n",
       "32   2007   16.150785  19.514660  12.676963\n",
       "33   2008   16.542408  19.916230  13.062827\n",
       "34   2009   16.939267  20.325654  13.448691\n",
       "35   2010   17.349215  20.740838  13.847644\n",
       "36   2011   17.763874  21.164398  14.254974\n",
       "37   2012   18.178534  21.589005  14.672251\n",
       "38   2013   18.609424  22.021990  15.097382\n",
       "39   2014   19.043979  22.457068  15.534031\n",
       "40   2015   19.508377  22.899476  15.980628\n",
       "41   2016   19.960733  23.350262  16.442932"
      ]
     },
     "execution_count": 23,
     "metadata": {},
     "output_type": "execute_result"
    }
   ],
   "source": [
    "df_obesity_in_world_per_year"
   ]
  },
  {
   "cell_type": "code",
   "execution_count": 47,
   "id": "a457653b",
   "metadata": {},
   "outputs": [
    {
     "data": {
      "text/plain": [
       "<Axes: xlabel='Year'>"
      ]
     },
     "execution_count": 47,
     "metadata": {},
     "output_type": "execute_result"
    },
    {
     "data": {
      "image/png": "[encoded data removed]",
      "text/plain": [
       "<Figure size 1000x500 with 1 Axes>"
      ]
     },
     "metadata": {},
     "output_type": "display_data"
    }
   ],
   "source": [
    "df_obesity_in_world_per_year.plot(x='Year', y='Both sexes', kind='line', marker='o', label='World', figsize=(10, 5))  "
   ]
  },
  {
   "cell_type": "markdown",
   "id": "labeled-rainbow",
   "metadata": {},
   "source": [
    "## Perguntas - GDP Per Person (1901-2011)"
   ]
  },
  {
   "cell_type": "code",
   "execution_count": 60,
   "id": "thermal-breeding",
   "metadata": {},
   "outputs": [],
   "source": [
    "df_gdp = pd.read_csv(\"GDP.csv\", decimal=\".\")"
   ]
  },
  {
   "cell_type": "code",
   "execution_count": 61,
   "id": "8a699e7c",
   "metadata": {},
   "outputs": [
    {
     "data": {
      "application/vnd.microsoft.datawrangler.viewer.v0+json": {
       "columns": [
        {
         "name": "index",
         "rawType": "int64",
         "type": "integer"
        },
        {
         "name": "Country",
         "rawType": "object",
         "type": "string"
        },
        {
         "name": "Region",
         "rawType": "object",
         "type": "string"
        },
        {
         "name": "Year",
         "rawType": "object",
         "type": "string"
        },
        {
         "name": " GDP_pp ",
         "rawType": "object",
         "type": "string"
        }
       ],
       "conversionMethod": "pd.DataFrame",
       "ref": "9ee64297-c6f4-41f5-bdd0-467d854772cd",
       "rows": [
        [
         "0",
         "Afghanistan",
         "Middle East, North Africa, and Greater Arabia",
         "1/1/1901",
         " 613.99 "
        ],
        [
         "1",
         "Afghanistan",
         "Middle East, North Africa, and Greater Arabia",
         "1/1/1906",
         " 624.04 "
        ],
        [
         "2",
         "Afghanistan",
         "Middle East, North Africa, and Greater Arabia",
         "1/1/1911",
         " 634.25 "
        ],
        [
         "3",
         "Afghanistan",
         "Middle East, North Africa, and Greater Arabia",
         "1/1/1916",
         " 647.28 "
        ],
        [
         "4",
         "Afghanistan",
         "Middle East, North Africa, and Greater Arabia",
         "1/1/1921",
         " 662.40 "
        ],
        [
         "5",
         "Afghanistan",
         "Middle East, North Africa, and Greater Arabia",
         "1/1/1926",
         " 677.87 "
        ],
        [
         "6",
         "Afghanistan",
         "Middle East, North Africa, and Greater Arabia",
         "1/1/1931",
         " 693.71 "
        ],
        [
         "7",
         "Afghanistan",
         "Middle East, North Africa, and Greater Arabia",
         "1/1/1936",
         " 709.91 "
        ],
        [
         "8",
         "Afghanistan",
         "Middle East, North Africa, and Greater Arabia",
         "1/1/1941",
         " 726.49 "
        ],
        [
         "9",
         "Afghanistan",
         "Middle East, North Africa, and Greater Arabia",
         "1/1/1946",
         " 743.46 "
        ],
        [
         "10",
         "Afghanistan",
         "Middle East, North Africa, and Greater Arabia",
         "1/1/1951",
         " 766.75 "
        ],
        [
         "11",
         "Afghanistan",
         "Middle East, North Africa, and Greater Arabia",
         "1/1/1956",
         " 837.07 "
        ],
        [
         "12",
         "Afghanistan",
         "Middle East, North Africa, and Greater Arabia",
         "1/1/1961",
         " 857.36 "
        ],
        [
         "13",
         "Afghanistan",
         "Middle East, North Africa, and Greater Arabia",
         "1/1/1966",
         " 833.61 "
        ],
        [
         "14",
         "Afghanistan",
         "Middle East, North Africa, and Greater Arabia",
         "1/1/1971",
         " 773.70 "
        ],
        [
         "15",
         "Afghanistan",
         "Middle East, North Africa, and Greater Arabia",
         "1/1/1976",
         " 866.19 "
        ],
        [
         "16",
         "Afghanistan",
         "Middle East, North Africa, and Greater Arabia",
         "1/1/1981",
         " 896.86 "
        ],
        [
         "17",
         "Afghanistan",
         "Middle East, North Africa, and Greater Arabia",
         "1/1/1986",
         " 1,030.89 "
        ],
        [
         "18",
         "Afghanistan",
         "Middle East, North Africa, and Greater Arabia",
         "1/1/1991",
         " 705.45 "
        ],
        [
         "19",
         "Afghanistan",
         "Middle East, North Africa, and Greater Arabia",
         "1/1/1996",
         " 617.91 "
        ],
        [
         "20",
         "Afghanistan",
         "Middle East, North Africa, and Greater Arabia",
         "1/1/2001",
         " 595.04 "
        ],
        [
         "21",
         "Afghanistan",
         "Middle East, North Africa, and Greater Arabia",
         "1/1/2006",
         " 887.91 "
        ],
        [
         "22",
         "Afghanistan",
         "Middle East, North Africa, and Greater Arabia",
         "1/1/2011",
         " 1,261.35 "
        ],
        [
         "23",
         "Albania",
         "Europe",
         "1/1/1901",
         " 1,062.01 "
        ],
        [
         "24",
         "Albania",
         "Europe",
         "1/1/1906",
         " 1,133.49 "
        ],
        [
         "25",
         "Albania",
         "Europe",
         "1/1/1911",
         " 1,209.42 "
        ],
        [
         "26",
         "Albania",
         "Europe",
         "1/1/1916",
         " 1,272.01 "
        ],
        [
         "27",
         "Albania",
         "Europe",
         "1/1/1921",
         " 1,326.12 "
        ],
        [
         "28",
         "Albania",
         "Europe",
         "1/1/1926",
         " 1,382.53 "
        ],
        [
         "29",
         "Albania",
         "Europe",
         "1/1/1931",
         " 1,428.08 "
        ],
        [
         "30",
         "Albania",
         "Europe",
         "1/1/1936",
         " 1,454.82 "
        ],
        [
         "31",
         "Albania",
         "Europe",
         "1/1/1941",
         " 1,482.05 "
        ],
        [
         "32",
         "Albania",
         "Europe",
         "1/1/1946",
         " 1,509.79 "
        ],
        [
         "33",
         "Albania",
         "Europe",
         "1/1/1951",
         " 1,598.49 "
        ],
        [
         "34",
         "Albania",
         "Europe",
         "1/1/1956",
         " 1,825.30 "
        ],
        [
         "35",
         "Albania",
         "Europe",
         "1/1/1961",
         " 2,238.79 "
        ],
        [
         "36",
         "Albania",
         "Europe",
         "1/1/1966",
         " 2,660.07 "
        ],
        [
         "37",
         "Albania",
         "Europe",
         "1/1/1971",
         " 3,188.58 "
        ],
        [
         "38",
         "Albania",
         "Europe",
         "1/1/1976",
         " 3,517.62 "
        ],
        [
         "39",
         "Albania",
         "Europe",
         "1/1/1981",
         " 3,611.03 "
        ],
        [
         "40",
         "Albania",
         "Europe",
         "1/1/1986",
         " 3,715.55 "
        ],
        [
         "41",
         "Albania",
         "Europe",
         "1/1/1991",
         " 2,717.57 "
        ],
        [
         "42",
         "Albania",
         "Europe",
         "1/1/1996",
         " 3,569.59 "
        ],
        [
         "43",
         "Albania",
         "Europe",
         "1/1/2001",
         " 4,476.05 "
        ],
        [
         "44",
         "Albania",
         "Europe",
         "1/1/2006",
         " 5,652.05 "
        ],
        [
         "45",
         "Albania",
         "Europe",
         "1/1/2011",
         " 6,914.27 "
        ],
        [
         "46",
         "Algeria",
         "Middle East, North Africa, and Greater Arabia",
         "1/1/1901",
         " 1,807.76 "
        ],
        [
         "47",
         "Algeria",
         "Middle East, North Africa, and Greater Arabia",
         "1/1/1906",
         " 1,913.02 "
        ],
        [
         "48",
         "Algeria",
         "Middle East, North Africa, and Greater Arabia",
         "1/1/1911",
         " 2,024.41 "
        ],
        [
         "49",
         "Algeria",
         "Middle East, North Africa, and Greater Arabia",
         "1/1/1916",
         " 2,097.74 "
        ]
       ],
       "shape": {
        "columns": 4,
        "rows": 4419
       }
      },
      "text/html": [
       "<div>\n",
       "<style scoped>\n",
       "    .dataframe tbody tr th:only-of-type {\n",
       "        vertical-align: middle;\n",
       "    }\n",
       "\n",
       "    .dataframe tbody tr th {\n",
       "        vertical-align: top;\n",
       "    }\n",
       "\n",
       "    .dataframe thead th {\n",
       "        text-align: right;\n",
       "    }\n",
       "</style>\n",
       "<table border=\"1\" class=\"dataframe\">\n",
       "  <thead>\n",
       "    <tr style=\"text-align: right;\">\n",
       "      <th></th>\n",
       "      <th>Country</th>\n",
       "      <th>Region</th>\n",
       "      <th>Year</th>\n",
       "      <th>GDP_pp</th>\n",
       "    </tr>\n",
       "  </thead>\n",
       "  <tbody>\n",
       "    <tr>\n",
       "      <th>0</th>\n",
       "      <td>Afghanistan</td>\n",
       "      <td>Middle East, North Africa, and Greater Arabia</td>\n",
       "      <td>1/1/1901</td>\n",
       "      <td>613.99</td>\n",
       "    </tr>\n",
       "    <tr>\n",
       "      <th>1</th>\n",
       "      <td>Afghanistan</td>\n",
       "      <td>Middle East, North Africa, and Greater Arabia</td>\n",
       "      <td>1/1/1906</td>\n",
       "      <td>624.04</td>\n",
       "    </tr>\n",
       "    <tr>\n",
       "      <th>2</th>\n",
       "      <td>Afghanistan</td>\n",
       "      <td>Middle East, North Africa, and Greater Arabia</td>\n",
       "      <td>1/1/1911</td>\n",
       "      <td>634.25</td>\n",
       "    </tr>\n",
       "    <tr>\n",
       "      <th>3</th>\n",
       "      <td>Afghanistan</td>\n",
       "      <td>Middle East, North Africa, and Greater Arabia</td>\n",
       "      <td>1/1/1916</td>\n",
       "      <td>647.28</td>\n",
       "    </tr>\n",
       "    <tr>\n",
       "      <th>4</th>\n",
       "      <td>Afghanistan</td>\n",
       "      <td>Middle East, North Africa, and Greater Arabia</td>\n",
       "      <td>1/1/1921</td>\n",
       "      <td>662.40</td>\n",
       "    </tr>\n",
       "    <tr>\n",
       "      <th>...</th>\n",
       "      <td>...</td>\n",
       "      <td>...</td>\n",
       "      <td>...</td>\n",
       "      <td>...</td>\n",
       "    </tr>\n",
       "    <tr>\n",
       "      <th>4414</th>\n",
       "      <td>Zimbabwe</td>\n",
       "      <td>Sub-Saharan Africa</td>\n",
       "      <td>1/1/1991</td>\n",
       "      <td>782.09</td>\n",
       "    </tr>\n",
       "    <tr>\n",
       "      <th>4415</th>\n",
       "      <td>Zimbabwe</td>\n",
       "      <td>Sub-Saharan Africa</td>\n",
       "      <td>1/1/1996</td>\n",
       "      <td>781.50</td>\n",
       "    </tr>\n",
       "    <tr>\n",
       "      <th>4416</th>\n",
       "      <td>Zimbabwe</td>\n",
       "      <td>Sub-Saharan Africa</td>\n",
       "      <td>1/1/2001</td>\n",
       "      <td>719.96</td>\n",
       "    </tr>\n",
       "    <tr>\n",
       "      <th>4417</th>\n",
       "      <td>Zimbabwe</td>\n",
       "      <td>Sub-Saharan Africa</td>\n",
       "      <td>1/1/2006</td>\n",
       "      <td>520.17</td>\n",
       "    </tr>\n",
       "    <tr>\n",
       "      <th>4418</th>\n",
       "      <td>Zimbabwe</td>\n",
       "      <td>Sub-Saharan Africa</td>\n",
       "      <td>1/1/2011</td>\n",
       "      <td>526.33</td>\n",
       "    </tr>\n",
       "  </tbody>\n",
       "</table>\n",
       "<p>4419 rows × 4 columns</p>\n",
       "</div>"
      ],
      "text/plain": [
       "          Country                                         Region      Year  \\\n",
       "0     Afghanistan  Middle East, North Africa, and Greater Arabia  1/1/1901   \n",
       "1     Afghanistan  Middle East, North Africa, and Greater Arabia  1/1/1906   \n",
       "2     Afghanistan  Middle East, North Africa, and Greater Arabia  1/1/1911   \n",
       "3     Afghanistan  Middle East, North Africa, and Greater Arabia  1/1/1916   \n",
       "4     Afghanistan  Middle East, North Africa, and Greater Arabia  1/1/1921   \n",
       "...           ...                                            ...       ...   \n",
       "4414     Zimbabwe                             Sub-Saharan Africa  1/1/1991   \n",
       "4415     Zimbabwe                             Sub-Saharan Africa  1/1/1996   \n",
       "4416     Zimbabwe                             Sub-Saharan Africa  1/1/2001   \n",
       "4417     Zimbabwe                             Sub-Saharan Africa  1/1/2006   \n",
       "4418     Zimbabwe                             Sub-Saharan Africa  1/1/2011   \n",
       "\n",
       "       GDP_pp   \n",
       "0      613.99   \n",
       "1      624.04   \n",
       "2      634.25   \n",
       "3      647.28   \n",
       "4      662.40   \n",
       "...        ...  \n",
       "4414   782.09   \n",
       "4415   781.50   \n",
       "4416   719.96   \n",
       "4417   520.17   \n",
       "4418   526.33   \n",
       "\n",
       "[4419 rows x 4 columns]"
      ]
     },
     "execution_count": 61,
     "metadata": {},
     "output_type": "execute_result"
    }
   ],
   "source": [
    "df_gdp"
   ]
  },
  {
   "cell_type": "markdown",
   "id": "suffering-guitar",
   "metadata": {},
   "source": [
    "- Limpe o conjunto de dados, convertendo strings em datas ou float, quando necessário."
   ]
  },
  {
   "cell_type": "code",
   "execution_count": 64,
   "id": "fundamental-occasions",
   "metadata": {},
   "outputs": [],
   "source": [
    "df_gdp['Year'] = pd.to_datetime(df_gdp['Year'])\n",
    "df_gdp[' GDP_pp '] = df_gdp[' GDP_pp '].str.replace(',', '').astype(float)"
   ]
  },
  {
   "cell_type": "markdown",
   "id": "studied-validity",
   "metadata": {},
   "source": [
    "- Você conseguiria informar o primeiro valor registrado de cada país?"
   ]
  },
  {
   "cell_type": "code",
   "execution_count": 62,
   "id": "frequent-rental",
   "metadata": {},
   "outputs": [],
   "source": [
    "df_gdp_country_first_app = df_gdp.drop_duplicates(subset='Country', keep='first').reset_index(drop=True)"
   ]
  },
  {
   "cell_type": "code",
   "execution_count": 56,
   "id": "ae47e391",
   "metadata": {},
   "outputs": [
    {
     "data": {
      "application/vnd.microsoft.datawrangler.viewer.v0+json": {
       "columns": [
        {
         "name": "index",
         "rawType": "int64",
         "type": "integer"
        },
        {
         "name": "Country",
         "rawType": "object",
         "type": "string"
        },
        {
         "name": "Region",
         "rawType": "object",
         "type": "string"
        },
        {
         "name": "Year",
         "rawType": "datetime64[ns]",
         "type": "datetime"
        },
        {
         "name": " GDP_pp ",
         "rawType": "float64",
         "type": "float"
        }
       ],
       "conversionMethod": "pd.DataFrame",
       "ref": "4468140e-f1db-4036-8ae9-151ff695e81f",
       "rows": [
        [
         "0",
         "Afghanistan",
         "Middle East, North Africa, and Greater Arabia",
         "1901-01-01 00:00:00",
         "613.99"
        ],
        [
         "1",
         "Albania",
         "Europe",
         "1901-01-01 00:00:00",
         "1062.01"
        ],
        [
         "2",
         "Algeria",
         "Middle East, North Africa, and Greater Arabia",
         "1901-01-01 00:00:00",
         "1807.76"
        ],
        [
         "3",
         "Andorra",
         "Europe",
         "1901-01-01 00:00:00",
         "3352.5"
        ],
        [
         "4",
         "Angola",
         "Sub-Saharan Africa",
         "1901-01-01 00:00:00",
         "525.76"
        ],
        [
         "5",
         "Antigua and Barbuda",
         "Central America and the Caribbean",
         "1901-01-01 00:00:00",
         "917.85"
        ],
        [
         "6",
         "Argentina",
         "South America",
         "1901-01-01 00:00:00",
         "3611.77"
        ],
        [
         "7",
         "Armenia",
         "Europe",
         "1901-01-01 00:00:00",
         "657.73"
        ],
        [
         "8",
         "Australia",
         "Australia and Oceania",
         "1901-01-01 00:00:00",
         "5195.5"
        ],
        [
         "9",
         "Austria",
         "Europe",
         "1901-01-01 00:00:00",
         "4344.52"
        ],
        [
         "10",
         "Azerbaijan",
         "Middle East, North Africa, and Greater Arabia",
         "1901-01-01 00:00:00",
         "946.05"
        ],
        [
         "11",
         "Bahamas",
         "Central America and the Caribbean",
         "1901-01-01 00:00:00",
         "2402.45"
        ],
        [
         "12",
         "Bahrain",
         "Middle East, North Africa, and Greater Arabia",
         "1901-01-01 00:00:00",
         "1300.8"
        ],
        [
         "13",
         "Bangladesh",
         "Asia",
         "1901-01-01 00:00:00",
         "690.52"
        ],
        [
         "14",
         "Barbados",
         "Central America and the Caribbean",
         "1901-01-01 00:00:00",
         "1735.21"
        ],
        [
         "15",
         "Belarus",
         "Europe",
         "1901-01-01 00:00:00",
         "1042.15"
        ],
        [
         "16",
         "Belgium",
         "Europe",
         "1901-01-01 00:00:00",
         "4442.72"
        ],
        [
         "17",
         "Belize",
         "Central America and the Caribbean",
         "1901-01-01 00:00:00",
         "925.68"
        ],
        [
         "18",
         "Benin",
         "Sub-Saharan Africa",
         "1901-01-01 00:00:00",
         "808.83"
        ],
        [
         "19",
         "Bhutan",
         "Asia",
         "1901-01-01 00:00:00",
         "625.21"
        ],
        [
         "20",
         "Bolivia",
         "South America",
         "1901-01-01 00:00:00",
         "1478.55"
        ],
        [
         "21",
         "Bosnia and Herzegovina",
         "Europe",
         "1901-01-01 00:00:00",
         "615.97"
        ],
        [
         "22",
         "Botswana",
         "Sub-Saharan Africa",
         "1901-01-01 00:00:00",
         "595.04"
        ],
        [
         "23",
         "Brazil",
         "South America",
         "1901-01-01 00:00:00",
         "648.48"
        ],
        [
         "24",
         "Brunei",
         "Asia",
         "1901-01-01 00:00:00",
         "1315.52"
        ],
        [
         "25",
         "Bulgaria",
         "Europe",
         "1901-01-01 00:00:00",
         "1606.73"
        ],
        [
         "26",
         "Burkina Faso",
         "Sub-Saharan Africa",
         "1901-01-01 00:00:00",
         "491.66"
        ],
        [
         "27",
         "Burundi",
         "Sub-Saharan Africa",
         "1901-01-01 00:00:00",
         "364.72"
        ],
        [
         "28",
         "Cambodia",
         "Asia",
         "1901-01-01 00:00:00",
         "723.53"
        ],
        [
         "29",
         "Cameroon",
         "Sub-Saharan Africa",
         "1901-01-01 00:00:00",
         "755.86"
        ],
        [
         "30",
         "Canada",
         "North America",
         "1901-01-01 00:00:00",
         "4493.99"
        ],
        [
         "31",
         "Cape Verde",
         "Sub-Saharan Africa",
         "1901-01-01 00:00:00",
         "474.21"
        ],
        [
         "32",
         "Chad",
         "Sub-Saharan Africa",
         "1901-01-01 00:00:00",
         "585.29"
        ],
        [
         "33",
         "Chile",
         "South America",
         "1901-01-01 00:00:00",
         "2249.32"
        ],
        [
         "34",
         "China",
         "Asia",
         "1901-01-01 00:00:00",
         "803.06"
        ],
        [
         "35",
         "Colombia",
         "South America",
         "1901-01-01 00:00:00",
         "636.89"
        ],
        [
         "36",
         "Comoros",
         "Sub-Saharan Africa",
         "1901-01-01 00:00:00",
         "949.16"
        ],
        [
         "37",
         "Congo, Rep.",
         "Sub-Saharan Africa",
         "1901-01-01 00:00:00",
         "565.85"
        ],
        [
         "38",
         "Costa Rica",
         "Central America and the Caribbean",
         "1901-01-01 00:00:00",
         "1636.72"
        ],
        [
         "39",
         "Cote d'Ivoire",
         "Sub-Saharan Africa",
         "1901-01-01 00:00:00",
         "802.21"
        ],
        [
         "40",
         "Croatia",
         "Europe",
         "1901-01-01 00:00:00",
         "1973.59"
        ],
        [
         "41",
         "Cuba",
         "Central America and the Caribbean",
         "1901-01-01 00:00:00",
         "2966.27"
        ],
        [
         "42",
         "Cyprus",
         "Europe",
         "1901-01-01 00:00:00",
         "1828.64"
        ],
        [
         "43",
         "Czech Rep.",
         "Europe",
         "1901-01-01 00:00:00",
         "3351.65"
        ],
        [
         "44",
         "Denmark",
         "Europe",
         "1901-01-01 00:00:00",
         "3769.45"
        ],
        [
         "45",
         "Djibouti",
         "Sub-Saharan Africa",
         "1901-01-01 00:00:00",
         "556.15"
        ],
        [
         "46",
         "Dominica",
         "Central America and the Caribbean",
         "1901-01-01 00:00:00",
         "1173.14"
        ],
        [
         "47",
         "Ecuador",
         "South America",
         "1901-01-01 00:00:00",
         "1798.88"
        ],
        [
         "48",
         "Egypt",
         "Middle East, North Africa, and Greater Arabia",
         "1901-01-01 00:00:00",
         "1296.66"
        ],
        [
         "49",
         "El Salvador",
         "Central America and the Caribbean",
         "1901-01-01 00:00:00",
         "1568.21"
        ]
       ],
       "shape": {
        "columns": 4,
        "rows": 193
       }
      },
      "text/html": [
       "<div>\n",
       "<style scoped>\n",
       "    .dataframe tbody tr th:only-of-type {\n",
       "        vertical-align: middle;\n",
       "    }\n",
       "\n",
       "    .dataframe tbody tr th {\n",
       "        vertical-align: top;\n",
       "    }\n",
       "\n",
       "    .dataframe thead th {\n",
       "        text-align: right;\n",
       "    }\n",
       "</style>\n",
       "<table border=\"1\" class=\"dataframe\">\n",
       "  <thead>\n",
       "    <tr style=\"text-align: right;\">\n",
       "      <th></th>\n",
       "      <th>Country</th>\n",
       "      <th>Region</th>\n",
       "      <th>Year</th>\n",
       "      <th>GDP_pp</th>\n",
       "    </tr>\n",
       "  </thead>\n",
       "  <tbody>\n",
       "    <tr>\n",
       "      <th>0</th>\n",
       "      <td>Afghanistan</td>\n",
       "      <td>Middle East, North Africa, and Greater Arabia</td>\n",
       "      <td>1901-01-01</td>\n",
       "      <td>613.99</td>\n",
       "    </tr>\n",
       "    <tr>\n",
       "      <th>1</th>\n",
       "      <td>Albania</td>\n",
       "      <td>Europe</td>\n",
       "      <td>1901-01-01</td>\n",
       "      <td>1062.01</td>\n",
       "    </tr>\n",
       "    <tr>\n",
       "      <th>2</th>\n",
       "      <td>Algeria</td>\n",
       "      <td>Middle East, North Africa, and Greater Arabia</td>\n",
       "      <td>1901-01-01</td>\n",
       "      <td>1807.76</td>\n",
       "    </tr>\n",
       "    <tr>\n",
       "      <th>3</th>\n",
       "      <td>Andorra</td>\n",
       "      <td>Europe</td>\n",
       "      <td>1901-01-01</td>\n",
       "      <td>3352.50</td>\n",
       "    </tr>\n",
       "    <tr>\n",
       "      <th>4</th>\n",
       "      <td>Angola</td>\n",
       "      <td>Sub-Saharan Africa</td>\n",
       "      <td>1901-01-01</td>\n",
       "      <td>525.76</td>\n",
       "    </tr>\n",
       "    <tr>\n",
       "      <th>...</th>\n",
       "      <td>...</td>\n",
       "      <td>...</td>\n",
       "      <td>...</td>\n",
       "      <td>...</td>\n",
       "    </tr>\n",
       "    <tr>\n",
       "      <th>188</th>\n",
       "      <td>Venezuela</td>\n",
       "      <td>South America</td>\n",
       "      <td>1901-01-01</td>\n",
       "      <td>766.21</td>\n",
       "    </tr>\n",
       "    <tr>\n",
       "      <th>189</th>\n",
       "      <td>Vietnam</td>\n",
       "      <td>Asia</td>\n",
       "      <td>1901-01-01</td>\n",
       "      <td>572.96</td>\n",
       "    </tr>\n",
       "    <tr>\n",
       "      <th>190</th>\n",
       "      <td>Yemen, Rep.</td>\n",
       "      <td>Middle East, North Africa, and Greater Arabia</td>\n",
       "      <td>1901-01-01</td>\n",
       "      <td>729.39</td>\n",
       "    </tr>\n",
       "    <tr>\n",
       "      <th>191</th>\n",
       "      <td>Zambia</td>\n",
       "      <td>Sub-Saharan Africa</td>\n",
       "      <td>1901-01-01</td>\n",
       "      <td>532.38</td>\n",
       "    </tr>\n",
       "    <tr>\n",
       "      <th>192</th>\n",
       "      <td>Zimbabwe</td>\n",
       "      <td>Sub-Saharan Africa</td>\n",
       "      <td>1901-01-01</td>\n",
       "      <td>385.69</td>\n",
       "    </tr>\n",
       "  </tbody>\n",
       "</table>\n",
       "<p>193 rows × 4 columns</p>\n",
       "</div>"
      ],
      "text/plain": [
       "         Country                                         Region       Year  \\\n",
       "0    Afghanistan  Middle East, North Africa, and Greater Arabia 1901-01-01   \n",
       "1        Albania                                         Europe 1901-01-01   \n",
       "2        Algeria  Middle East, North Africa, and Greater Arabia 1901-01-01   \n",
       "3        Andorra                                         Europe 1901-01-01   \n",
       "4         Angola                             Sub-Saharan Africa 1901-01-01   \n",
       "..           ...                                            ...        ...   \n",
       "188    Venezuela                                  South America 1901-01-01   \n",
       "189      Vietnam                                           Asia 1901-01-01   \n",
       "190  Yemen, Rep.  Middle East, North Africa, and Greater Arabia 1901-01-01   \n",
       "191       Zambia                             Sub-Saharan Africa 1901-01-01   \n",
       "192     Zimbabwe                             Sub-Saharan Africa 1901-01-01   \n",
       "\n",
       "      GDP_pp   \n",
       "0      613.99  \n",
       "1     1062.01  \n",
       "2     1807.76  \n",
       "3     3352.50  \n",
       "4      525.76  \n",
       "..        ...  \n",
       "188    766.21  \n",
       "189    572.96  \n",
       "190    729.39  \n",
       "191    532.38  \n",
       "192    385.69  \n",
       "\n",
       "[193 rows x 4 columns]"
      ]
     },
     "execution_count": 56,
     "metadata": {},
     "output_type": "execute_result"
    }
   ],
   "source": [
    "df_gdp_country_first_app"
   ]
  },
  {
   "cell_type": "markdown",
   "id": "tutorial-softball",
   "metadata": {},
   "source": [
    "- Informe as regiões com maiores crescimentos de PIB per capita no século passado."
   ]
  },
  {
   "cell_type": "code",
   "execution_count": 65,
   "id": "given-colorado",
   "metadata": {},
   "outputs": [],
   "source": [
    "df_gdp_until_2000 = df_gdp[df_gdp['Year'].dt.year <= 2000]"
   ]
  },
  {
   "cell_type": "code",
   "execution_count": 98,
   "id": "e1c9a361",
   "metadata": {},
   "outputs": [
    {
     "data": {
      "application/vnd.microsoft.datawrangler.viewer.v0+json": {
       "columns": [
        {
         "name": "index",
         "rawType": "int64",
         "type": "integer"
        },
        {
         "name": "Country",
         "rawType": "object",
         "type": "string"
        },
        {
         "name": "Region",
         "rawType": "object",
         "type": "string"
        },
        {
         "name": "Year",
         "rawType": "datetime64[ns]",
         "type": "datetime"
        },
        {
         "name": " GDP_pp ",
         "rawType": "float64",
         "type": "float"
        }
       ],
       "conversionMethod": "pd.DataFrame",
       "ref": "f1911bdc-9325-4f93-917e-4359ed8404f5",
       "rows": [
        [
         "0",
         "Afghanistan",
         "Middle East, North Africa, and Greater Arabia",
         "1901-01-01 00:00:00",
         "613.99"
        ],
        [
         "1",
         "Afghanistan",
         "Middle East, North Africa, and Greater Arabia",
         "1906-01-01 00:00:00",
         "624.04"
        ],
        [
         "2",
         "Afghanistan",
         "Middle East, North Africa, and Greater Arabia",
         "1911-01-01 00:00:00",
         "634.25"
        ],
        [
         "3",
         "Afghanistan",
         "Middle East, North Africa, and Greater Arabia",
         "1916-01-01 00:00:00",
         "647.28"
        ],
        [
         "4",
         "Afghanistan",
         "Middle East, North Africa, and Greater Arabia",
         "1921-01-01 00:00:00",
         "662.4"
        ],
        [
         "5",
         "Afghanistan",
         "Middle East, North Africa, and Greater Arabia",
         "1926-01-01 00:00:00",
         "677.87"
        ],
        [
         "6",
         "Afghanistan",
         "Middle East, North Africa, and Greater Arabia",
         "1931-01-01 00:00:00",
         "693.71"
        ],
        [
         "7",
         "Afghanistan",
         "Middle East, North Africa, and Greater Arabia",
         "1936-01-01 00:00:00",
         "709.91"
        ],
        [
         "8",
         "Afghanistan",
         "Middle East, North Africa, and Greater Arabia",
         "1941-01-01 00:00:00",
         "726.49"
        ],
        [
         "9",
         "Afghanistan",
         "Middle East, North Africa, and Greater Arabia",
         "1946-01-01 00:00:00",
         "743.46"
        ],
        [
         "10",
         "Afghanistan",
         "Middle East, North Africa, and Greater Arabia",
         "1951-01-01 00:00:00",
         "766.75"
        ],
        [
         "11",
         "Afghanistan",
         "Middle East, North Africa, and Greater Arabia",
         "1956-01-01 00:00:00",
         "837.07"
        ],
        [
         "12",
         "Afghanistan",
         "Middle East, North Africa, and Greater Arabia",
         "1961-01-01 00:00:00",
         "857.36"
        ],
        [
         "13",
         "Afghanistan",
         "Middle East, North Africa, and Greater Arabia",
         "1966-01-01 00:00:00",
         "833.61"
        ],
        [
         "14",
         "Afghanistan",
         "Middle East, North Africa, and Greater Arabia",
         "1971-01-01 00:00:00",
         "773.7"
        ],
        [
         "15",
         "Afghanistan",
         "Middle East, North Africa, and Greater Arabia",
         "1976-01-01 00:00:00",
         "866.19"
        ],
        [
         "16",
         "Afghanistan",
         "Middle East, North Africa, and Greater Arabia",
         "1981-01-01 00:00:00",
         "896.86"
        ],
        [
         "17",
         "Afghanistan",
         "Middle East, North Africa, and Greater Arabia",
         "1986-01-01 00:00:00",
         "1030.89"
        ],
        [
         "18",
         "Afghanistan",
         "Middle East, North Africa, and Greater Arabia",
         "1991-01-01 00:00:00",
         "705.45"
        ],
        [
         "19",
         "Afghanistan",
         "Middle East, North Africa, and Greater Arabia",
         "1996-01-01 00:00:00",
         "617.91"
        ],
        [
         "23",
         "Albania",
         "Europe",
         "1901-01-01 00:00:00",
         "1062.01"
        ],
        [
         "24",
         "Albania",
         "Europe",
         "1906-01-01 00:00:00",
         "1133.49"
        ],
        [
         "25",
         "Albania",
         "Europe",
         "1911-01-01 00:00:00",
         "1209.42"
        ],
        [
         "26",
         "Albania",
         "Europe",
         "1916-01-01 00:00:00",
         "1272.01"
        ],
        [
         "27",
         "Albania",
         "Europe",
         "1921-01-01 00:00:00",
         "1326.12"
        ],
        [
         "28",
         "Albania",
         "Europe",
         "1926-01-01 00:00:00",
         "1382.53"
        ],
        [
         "29",
         "Albania",
         "Europe",
         "1931-01-01 00:00:00",
         "1428.08"
        ],
        [
         "30",
         "Albania",
         "Europe",
         "1936-01-01 00:00:00",
         "1454.82"
        ],
        [
         "31",
         "Albania",
         "Europe",
         "1941-01-01 00:00:00",
         "1482.05"
        ],
        [
         "32",
         "Albania",
         "Europe",
         "1946-01-01 00:00:00",
         "1509.79"
        ],
        [
         "33",
         "Albania",
         "Europe",
         "1951-01-01 00:00:00",
         "1598.49"
        ],
        [
         "34",
         "Albania",
         "Europe",
         "1956-01-01 00:00:00",
         "1825.3"
        ],
        [
         "35",
         "Albania",
         "Europe",
         "1961-01-01 00:00:00",
         "2238.79"
        ],
        [
         "36",
         "Albania",
         "Europe",
         "1966-01-01 00:00:00",
         "2660.07"
        ],
        [
         "37",
         "Albania",
         "Europe",
         "1971-01-01 00:00:00",
         "3188.58"
        ],
        [
         "38",
         "Albania",
         "Europe",
         "1976-01-01 00:00:00",
         "3517.62"
        ],
        [
         "39",
         "Albania",
         "Europe",
         "1981-01-01 00:00:00",
         "3611.03"
        ],
        [
         "40",
         "Albania",
         "Europe",
         "1986-01-01 00:00:00",
         "3715.55"
        ],
        [
         "41",
         "Albania",
         "Europe",
         "1991-01-01 00:00:00",
         "2717.57"
        ],
        [
         "42",
         "Albania",
         "Europe",
         "1996-01-01 00:00:00",
         "3569.59"
        ],
        [
         "46",
         "Algeria",
         "Middle East, North Africa, and Greater Arabia",
         "1901-01-01 00:00:00",
         "1807.76"
        ],
        [
         "47",
         "Algeria",
         "Middle East, North Africa, and Greater Arabia",
         "1906-01-01 00:00:00",
         "1913.02"
        ],
        [
         "48",
         "Algeria",
         "Middle East, North Africa, and Greater Arabia",
         "1911-01-01 00:00:00",
         "2024.41"
        ],
        [
         "49",
         "Algeria",
         "Middle East, North Africa, and Greater Arabia",
         "1916-01-01 00:00:00",
         "2097.74"
        ],
        [
         "50",
         "Algeria",
         "Middle East, North Africa, and Greater Arabia",
         "1921-01-01 00:00:00",
         "2143.49"
        ],
        [
         "51",
         "Algeria",
         "Middle East, North Africa, and Greater Arabia",
         "1926-01-01 00:00:00",
         "2190.24"
        ],
        [
         "52",
         "Algeria",
         "Middle East, North Africa, and Greater Arabia",
         "1931-01-01 00:00:00",
         "2238.01"
        ],
        [
         "53",
         "Algeria",
         "Middle East, North Africa, and Greater Arabia",
         "1936-01-01 00:00:00",
         "2286.81"
        ],
        [
         "54",
         "Algeria",
         "Middle East, North Africa, and Greater Arabia",
         "1941-01-01 00:00:00",
         "2336.69"
        ],
        [
         "55",
         "Algeria",
         "Middle East, North Africa, and Greater Arabia",
         "1946-01-01 00:00:00",
         "2387.65"
        ]
       ],
       "shape": {
        "columns": 4,
        "rows": 3842
       }
      },
      "text/html": [
       "<div>\n",
       "<style scoped>\n",
       "    .dataframe tbody tr th:only-of-type {\n",
       "        vertical-align: middle;\n",
       "    }\n",
       "\n",
       "    .dataframe tbody tr th {\n",
       "        vertical-align: top;\n",
       "    }\n",
       "\n",
       "    .dataframe thead th {\n",
       "        text-align: right;\n",
       "    }\n",
       "</style>\n",
       "<table border=\"1\" class=\"dataframe\">\n",
       "  <thead>\n",
       "    <tr style=\"text-align: right;\">\n",
       "      <th></th>\n",
       "      <th>Country</th>\n",
       "      <th>Region</th>\n",
       "      <th>Year</th>\n",
       "      <th>GDP_pp</th>\n",
       "    </tr>\n",
       "  </thead>\n",
       "  <tbody>\n",
       "    <tr>\n",
       "      <th>0</th>\n",
       "      <td>Afghanistan</td>\n",
       "      <td>Middle East, North Africa, and Greater Arabia</td>\n",
       "      <td>1901-01-01</td>\n",
       "      <td>613.99</td>\n",
       "    </tr>\n",
       "    <tr>\n",
       "      <th>1</th>\n",
       "      <td>Afghanistan</td>\n",
       "      <td>Middle East, North Africa, and Greater Arabia</td>\n",
       "      <td>1906-01-01</td>\n",
       "      <td>624.04</td>\n",
       "    </tr>\n",
       "    <tr>\n",
       "      <th>2</th>\n",
       "      <td>Afghanistan</td>\n",
       "      <td>Middle East, North Africa, and Greater Arabia</td>\n",
       "      <td>1911-01-01</td>\n",
       "      <td>634.25</td>\n",
       "    </tr>\n",
       "    <tr>\n",
       "      <th>3</th>\n",
       "      <td>Afghanistan</td>\n",
       "      <td>Middle East, North Africa, and Greater Arabia</td>\n",
       "      <td>1916-01-01</td>\n",
       "      <td>647.28</td>\n",
       "    </tr>\n",
       "    <tr>\n",
       "      <th>4</th>\n",
       "      <td>Afghanistan</td>\n",
       "      <td>Middle East, North Africa, and Greater Arabia</td>\n",
       "      <td>1921-01-01</td>\n",
       "      <td>662.40</td>\n",
       "    </tr>\n",
       "    <tr>\n",
       "      <th>...</th>\n",
       "      <td>...</td>\n",
       "      <td>...</td>\n",
       "      <td>...</td>\n",
       "      <td>...</td>\n",
       "    </tr>\n",
       "    <tr>\n",
       "      <th>4411</th>\n",
       "      <td>Zimbabwe</td>\n",
       "      <td>Sub-Saharan Africa</td>\n",
       "      <td>1976-01-01</td>\n",
       "      <td>762.17</td>\n",
       "    </tr>\n",
       "    <tr>\n",
       "      <th>4412</th>\n",
       "      <td>Zimbabwe</td>\n",
       "      <td>Sub-Saharan Africa</td>\n",
       "      <td>1981-01-01</td>\n",
       "      <td>790.30</td>\n",
       "    </tr>\n",
       "    <tr>\n",
       "      <th>4413</th>\n",
       "      <td>Zimbabwe</td>\n",
       "      <td>Sub-Saharan Africa</td>\n",
       "      <td>1986-01-01</td>\n",
       "      <td>742.30</td>\n",
       "    </tr>\n",
       "    <tr>\n",
       "      <th>4414</th>\n",
       "      <td>Zimbabwe</td>\n",
       "      <td>Sub-Saharan Africa</td>\n",
       "      <td>1991-01-01</td>\n",
       "      <td>782.09</td>\n",
       "    </tr>\n",
       "    <tr>\n",
       "      <th>4415</th>\n",
       "      <td>Zimbabwe</td>\n",
       "      <td>Sub-Saharan Africa</td>\n",
       "      <td>1996-01-01</td>\n",
       "      <td>781.50</td>\n",
       "    </tr>\n",
       "  </tbody>\n",
       "</table>\n",
       "<p>3842 rows × 4 columns</p>\n",
       "</div>"
      ],
      "text/plain": [
       "          Country                                         Region       Year  \\\n",
       "0     Afghanistan  Middle East, North Africa, and Greater Arabia 1901-01-01   \n",
       "1     Afghanistan  Middle East, North Africa, and Greater Arabia 1906-01-01   \n",
       "2     Afghanistan  Middle East, North Africa, and Greater Arabia 1911-01-01   \n",
       "3     Afghanistan  Middle East, North Africa, and Greater Arabia 1916-01-01   \n",
       "4     Afghanistan  Middle East, North Africa, and Greater Arabia 1921-01-01   \n",
       "...           ...                                            ...        ...   \n",
       "4411     Zimbabwe                             Sub-Saharan Africa 1976-01-01   \n",
       "4412     Zimbabwe                             Sub-Saharan Africa 1981-01-01   \n",
       "4413     Zimbabwe                             Sub-Saharan Africa 1986-01-01   \n",
       "4414     Zimbabwe                             Sub-Saharan Africa 1991-01-01   \n",
       "4415     Zimbabwe                             Sub-Saharan Africa 1996-01-01   \n",
       "\n",
       "       GDP_pp   \n",
       "0       613.99  \n",
       "1       624.04  \n",
       "2       634.25  \n",
       "3       647.28  \n",
       "4       662.40  \n",
       "...        ...  \n",
       "4411    762.17  \n",
       "4412    790.30  \n",
       "4413    742.30  \n",
       "4414    782.09  \n",
       "4415    781.50  \n",
       "\n",
       "[3842 rows x 4 columns]"
      ]
     },
     "execution_count": 98,
     "metadata": {},
     "output_type": "execute_result"
    }
   ],
   "source": [
    "df_gdp_until_2000"
   ]
  },
  {
   "cell_type": "code",
   "execution_count": 74,
   "id": "785409b0",
   "metadata": {},
   "outputs": [
    {
     "name": "stderr",
     "output_type": "stream",
     "text": [
      "C:\\Users\\alant\\AppData\\Local\\Temp\\ipykernel_18316\\939622757.py:1: DeprecationWarning: DataFrameGroupBy.apply operated on the grouping columns. This behavior is deprecated, and in a future version of pandas the grouping columns will be excluded from the operation. Either pass `include_groups=False` to exclude the groupings or explicitly select the grouping columns after groupby to silence this warning.\n",
      "  df_gdp_grow_to_2000 = df_gdp.groupby('Region').apply(lambda x: ((x[x['Year'].dt.year == 1996][' GDP_pp '].mean() - x[x['Year'].dt.year == 1901][' GDP_pp '].mean()) / x[x['Year'].dt.year == 1901][' GDP_pp '].mean())* 100).reset_index(name='Crescimento até 2000')\n"
     ]
    }
   ],
   "source": [
    "df_gdp_grow_to_2000 = df_gdp.groupby('Region').apply(lambda x: ((x[x['Year'].dt.year == 1996][' GDP_pp '].mean() - x[x['Year'].dt.year == 1901][' GDP_pp '].mean()) / x[x['Year'].dt.year == 1901][' GDP_pp '].mean())* 100).reset_index(name='Crescimento até 2000')"
   ]
  },
  {
   "cell_type": "code",
   "execution_count": 75,
   "id": "0f7f1181",
   "metadata": {},
   "outputs": [
    {
     "data": {
      "application/vnd.microsoft.datawrangler.viewer.v0+json": {
       "columns": [
        {
         "name": "index",
         "rawType": "int64",
         "type": "integer"
        },
        {
         "name": "Region",
         "rawType": "object",
         "type": "string"
        },
        {
         "name": "Crescimento até 2000",
         "rawType": "float64",
         "type": "float"
        }
       ],
       "conversionMethod": "pd.DataFrame",
       "ref": "e7e6f66f-f7bc-4e04-9536-3cf2b5bcf596",
       "rows": [
        [
         "0",
         "Asia",
         "711.7615156317203"
        ],
        [
         "1",
         "Australia and Oceania",
         "396.0753828853883"
        ],
        [
         "2",
         "Central America and the Caribbean",
         "406.4267887604707"
        ],
        [
         "3",
         "Europe",
         "594.0461668784665"
        ],
        [
         "4",
         "Middle East, North Africa, and Greater Arabia",
         "857.2159499328791"
        ],
        [
         "5",
         "North America",
         "589.760175080896"
        ],
        [
         "6",
         "South America",
         "312.1237348066186"
        ],
        [
         "7",
         "Sub-Saharan Africa",
         "248.63378019635854"
        ]
       ],
       "shape": {
        "columns": 2,
        "rows": 8
       }
      },
      "text/html": [
       "<div>\n",
       "<style scoped>\n",
       "    .dataframe tbody tr th:only-of-type {\n",
       "        vertical-align: middle;\n",
       "    }\n",
       "\n",
       "    .dataframe tbody tr th {\n",
       "        vertical-align: top;\n",
       "    }\n",
       "\n",
       "    .dataframe thead th {\n",
       "        text-align: right;\n",
       "    }\n",
       "</style>\n",
       "<table border=\"1\" class=\"dataframe\">\n",
       "  <thead>\n",
       "    <tr style=\"text-align: right;\">\n",
       "      <th></th>\n",
       "      <th>Region</th>\n",
       "      <th>Crescimento até 2000</th>\n",
       "    </tr>\n",
       "  </thead>\n",
       "  <tbody>\n",
       "    <tr>\n",
       "      <th>0</th>\n",
       "      <td>Asia</td>\n",
       "      <td>711.761516</td>\n",
       "    </tr>\n",
       "    <tr>\n",
       "      <th>1</th>\n",
       "      <td>Australia and Oceania</td>\n",
       "      <td>396.075383</td>\n",
       "    </tr>\n",
       "    <tr>\n",
       "      <th>2</th>\n",
       "      <td>Central America and the Caribbean</td>\n",
       "      <td>406.426789</td>\n",
       "    </tr>\n",
       "    <tr>\n",
       "      <th>3</th>\n",
       "      <td>Europe</td>\n",
       "      <td>594.046167</td>\n",
       "    </tr>\n",
       "    <tr>\n",
       "      <th>4</th>\n",
       "      <td>Middle East, North Africa, and Greater Arabia</td>\n",
       "      <td>857.215950</td>\n",
       "    </tr>\n",
       "    <tr>\n",
       "      <th>5</th>\n",
       "      <td>North America</td>\n",
       "      <td>589.760175</td>\n",
       "    </tr>\n",
       "    <tr>\n",
       "      <th>6</th>\n",
       "      <td>South America</td>\n",
       "      <td>312.123735</td>\n",
       "    </tr>\n",
       "    <tr>\n",
       "      <th>7</th>\n",
       "      <td>Sub-Saharan Africa</td>\n",
       "      <td>248.633780</td>\n",
       "    </tr>\n",
       "  </tbody>\n",
       "</table>\n",
       "</div>"
      ],
      "text/plain": [
       "                                          Region  Crescimento até 2000\n",
       "0                                           Asia            711.761516\n",
       "1                          Australia and Oceania            396.075383\n",
       "2              Central America and the Caribbean            406.426789\n",
       "3                                         Europe            594.046167\n",
       "4  Middle East, North Africa, and Greater Arabia            857.215950\n",
       "5                                  North America            589.760175\n",
       "6                                  South America            312.123735\n",
       "7                             Sub-Saharan Africa            248.633780"
      ]
     },
     "execution_count": 75,
     "metadata": {},
     "output_type": "execute_result"
    }
   ],
   "source": [
    "df_gdp_grow_to_2000"
   ]
  },
  {
   "cell_type": "markdown",
   "id": "textile-afternoon",
   "metadata": {},
   "source": [
    "- Preecha os anos ausentes em cada país com uma estimativa, baseada na diferença entre o próximo registro e o anterior."
   ]
  },
  {
   "cell_type": "code",
   "execution_count": 78,
   "id": "hydraulic-confidentiality",
   "metadata": {},
   "outputs": [],
   "source": [
    "ano_min = 1901\n",
    "ano_max = df_gdp['Year'].dt.year.max()"
   ]
  },
  {
   "cell_type": "code",
   "execution_count": 79,
   "id": "011d33d4",
   "metadata": {},
   "outputs": [],
   "source": [
    "all_years = np.arange(ano_min, ano_max + 1)"
   ]
  },
  {
   "cell_type": "code",
   "execution_count": 80,
   "id": "fd97377e",
   "metadata": {},
   "outputs": [],
   "source": [
    "countries = df_gdp['Country'].unique()"
   ]
  },
  {
   "cell_type": "code",
   "execution_count": 81,
   "id": "e0ef66de",
   "metadata": {},
   "outputs": [],
   "source": [
    "df_countries_x_years = pd.DataFrame([(country, year) for country in countries for year in all_years], columns=['Country', 'Year'])"
   ]
  },
  {
   "cell_type": "code",
   "execution_count": 82,
   "id": "f82c5199",
   "metadata": {},
   "outputs": [],
   "source": [
    "df_countries_x_years['Year'] = pd.to_datetime(df_countries_x_years['Year'], format='%Y')"
   ]
  },
  {
   "cell_type": "code",
   "execution_count": 83,
   "id": "83c36273",
   "metadata": {},
   "outputs": [],
   "source": [
    "df_countries_x_years = df_countries_x_years.merge(df_gdp, on=['Country', 'Year'], how='left')"
   ]
  },
  {
   "cell_type": "code",
   "execution_count": 84,
   "id": "28b1eb4b",
   "metadata": {},
   "outputs": [],
   "source": [
    "df_countries_x_years = df_countries_x_years.sort_values(by=['Country', 'Year']).reset_index(drop=True)"
   ]
  },
  {
   "cell_type": "code",
   "execution_count": 85,
   "id": "c5884eb2",
   "metadata": {},
   "outputs": [
    {
     "data": {
      "application/vnd.microsoft.datawrangler.viewer.v0+json": {
       "columns": [
        {
         "name": "index",
         "rawType": "int64",
         "type": "integer"
        },
        {
         "name": "Country",
         "rawType": "object",
         "type": "string"
        },
        {
         "name": "Year",
         "rawType": "datetime64[ns]",
         "type": "datetime"
        },
        {
         "name": "Region",
         "rawType": "object",
         "type": "unknown"
        },
        {
         "name": " GDP_pp ",
         "rawType": "float64",
         "type": "float"
        }
       ],
       "conversionMethod": "pd.DataFrame",
       "ref": "f1c0741f-af76-4a3d-b197-6709589ca8a5",
       "rows": [
        [
         "0",
         "Afghanistan",
         "1901-01-01 00:00:00",
         "Middle East, North Africa, and Greater Arabia",
         "613.99"
        ],
        [
         "1",
         "Afghanistan",
         "1902-01-01 00:00:00",
         null,
         null
        ],
        [
         "2",
         "Afghanistan",
         "1903-01-01 00:00:00",
         null,
         null
        ],
        [
         "3",
         "Afghanistan",
         "1904-01-01 00:00:00",
         null,
         null
        ],
        [
         "4",
         "Afghanistan",
         "1905-01-01 00:00:00",
         null,
         null
        ],
        [
         "5",
         "Afghanistan",
         "1906-01-01 00:00:00",
         "Middle East, North Africa, and Greater Arabia",
         "624.04"
        ],
        [
         "6",
         "Afghanistan",
         "1907-01-01 00:00:00",
         null,
         null
        ],
        [
         "7",
         "Afghanistan",
         "1908-01-01 00:00:00",
         null,
         null
        ],
        [
         "8",
         "Afghanistan",
         "1909-01-01 00:00:00",
         null,
         null
        ],
        [
         "9",
         "Afghanistan",
         "1910-01-01 00:00:00",
         null,
         null
        ],
        [
         "10",
         "Afghanistan",
         "1911-01-01 00:00:00",
         "Middle East, North Africa, and Greater Arabia",
         "634.25"
        ],
        [
         "11",
         "Afghanistan",
         "1912-01-01 00:00:00",
         null,
         null
        ],
        [
         "12",
         "Afghanistan",
         "1913-01-01 00:00:00",
         null,
         null
        ],
        [
         "13",
         "Afghanistan",
         "1914-01-01 00:00:00",
         null,
         null
        ],
        [
         "14",
         "Afghanistan",
         "1915-01-01 00:00:00",
         null,
         null
        ],
        [
         "15",
         "Afghanistan",
         "1916-01-01 00:00:00",
         "Middle East, North Africa, and Greater Arabia",
         "647.28"
        ],
        [
         "16",
         "Afghanistan",
         "1917-01-01 00:00:00",
         null,
         null
        ],
        [
         "17",
         "Afghanistan",
         "1918-01-01 00:00:00",
         null,
         null
        ],
        [
         "18",
         "Afghanistan",
         "1919-01-01 00:00:00",
         null,
         null
        ],
        [
         "19",
         "Afghanistan",
         "1920-01-01 00:00:00",
         null,
         null
        ],
        [
         "20",
         "Afghanistan",
         "1921-01-01 00:00:00",
         "Middle East, North Africa, and Greater Arabia",
         "662.4"
        ],
        [
         "21",
         "Afghanistan",
         "1922-01-01 00:00:00",
         null,
         null
        ],
        [
         "22",
         "Afghanistan",
         "1923-01-01 00:00:00",
         null,
         null
        ],
        [
         "23",
         "Afghanistan",
         "1924-01-01 00:00:00",
         null,
         null
        ],
        [
         "24",
         "Afghanistan",
         "1925-01-01 00:00:00",
         null,
         null
        ],
        [
         "25",
         "Afghanistan",
         "1926-01-01 00:00:00",
         "Middle East, North Africa, and Greater Arabia",
         "677.87"
        ],
        [
         "26",
         "Afghanistan",
         "1927-01-01 00:00:00",
         null,
         null
        ],
        [
         "27",
         "Afghanistan",
         "1928-01-01 00:00:00",
         null,
         null
        ],
        [
         "28",
         "Afghanistan",
         "1929-01-01 00:00:00",
         null,
         null
        ],
        [
         "29",
         "Afghanistan",
         "1930-01-01 00:00:00",
         null,
         null
        ],
        [
         "30",
         "Afghanistan",
         "1931-01-01 00:00:00",
         "Middle East, North Africa, and Greater Arabia",
         "693.71"
        ],
        [
         "31",
         "Afghanistan",
         "1932-01-01 00:00:00",
         null,
         null
        ],
        [
         "32",
         "Afghanistan",
         "1933-01-01 00:00:00",
         null,
         null
        ],
        [
         "33",
         "Afghanistan",
         "1934-01-01 00:00:00",
         null,
         null
        ],
        [
         "34",
         "Afghanistan",
         "1935-01-01 00:00:00",
         null,
         null
        ],
        [
         "35",
         "Afghanistan",
         "1936-01-01 00:00:00",
         "Middle East, North Africa, and Greater Arabia",
         "709.91"
        ],
        [
         "36",
         "Afghanistan",
         "1937-01-01 00:00:00",
         null,
         null
        ],
        [
         "37",
         "Afghanistan",
         "1938-01-01 00:00:00",
         null,
         null
        ],
        [
         "38",
         "Afghanistan",
         "1939-01-01 00:00:00",
         null,
         null
        ],
        [
         "39",
         "Afghanistan",
         "1940-01-01 00:00:00",
         null,
         null
        ],
        [
         "40",
         "Afghanistan",
         "1941-01-01 00:00:00",
         "Middle East, North Africa, and Greater Arabia",
         "726.49"
        ],
        [
         "41",
         "Afghanistan",
         "1942-01-01 00:00:00",
         null,
         null
        ],
        [
         "42",
         "Afghanistan",
         "1943-01-01 00:00:00",
         null,
         null
        ],
        [
         "43",
         "Afghanistan",
         "1944-01-01 00:00:00",
         null,
         null
        ],
        [
         "44",
         "Afghanistan",
         "1945-01-01 00:00:00",
         null,
         null
        ],
        [
         "45",
         "Afghanistan",
         "1946-01-01 00:00:00",
         "Middle East, North Africa, and Greater Arabia",
         "743.46"
        ],
        [
         "46",
         "Afghanistan",
         "1947-01-01 00:00:00",
         null,
         null
        ],
        [
         "47",
         "Afghanistan",
         "1948-01-01 00:00:00",
         null,
         null
        ],
        [
         "48",
         "Afghanistan",
         "1949-01-01 00:00:00",
         null,
         null
        ],
        [
         "49",
         "Afghanistan",
         "1950-01-01 00:00:00",
         null,
         null
        ]
       ],
       "shape": {
        "columns": 4,
        "rows": 21423
       }
      },
      "text/html": [
       "<div>\n",
       "<style scoped>\n",
       "    .dataframe tbody tr th:only-of-type {\n",
       "        vertical-align: middle;\n",
       "    }\n",
       "\n",
       "    .dataframe tbody tr th {\n",
       "        vertical-align: top;\n",
       "    }\n",
       "\n",
       "    .dataframe thead th {\n",
       "        text-align: right;\n",
       "    }\n",
       "</style>\n",
       "<table border=\"1\" class=\"dataframe\">\n",
       "  <thead>\n",
       "    <tr style=\"text-align: right;\">\n",
       "      <th></th>\n",
       "      <th>Country</th>\n",
       "      <th>Year</th>\n",
       "      <th>Region</th>\n",
       "      <th>GDP_pp</th>\n",
       "    </tr>\n",
       "  </thead>\n",
       "  <tbody>\n",
       "    <tr>\n",
       "      <th>0</th>\n",
       "      <td>Afghanistan</td>\n",
       "      <td>1901-01-01</td>\n",
       "      <td>Middle East, North Africa, and Greater Arabia</td>\n",
       "      <td>613.99</td>\n",
       "    </tr>\n",
       "    <tr>\n",
       "      <th>1</th>\n",
       "      <td>Afghanistan</td>\n",
       "      <td>1902-01-01</td>\n",
       "      <td>NaN</td>\n",
       "      <td>NaN</td>\n",
       "    </tr>\n",
       "    <tr>\n",
       "      <th>2</th>\n",
       "      <td>Afghanistan</td>\n",
       "      <td>1903-01-01</td>\n",
       "      <td>NaN</td>\n",
       "      <td>NaN</td>\n",
       "    </tr>\n",
       "    <tr>\n",
       "      <th>3</th>\n",
       "      <td>Afghanistan</td>\n",
       "      <td>1904-01-01</td>\n",
       "      <td>NaN</td>\n",
       "      <td>NaN</td>\n",
       "    </tr>\n",
       "    <tr>\n",
       "      <th>4</th>\n",
       "      <td>Afghanistan</td>\n",
       "      <td>1905-01-01</td>\n",
       "      <td>NaN</td>\n",
       "      <td>NaN</td>\n",
       "    </tr>\n",
       "    <tr>\n",
       "      <th>...</th>\n",
       "      <td>...</td>\n",
       "      <td>...</td>\n",
       "      <td>...</td>\n",
       "      <td>...</td>\n",
       "    </tr>\n",
       "    <tr>\n",
       "      <th>21418</th>\n",
       "      <td>Zimbabwe</td>\n",
       "      <td>2007-01-01</td>\n",
       "      <td>NaN</td>\n",
       "      <td>NaN</td>\n",
       "    </tr>\n",
       "    <tr>\n",
       "      <th>21419</th>\n",
       "      <td>Zimbabwe</td>\n",
       "      <td>2008-01-01</td>\n",
       "      <td>NaN</td>\n",
       "      <td>NaN</td>\n",
       "    </tr>\n",
       "    <tr>\n",
       "      <th>21420</th>\n",
       "      <td>Zimbabwe</td>\n",
       "      <td>2009-01-01</td>\n",
       "      <td>NaN</td>\n",
       "      <td>NaN</td>\n",
       "    </tr>\n",
       "    <tr>\n",
       "      <th>21421</th>\n",
       "      <td>Zimbabwe</td>\n",
       "      <td>2010-01-01</td>\n",
       "      <td>NaN</td>\n",
       "      <td>NaN</td>\n",
       "    </tr>\n",
       "    <tr>\n",
       "      <th>21422</th>\n",
       "      <td>Zimbabwe</td>\n",
       "      <td>2011-01-01</td>\n",
       "      <td>Sub-Saharan Africa</td>\n",
       "      <td>526.33</td>\n",
       "    </tr>\n",
       "  </tbody>\n",
       "</table>\n",
       "<p>21423 rows × 4 columns</p>\n",
       "</div>"
      ],
      "text/plain": [
       "           Country       Year                                         Region  \\\n",
       "0      Afghanistan 1901-01-01  Middle East, North Africa, and Greater Arabia   \n",
       "1      Afghanistan 1902-01-01                                            NaN   \n",
       "2      Afghanistan 1903-01-01                                            NaN   \n",
       "3      Afghanistan 1904-01-01                                            NaN   \n",
       "4      Afghanistan 1905-01-01                                            NaN   \n",
       "...            ...        ...                                            ...   \n",
       "21418     Zimbabwe 2007-01-01                                            NaN   \n",
       "21419     Zimbabwe 2008-01-01                                            NaN   \n",
       "21420     Zimbabwe 2009-01-01                                            NaN   \n",
       "21421     Zimbabwe 2010-01-01                                            NaN   \n",
       "21422     Zimbabwe 2011-01-01                             Sub-Saharan Africa   \n",
       "\n",
       "        GDP_pp   \n",
       "0        613.99  \n",
       "1           NaN  \n",
       "2           NaN  \n",
       "3           NaN  \n",
       "4           NaN  \n",
       "...         ...  \n",
       "21418       NaN  \n",
       "21419       NaN  \n",
       "21420       NaN  \n",
       "21421       NaN  \n",
       "21422    526.33  \n",
       "\n",
       "[21423 rows x 4 columns]"
      ]
     },
     "execution_count": 85,
     "metadata": {},
     "output_type": "execute_result"
    }
   ],
   "source": [
    "df_countries_x_years"
   ]
  },
  {
   "cell_type": "code",
   "execution_count": 86,
   "id": "14b437d5",
   "metadata": {},
   "outputs": [],
   "source": [
    "df_countries_x_years[' GDP_pp '] = df_countries_x_years.groupby('Country')[' GDP_pp '].transform(lambda x: x.interpolate(method='linear'))"
   ]
  },
  {
   "cell_type": "code",
   "execution_count": 87,
   "id": "96122ee2",
   "metadata": {},
   "outputs": [],
   "source": [
    "df_countries_x_years[' GDP_pp '] = round(df_countries_x_years[' GDP_pp '] , 2)"
   ]
  },
  {
   "cell_type": "code",
   "execution_count": 88,
   "id": "fda00470",
   "metadata": {},
   "outputs": [
    {
     "data": {
      "application/vnd.microsoft.datawrangler.viewer.v0+json": {
       "columns": [
        {
         "name": "index",
         "rawType": "int64",
         "type": "integer"
        },
        {
         "name": "Country",
         "rawType": "object",
         "type": "string"
        },
        {
         "name": "Year",
         "rawType": "datetime64[ns]",
         "type": "datetime"
        },
        {
         "name": "Region",
         "rawType": "object",
         "type": "unknown"
        },
        {
         "name": " GDP_pp ",
         "rawType": "float64",
         "type": "float"
        }
       ],
       "conversionMethod": "pd.DataFrame",
       "ref": "f20f74d2-9719-47f4-86bf-04ae494fe92d",
       "rows": [
        [
         "0",
         "Afghanistan",
         "1901-01-01 00:00:00",
         "Middle East, North Africa, and Greater Arabia",
         "613.99"
        ],
        [
         "1",
         "Afghanistan",
         "1902-01-01 00:00:00",
         null,
         "616.0"
        ],
        [
         "2",
         "Afghanistan",
         "1903-01-01 00:00:00",
         null,
         "618.01"
        ],
        [
         "3",
         "Afghanistan",
         "1904-01-01 00:00:00",
         null,
         "620.02"
        ],
        [
         "4",
         "Afghanistan",
         "1905-01-01 00:00:00",
         null,
         "622.03"
        ],
        [
         "5",
         "Afghanistan",
         "1906-01-01 00:00:00",
         "Middle East, North Africa, and Greater Arabia",
         "624.04"
        ],
        [
         "6",
         "Afghanistan",
         "1907-01-01 00:00:00",
         null,
         "626.08"
        ],
        [
         "7",
         "Afghanistan",
         "1908-01-01 00:00:00",
         null,
         "628.12"
        ],
        [
         "8",
         "Afghanistan",
         "1909-01-01 00:00:00",
         null,
         "630.17"
        ],
        [
         "9",
         "Afghanistan",
         "1910-01-01 00:00:00",
         null,
         "632.21"
        ],
        [
         "10",
         "Afghanistan",
         "1911-01-01 00:00:00",
         "Middle East, North Africa, and Greater Arabia",
         "634.25"
        ],
        [
         "11",
         "Afghanistan",
         "1912-01-01 00:00:00",
         null,
         "636.86"
        ],
        [
         "12",
         "Afghanistan",
         "1913-01-01 00:00:00",
         null,
         "639.46"
        ],
        [
         "13",
         "Afghanistan",
         "1914-01-01 00:00:00",
         null,
         "642.07"
        ],
        [
         "14",
         "Afghanistan",
         "1915-01-01 00:00:00",
         null,
         "644.67"
        ],
        [
         "15",
         "Afghanistan",
         "1916-01-01 00:00:00",
         "Middle East, North Africa, and Greater Arabia",
         "647.28"
        ],
        [
         "16",
         "Afghanistan",
         "1917-01-01 00:00:00",
         null,
         "650.3"
        ],
        [
         "17",
         "Afghanistan",
         "1918-01-01 00:00:00",
         null,
         "653.33"
        ],
        [
         "18",
         "Afghanistan",
         "1919-01-01 00:00:00",
         null,
         "656.35"
        ],
        [
         "19",
         "Afghanistan",
         "1920-01-01 00:00:00",
         null,
         "659.38"
        ],
        [
         "20",
         "Afghanistan",
         "1921-01-01 00:00:00",
         "Middle East, North Africa, and Greater Arabia",
         "662.4"
        ],
        [
         "21",
         "Afghanistan",
         "1922-01-01 00:00:00",
         null,
         "665.49"
        ],
        [
         "22",
         "Afghanistan",
         "1923-01-01 00:00:00",
         null,
         "668.59"
        ],
        [
         "23",
         "Afghanistan",
         "1924-01-01 00:00:00",
         null,
         "671.68"
        ],
        [
         "24",
         "Afghanistan",
         "1925-01-01 00:00:00",
         null,
         "674.78"
        ],
        [
         "25",
         "Afghanistan",
         "1926-01-01 00:00:00",
         "Middle East, North Africa, and Greater Arabia",
         "677.87"
        ],
        [
         "26",
         "Afghanistan",
         "1927-01-01 00:00:00",
         null,
         "681.04"
        ],
        [
         "27",
         "Afghanistan",
         "1928-01-01 00:00:00",
         null,
         "684.21"
        ],
        [
         "28",
         "Afghanistan",
         "1929-01-01 00:00:00",
         null,
         "687.37"
        ],
        [
         "29",
         "Afghanistan",
         "1930-01-01 00:00:00",
         null,
         "690.54"
        ],
        [
         "30",
         "Afghanistan",
         "1931-01-01 00:00:00",
         "Middle East, North Africa, and Greater Arabia",
         "693.71"
        ],
        [
         "31",
         "Afghanistan",
         "1932-01-01 00:00:00",
         null,
         "696.95"
        ],
        [
         "32",
         "Afghanistan",
         "1933-01-01 00:00:00",
         null,
         "700.19"
        ],
        [
         "33",
         "Afghanistan",
         "1934-01-01 00:00:00",
         null,
         "703.43"
        ],
        [
         "34",
         "Afghanistan",
         "1935-01-01 00:00:00",
         null,
         "706.67"
        ],
        [
         "35",
         "Afghanistan",
         "1936-01-01 00:00:00",
         "Middle East, North Africa, and Greater Arabia",
         "709.91"
        ],
        [
         "36",
         "Afghanistan",
         "1937-01-01 00:00:00",
         null,
         "713.23"
        ],
        [
         "37",
         "Afghanistan",
         "1938-01-01 00:00:00",
         null,
         "716.54"
        ],
        [
         "38",
         "Afghanistan",
         "1939-01-01 00:00:00",
         null,
         "719.86"
        ],
        [
         "39",
         "Afghanistan",
         "1940-01-01 00:00:00",
         null,
         "723.17"
        ],
        [
         "40",
         "Afghanistan",
         "1941-01-01 00:00:00",
         "Middle East, North Africa, and Greater Arabia",
         "726.49"
        ],
        [
         "41",
         "Afghanistan",
         "1942-01-01 00:00:00",
         null,
         "729.88"
        ],
        [
         "42",
         "Afghanistan",
         "1943-01-01 00:00:00",
         null,
         "733.28"
        ],
        [
         "43",
         "Afghanistan",
         "1944-01-01 00:00:00",
         null,
         "736.67"
        ],
        [
         "44",
         "Afghanistan",
         "1945-01-01 00:00:00",
         null,
         "740.07"
        ],
        [
         "45",
         "Afghanistan",
         "1946-01-01 00:00:00",
         "Middle East, North Africa, and Greater Arabia",
         "743.46"
        ],
        [
         "46",
         "Afghanistan",
         "1947-01-01 00:00:00",
         null,
         "748.12"
        ],
        [
         "47",
         "Afghanistan",
         "1948-01-01 00:00:00",
         null,
         "752.78"
        ],
        [
         "48",
         "Afghanistan",
         "1949-01-01 00:00:00",
         null,
         "757.43"
        ],
        [
         "49",
         "Afghanistan",
         "1950-01-01 00:00:00",
         null,
         "762.09"
        ]
       ],
       "shape": {
        "columns": 4,
        "rows": 21423
       }
      },
      "text/html": [
       "<div>\n",
       "<style scoped>\n",
       "    .dataframe tbody tr th:only-of-type {\n",
       "        vertical-align: middle;\n",
       "    }\n",
       "\n",
       "    .dataframe tbody tr th {\n",
       "        vertical-align: top;\n",
       "    }\n",
       "\n",
       "    .dataframe thead th {\n",
       "        text-align: right;\n",
       "    }\n",
       "</style>\n",
       "<table border=\"1\" class=\"dataframe\">\n",
       "  <thead>\n",
       "    <tr style=\"text-align: right;\">\n",
       "      <th></th>\n",
       "      <th>Country</th>\n",
       "      <th>Year</th>\n",
       "      <th>Region</th>\n",
       "      <th>GDP_pp</th>\n",
       "    </tr>\n",
       "  </thead>\n",
       "  <tbody>\n",
       "    <tr>\n",
       "      <th>0</th>\n",
       "      <td>Afghanistan</td>\n",
       "      <td>1901-01-01</td>\n",
       "      <td>Middle East, North Africa, and Greater Arabia</td>\n",
       "      <td>613.99</td>\n",
       "    </tr>\n",
       "    <tr>\n",
       "      <th>1</th>\n",
       "      <td>Afghanistan</td>\n",
       "      <td>1902-01-01</td>\n",
       "      <td>NaN</td>\n",
       "      <td>616.00</td>\n",
       "    </tr>\n",
       "    <tr>\n",
       "      <th>2</th>\n",
       "      <td>Afghanistan</td>\n",
       "      <td>1903-01-01</td>\n",
       "      <td>NaN</td>\n",
       "      <td>618.01</td>\n",
       "    </tr>\n",
       "    <tr>\n",
       "      <th>3</th>\n",
       "      <td>Afghanistan</td>\n",
       "      <td>1904-01-01</td>\n",
       "      <td>NaN</td>\n",
       "      <td>620.02</td>\n",
       "    </tr>\n",
       "    <tr>\n",
       "      <th>4</th>\n",
       "      <td>Afghanistan</td>\n",
       "      <td>1905-01-01</td>\n",
       "      <td>NaN</td>\n",
       "      <td>622.03</td>\n",
       "    </tr>\n",
       "    <tr>\n",
       "      <th>...</th>\n",
       "      <td>...</td>\n",
       "      <td>...</td>\n",
       "      <td>...</td>\n",
       "      <td>...</td>\n",
       "    </tr>\n",
       "    <tr>\n",
       "      <th>21418</th>\n",
       "      <td>Zimbabwe</td>\n",
       "      <td>2007-01-01</td>\n",
       "      <td>NaN</td>\n",
       "      <td>521.40</td>\n",
       "    </tr>\n",
       "    <tr>\n",
       "      <th>21419</th>\n",
       "      <td>Zimbabwe</td>\n",
       "      <td>2008-01-01</td>\n",
       "      <td>NaN</td>\n",
       "      <td>522.63</td>\n",
       "    </tr>\n",
       "    <tr>\n",
       "      <th>21420</th>\n",
       "      <td>Zimbabwe</td>\n",
       "      <td>2009-01-01</td>\n",
       "      <td>NaN</td>\n",
       "      <td>523.87</td>\n",
       "    </tr>\n",
       "    <tr>\n",
       "      <th>21421</th>\n",
       "      <td>Zimbabwe</td>\n",
       "      <td>2010-01-01</td>\n",
       "      <td>NaN</td>\n",
       "      <td>525.10</td>\n",
       "    </tr>\n",
       "    <tr>\n",
       "      <th>21422</th>\n",
       "      <td>Zimbabwe</td>\n",
       "      <td>2011-01-01</td>\n",
       "      <td>Sub-Saharan Africa</td>\n",
       "      <td>526.33</td>\n",
       "    </tr>\n",
       "  </tbody>\n",
       "</table>\n",
       "<p>21423 rows × 4 columns</p>\n",
       "</div>"
      ],
      "text/plain": [
       "           Country       Year                                         Region  \\\n",
       "0      Afghanistan 1901-01-01  Middle East, North Africa, and Greater Arabia   \n",
       "1      Afghanistan 1902-01-01                                            NaN   \n",
       "2      Afghanistan 1903-01-01                                            NaN   \n",
       "3      Afghanistan 1904-01-01                                            NaN   \n",
       "4      Afghanistan 1905-01-01                                            NaN   \n",
       "...            ...        ...                                            ...   \n",
       "21418     Zimbabwe 2007-01-01                                            NaN   \n",
       "21419     Zimbabwe 2008-01-01                                            NaN   \n",
       "21420     Zimbabwe 2009-01-01                                            NaN   \n",
       "21421     Zimbabwe 2010-01-01                                            NaN   \n",
       "21422     Zimbabwe 2011-01-01                             Sub-Saharan Africa   \n",
       "\n",
       "        GDP_pp   \n",
       "0        613.99  \n",
       "1        616.00  \n",
       "2        618.01  \n",
       "3        620.02  \n",
       "4        622.03  \n",
       "...         ...  \n",
       "21418    521.40  \n",
       "21419    522.63  \n",
       "21420    523.87  \n",
       "21421    525.10  \n",
       "21422    526.33  \n",
       "\n",
       "[21423 rows x 4 columns]"
      ]
     },
     "execution_count": 88,
     "metadata": {},
     "output_type": "execute_result"
    }
   ],
   "source": [
    "df_countries_x_years"
   ]
  }
 ],
 "metadata": {
  "kernelspec": {
   "display_name": "Python 3",
   "language": "python",
   "name": "python3"
  },
  "language_info": {
   "codemirror_mode": {
    "name": "ipython",
    "version": 3
   },
   "file_extension": ".py",
   "mimetype": "text/x-python",
   "name": "python",
   "nbconvert_exporter": "python",
   "pygments_lexer": "ipython3",
   "version": "3.13.2"
  }
 },
 "nbformat": 4,
 "nbformat_minor": 5
}
