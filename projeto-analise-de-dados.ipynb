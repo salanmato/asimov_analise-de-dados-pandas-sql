{
 "cells": [
  {
   "cell_type": "markdown",
   "id": "motivated-olympus",
   "metadata": {},
   "source": [
    "# Projeto final\n",
    "\n",
    "Bem vindo ao projeto final do curso/módulo de Pandas.\n",
    "Neste projeto, você deve responder a um conjunto de perguntas feitas a dois conjuntos de dados:\n",
    "\n",
    "1. [Obesity among adults by country, 1975-2016](https://www.kaggle.com/amanarora/obesity-among-adults-by-country-19752016/)\n",
    "2. [GDP Per Person (1901-2011)](https://www.kaggle.com/divyansh22/gdp-per-person-19012011?select=GDP.csv)\n",
    "\n",
    "Tais conjuntos de dados são públicos foram publicados no Kaggle. Mais instruções sobre cada um deles podem ser encontrados nos links acima. Você também os encontrará na pasta `Datasets`, dentro de nossas apostilas."
   ]
  },
  {
   "cell_type": "code",
   "execution_count": 2,
   "id": "million-survival",
   "metadata": {},
   "outputs": [],
   "source": [
    "import pandas as pd\n",
    "import numpy as np\n",
    "import matplotlib.pyplot as plt"
   ]
  },
  {
   "cell_type": "markdown",
   "id": "becoming-princeton",
   "metadata": {},
   "source": [
    "## Perguntas - Obesity among adults by country, 1975-2016"
   ]
  },
  {
   "cell_type": "code",
   "execution_count": 3,
   "id": "formal-heater",
   "metadata": {},
   "outputs": [],
   "source": [
    "df_obesity = pd.read_csv(\"obesity_cleaned.csv\")"
   ]
  },
  {
   "cell_type": "code",
   "execution_count": 4,
   "id": "2e5cd49f",
   "metadata": {},
   "outputs": [
    {
     "name": "stdout",
     "output_type": "stream",
     "text": [
      "<class 'pandas.core.frame.DataFrame'>\n",
      "RangeIndex: 24570 entries, 0 to 24569\n",
      "Data columns (total 5 columns):\n",
      " #   Column       Non-Null Count  Dtype \n",
      "---  ------       --------------  ----- \n",
      " 0   Unnamed: 0   24570 non-null  int64 \n",
      " 1   Country      24570 non-null  object\n",
      " 2   Year         24570 non-null  int64 \n",
      " 3   Obesity (%)  24570 non-null  object\n",
      " 4   Sex          24570 non-null  object\n",
      "dtypes: int64(2), object(3)\n",
      "memory usage: 959.9+ KB\n"
     ]
    }
   ],
   "source": [
    "df_obesity.info()"
   ]
  },
  {
   "cell_type": "markdown",
   "id": "divine-rebel",
   "metadata": {},
   "source": [
    "- Limpe os dados do DataFrame, criando uma coluna de nome 'Obesity' que conterá os valores de obesidade. Transforme em float as colunas que porventura foram importadas como string."
   ]
  },
  {
   "cell_type": "code",
   "execution_count": 5,
   "id": "cubic-minneapolis",
   "metadata": {},
   "outputs": [],
   "source": [
    "df_obesity['Obesity (%)'] = (\n",
    "    df_obesity['Obesity (%)']\n",
    "    .str.replace(r'\\[.*\\]', '', regex=True)  # Remove tudo dentro de colchetes\n",
    "    .str.replace('%', '')                    # Remove o símbolo %\n",
    "    .replace('N/A', 'NaN')           )        # Substitui 'N/A' por 'NaN'   "
   ]
  },
  {
   "cell_type": "code",
   "execution_count": 6,
   "id": "56ac6255",
   "metadata": {},
   "outputs": [],
   "source": [
    "df_obesity['Obesity (%)'] = pd.to_numeric(df_obesity['Obesity (%)'], errors='coerce') # Converte para float"
   ]
  },
  {
   "cell_type": "code",
   "execution_count": 7,
   "id": "13700664",
   "metadata": {},
   "outputs": [],
   "source": [
    "df_obesity['Obesity'] = df_obesity['Obesity (%)']"
   ]
  },
  {
   "cell_type": "markdown",
   "id": "voluntary-temperature",
   "metadata": {},
   "source": [
    "- Qual o percentual médio de obesidade por sexo no mundo no ano de 2015?"
   ]
  },
  {
   "cell_type": "code",
   "execution_count": 8,
   "id": "afraid-reminder",
   "metadata": {},
   "outputs": [],
   "source": [
    "df_obesity_2015 = df_obesity[df_obesity['Year'] == 2015]\n",
    "df_obesity_2015 = df_obesity_2015.groupby('Sex')['Obesity (%)'].mean().reset_index()"
   ]
  },
  {
   "cell_type": "code",
   "execution_count": 9,
   "id": "1ca99e1f",
   "metadata": {},
   "outputs": [
    {
     "data": {
      "application/vnd.microsoft.datawrangler.viewer.v0+json": {
       "columns": [
        {
         "name": "index",
         "rawType": "int64",
         "type": "integer"
        },
        {
         "name": "Sex",
         "rawType": "object",
         "type": "string"
        },
        {
         "name": "Obesity (%)",
         "rawType": "float64",
         "type": "float"
        }
       ],
       "conversionMethod": "pd.DataFrame",
       "ref": "42454b36-e04a-432b-82b4-93b00a8c0824",
       "rows": [
        [
         "0",
         "Both sexes",
         "19.508376963350784"
        ],
        [
         "1",
         "Female",
         "22.899476439790575"
        ],
        [
         "2",
         "Male",
         "15.98062827225131"
        ]
       ],
       "shape": {
        "columns": 2,
        "rows": 3
       }
      },
      "text/html": [
       "<div>\n",
       "<style scoped>\n",
       "    .dataframe tbody tr th:only-of-type {\n",
       "        vertical-align: middle;\n",
       "    }\n",
       "\n",
       "    .dataframe tbody tr th {\n",
       "        vertical-align: top;\n",
       "    }\n",
       "\n",
       "    .dataframe thead th {\n",
       "        text-align: right;\n",
       "    }\n",
       "</style>\n",
       "<table border=\"1\" class=\"dataframe\">\n",
       "  <thead>\n",
       "    <tr style=\"text-align: right;\">\n",
       "      <th></th>\n",
       "      <th>Sex</th>\n",
       "      <th>Obesity (%)</th>\n",
       "    </tr>\n",
       "  </thead>\n",
       "  <tbody>\n",
       "    <tr>\n",
       "      <th>0</th>\n",
       "      <td>Both sexes</td>\n",
       "      <td>19.508377</td>\n",
       "    </tr>\n",
       "    <tr>\n",
       "      <th>1</th>\n",
       "      <td>Female</td>\n",
       "      <td>22.899476</td>\n",
       "    </tr>\n",
       "    <tr>\n",
       "      <th>2</th>\n",
       "      <td>Male</td>\n",
       "      <td>15.980628</td>\n",
       "    </tr>\n",
       "  </tbody>\n",
       "</table>\n",
       "</div>"
      ],
      "text/plain": [
       "          Sex  Obesity (%)\n",
       "0  Both sexes    19.508377\n",
       "1      Female    22.899476\n",
       "2        Male    15.980628"
      ]
     },
     "execution_count": 9,
     "metadata": {},
     "output_type": "execute_result"
    }
   ],
   "source": [
    "df_obesity_2015"
   ]
  },
  {
   "cell_type": "markdown",
   "id": "expected-kruger",
   "metadata": {},
   "source": [
    "- Quais são os 5 países com a maior e a menor taxa de aumento nos índices de obesidade no período observado?"
   ]
  },
  {
   "cell_type": "code",
   "execution_count": 13,
   "id": "phantom-going",
   "metadata": {},
   "outputs": [
    {
     "name": "stderr",
     "output_type": "stream",
     "text": [
      "C:\\Users\\alant\\AppData\\Local\\Temp\\ipykernel_12880\\1052293033.py:2: DeprecationWarning: DataFrameGroupBy.apply operated on the grouping columns. This behavior is deprecated, and in a future version of pandas the grouping columns will be excluded from the operation. Either pass `include_groups=False` to exclude the groupings or explicitly select the grouping columns after groupby to silence this warning.\n",
      "  df_by_country = df_by_country.groupby('Country').apply(lambda x: (x['Obesity (%)'].iloc[-1] - x['Obesity (%)'].iloc[0])).reset_index(name='Taxa de Aumento')\n"
     ]
    }
   ],
   "source": [
    "df_by_country = df_obesity.dropna(subset=['Obesity (%)']) # eliminando os NaN com .dropna\n",
    "df_by_country = df_by_country.groupby('Country').apply(lambda x: (x['Obesity (%)'].iloc[-1] - x['Obesity (%)'].iloc[0])).reset_index(name='Taxa de Aumento')"
   ]
  },
  {
   "cell_type": "code",
   "execution_count": 14,
   "id": "c4bd0bfa",
   "metadata": {},
   "outputs": [],
   "source": [
    "df_by_country = df_by_country.sort_values(by='Taxa de Aumento', ascending=False)"
   ]
  },
  {
   "cell_type": "code",
   "execution_count": 15,
   "id": "7a58962b",
   "metadata": {},
   "outputs": [],
   "source": [
    "df_by_country_top_5_head = df_by_country.head(5)\n",
    "df_by_country_top_5_tail = df_by_country.tail(5)"
   ]
  },
  {
   "cell_type": "code",
   "execution_count": 16,
   "id": "57386293",
   "metadata": {},
   "outputs": [
    {
     "data": {
      "application/vnd.microsoft.datawrangler.viewer.v0+json": {
       "columns": [
        {
         "name": "index",
         "rawType": "int64",
         "type": "integer"
        },
        {
         "name": "Country",
         "rawType": "object",
         "type": "string"
        },
        {
         "name": "Taxa de Aumento",
         "rawType": "float64",
         "type": "float"
        }
       ],
       "conversionMethod": "pd.DataFrame",
       "ref": "fa5aa395-d6e4-4117-bf71-c0cd35f675a5",
       "rows": [
        [
         "176",
         "Tuvalu",
         "38.300000000000004"
        ],
        [
         "125",
         "Niue",
         "36.2"
        ],
        [
         "147",
         "Samoa",
         "34.8"
        ],
        [
         "171",
         "Tonga",
         "34.6"
        ],
        [
         "90",
         "Kiribati",
         "34.5"
        ]
       ],
       "shape": {
        "columns": 2,
        "rows": 5
       }
      },
      "text/html": [
       "<div>\n",
       "<style scoped>\n",
       "    .dataframe tbody tr th:only-of-type {\n",
       "        vertical-align: middle;\n",
       "    }\n",
       "\n",
       "    .dataframe tbody tr th {\n",
       "        vertical-align: top;\n",
       "    }\n",
       "\n",
       "    .dataframe thead th {\n",
       "        text-align: right;\n",
       "    }\n",
       "</style>\n",
       "<table border=\"1\" class=\"dataframe\">\n",
       "  <thead>\n",
       "    <tr style=\"text-align: right;\">\n",
       "      <th></th>\n",
       "      <th>Country</th>\n",
       "      <th>Taxa de Aumento</th>\n",
       "    </tr>\n",
       "  </thead>\n",
       "  <tbody>\n",
       "    <tr>\n",
       "      <th>176</th>\n",
       "      <td>Tuvalu</td>\n",
       "      <td>38.3</td>\n",
       "    </tr>\n",
       "    <tr>\n",
       "      <th>125</th>\n",
       "      <td>Niue</td>\n",
       "      <td>36.2</td>\n",
       "    </tr>\n",
       "    <tr>\n",
       "      <th>147</th>\n",
       "      <td>Samoa</td>\n",
       "      <td>34.8</td>\n",
       "    </tr>\n",
       "    <tr>\n",
       "      <th>171</th>\n",
       "      <td>Tonga</td>\n",
       "      <td>34.6</td>\n",
       "    </tr>\n",
       "    <tr>\n",
       "      <th>90</th>\n",
       "      <td>Kiribati</td>\n",
       "      <td>34.5</td>\n",
       "    </tr>\n",
       "  </tbody>\n",
       "</table>\n",
       "</div>"
      ],
      "text/plain": [
       "      Country  Taxa de Aumento\n",
       "176    Tuvalu             38.3\n",
       "125      Niue             36.2\n",
       "147     Samoa             34.8\n",
       "171     Tonga             34.6\n",
       "90   Kiribati             34.5"
      ]
     },
     "execution_count": 16,
     "metadata": {},
     "output_type": "execute_result"
    }
   ],
   "source": [
    "df_by_country_top_5_head"
   ]
  },
  {
   "cell_type": "code",
   "execution_count": 17,
   "id": "0cd24b0d",
   "metadata": {},
   "outputs": [
    {
     "data": {
      "application/vnd.microsoft.datawrangler.viewer.v0+json": {
       "columns": [
        {
         "name": "index",
         "rawType": "int64",
         "type": "integer"
        },
        {
         "name": "Country",
         "rawType": "object",
         "type": "string"
        },
        {
         "name": "Taxa de Aumento",
         "rawType": "float64",
         "type": "float"
        }
       ],
       "conversionMethod": "pd.DataFrame",
       "ref": "58dc3850-dcab-46e8-9345-e135321b031f",
       "rows": [
        [
         "29",
         "Cambodia",
         "4.5"
        ],
        [
         "138",
         "Republic of Korea",
         "4.2"
        ],
        [
         "154",
         "Singapore",
         "3.3"
        ],
        [
         "86",
         "Japan",
         "2.7"
        ],
        [
         "187",
         "Viet Nam",
         "2.5"
        ]
       ],
       "shape": {
        "columns": 2,
        "rows": 5
       }
      },
      "text/html": [
       "<div>\n",
       "<style scoped>\n",
       "    .dataframe tbody tr th:only-of-type {\n",
       "        vertical-align: middle;\n",
       "    }\n",
       "\n",
       "    .dataframe tbody tr th {\n",
       "        vertical-align: top;\n",
       "    }\n",
       "\n",
       "    .dataframe thead th {\n",
       "        text-align: right;\n",
       "    }\n",
       "</style>\n",
       "<table border=\"1\" class=\"dataframe\">\n",
       "  <thead>\n",
       "    <tr style=\"text-align: right;\">\n",
       "      <th></th>\n",
       "      <th>Country</th>\n",
       "      <th>Taxa de Aumento</th>\n",
       "    </tr>\n",
       "  </thead>\n",
       "  <tbody>\n",
       "    <tr>\n",
       "      <th>29</th>\n",
       "      <td>Cambodia</td>\n",
       "      <td>4.5</td>\n",
       "    </tr>\n",
       "    <tr>\n",
       "      <th>138</th>\n",
       "      <td>Republic of Korea</td>\n",
       "      <td>4.2</td>\n",
       "    </tr>\n",
       "    <tr>\n",
       "      <th>154</th>\n",
       "      <td>Singapore</td>\n",
       "      <td>3.3</td>\n",
       "    </tr>\n",
       "    <tr>\n",
       "      <th>86</th>\n",
       "      <td>Japan</td>\n",
       "      <td>2.7</td>\n",
       "    </tr>\n",
       "    <tr>\n",
       "      <th>187</th>\n",
       "      <td>Viet Nam</td>\n",
       "      <td>2.5</td>\n",
       "    </tr>\n",
       "  </tbody>\n",
       "</table>\n",
       "</div>"
      ],
      "text/plain": [
       "               Country  Taxa de Aumento\n",
       "29            Cambodia              4.5\n",
       "138  Republic of Korea              4.2\n",
       "154          Singapore              3.3\n",
       "86               Japan              2.7\n",
       "187           Viet Nam              2.5"
      ]
     },
     "execution_count": 17,
     "metadata": {},
     "output_type": "execute_result"
    }
   ],
   "source": [
    "df_by_country_top_5_tail"
   ]
  },
  {
   "cell_type": "markdown",
   "id": "efficient-buyer",
   "metadata": {},
   "source": [
    "- Quais os países com maiores e menores níveis percetuais de obesidade em 2015?"
   ]
  },
  {
   "cell_type": "code",
   "execution_count": 18,
   "id": "violent-warren",
   "metadata": {},
   "outputs": [],
   "source": [
    "df_obesity_2015 = df_obesity[df_obesity['Year'] == 2015] # tive que refazer essa variavel pois dei um groupby em uma resposta la em cima\n",
    "\n",
    "df_countries_max_min = df_obesity_2015.groupby((df_obesity_2015['Sex'])).agg(\n",
    "    maior_tax = ('Obesity (%)', 'max'),\n",
    "    country_max_tax = ('Country', lambda x: x[df_obesity_2015.loc[x.index, 'Obesity (%)'].idxmax()]),\n",
    "    menor_tax = ('Obesity (%)', 'min'),\n",
    "    country_min_tax = ('Country', lambda x: x[df_obesity_2015.loc[x.index, 'Obesity (%)'].idxmin()])\n",
    ")"
   ]
  },
  {
   "cell_type": "code",
   "execution_count": 19,
   "id": "9dab9ef3",
   "metadata": {},
   "outputs": [
    {
     "data": {
      "application/vnd.microsoft.datawrangler.viewer.v0+json": {
       "columns": [
        {
         "name": "Sex",
         "rawType": "object",
         "type": "string"
        },
        {
         "name": "maior_tax",
         "rawType": "float64",
         "type": "float"
        },
        {
         "name": "country_max_tax",
         "rawType": "object",
         "type": "string"
        },
        {
         "name": "menor_tax",
         "rawType": "float64",
         "type": "float"
        },
        {
         "name": "country_min_tax",
         "rawType": "object",
         "type": "string"
        }
       ],
       "conversionMethod": "pd.DataFrame",
       "ref": "61da2cf1-4230-4d95-982f-c43f6e79fbe0",
       "rows": [
        [
         "Both sexes",
         "60.7",
         "Nauru",
         "2.0",
         "Viet Nam"
        ],
        [
         "Female",
         "63.1",
         "Nauru",
         "2.4",
         "Viet Nam"
        ],
        [
         "Male",
         "58.2",
         "Nauru",
         "1.5",
         "Viet Nam"
        ]
       ],
       "shape": {
        "columns": 4,
        "rows": 3
       }
      },
      "text/html": [
       "<div>\n",
       "<style scoped>\n",
       "    .dataframe tbody tr th:only-of-type {\n",
       "        vertical-align: middle;\n",
       "    }\n",
       "\n",
       "    .dataframe tbody tr th {\n",
       "        vertical-align: top;\n",
       "    }\n",
       "\n",
       "    .dataframe thead th {\n",
       "        text-align: right;\n",
       "    }\n",
       "</style>\n",
       "<table border=\"1\" class=\"dataframe\">\n",
       "  <thead>\n",
       "    <tr style=\"text-align: right;\">\n",
       "      <th></th>\n",
       "      <th>maior_tax</th>\n",
       "      <th>country_max_tax</th>\n",
       "      <th>menor_tax</th>\n",
       "      <th>country_min_tax</th>\n",
       "    </tr>\n",
       "    <tr>\n",
       "      <th>Sex</th>\n",
       "      <th></th>\n",
       "      <th></th>\n",
       "      <th></th>\n",
       "      <th></th>\n",
       "    </tr>\n",
       "  </thead>\n",
       "  <tbody>\n",
       "    <tr>\n",
       "      <th>Both sexes</th>\n",
       "      <td>60.7</td>\n",
       "      <td>Nauru</td>\n",
       "      <td>2.0</td>\n",
       "      <td>Viet Nam</td>\n",
       "    </tr>\n",
       "    <tr>\n",
       "      <th>Female</th>\n",
       "      <td>63.1</td>\n",
       "      <td>Nauru</td>\n",
       "      <td>2.4</td>\n",
       "      <td>Viet Nam</td>\n",
       "    </tr>\n",
       "    <tr>\n",
       "      <th>Male</th>\n",
       "      <td>58.2</td>\n",
       "      <td>Nauru</td>\n",
       "      <td>1.5</td>\n",
       "      <td>Viet Nam</td>\n",
       "    </tr>\n",
       "  </tbody>\n",
       "</table>\n",
       "</div>"
      ],
      "text/plain": [
       "            maior_tax country_max_tax  menor_tax country_min_tax\n",
       "Sex                                                             \n",
       "Both sexes       60.7           Nauru        2.0        Viet Nam\n",
       "Female           63.1           Nauru        2.4        Viet Nam\n",
       "Male             58.2           Nauru        1.5        Viet Nam"
      ]
     },
     "execution_count": 19,
     "metadata": {},
     "output_type": "execute_result"
    }
   ],
   "source": [
    "df_countries_max_min"
   ]
  },
  {
   "cell_type": "markdown",
   "id": "average-holiday",
   "metadata": {},
   "source": [
    "- Qual a diferença média percentual de obesidade entre sexos ao longo dos anos para o Brasil?"
   ]
  },
  {
   "cell_type": "code",
   "execution_count": 32,
   "id": "later-occurrence",
   "metadata": {},
   "outputs": [],
   "source": [
    "df_obesity_in_brasil = df_obesity[df_obesity['Country'] == 'Brazil']\n",
    "df_obesity_in_brasil_per_year = df_obesity_in_brasil.groupby(['Year', 'Sex'])['Obesity (%)'].mean().unstack().reset_index()"
   ]
  },
  {
   "cell_type": "code",
   "execution_count": 35,
   "id": "1ce9af6e",
   "metadata": {},
   "outputs": [
    {
     "data": {
      "application/vnd.microsoft.datawrangler.viewer.v0+json": {
       "columns": [
        {
         "name": "index",
         "rawType": "int64",
         "type": "integer"
        },
        {
         "name": "Year",
         "rawType": "int64",
         "type": "integer"
        },
        {
         "name": "Obesity Both (%)",
         "rawType": "float64",
         "type": "float"
        },
        {
         "name": "Obesity Female (%)",
         "rawType": "float64",
         "type": "float"
        },
        {
         "name": "Obesity Male (%)",
         "rawType": "float64",
         "type": "float"
        },
        {
         "name": "Diferença entre sexos (%) (M - F)",
         "rawType": "float64",
         "type": "float"
        }
       ],
       "conversionMethod": "pd.DataFrame",
       "ref": "47c3e99e-881a-4a59-a68f-5036803b9938",
       "rows": [
        [
         "0",
         "1975",
         "5.2",
         "7.3",
         "3.0",
         "-4.3"
        ],
        [
         "1",
         "1976",
         "5.5",
         "7.6",
         "3.2",
         "-4.4"
        ],
        [
         "2",
         "1977",
         "5.7",
         "8.0",
         "3.4",
         "-4.6"
        ],
        [
         "3",
         "1978",
         "6.0",
         "8.3",
         "3.6",
         "-4.7"
        ],
        [
         "4",
         "1979",
         "6.3",
         "8.7",
         "3.8",
         "-4.9"
        ],
        [
         "5",
         "1980",
         "6.6",
         "9.0",
         "4.1",
         "-4.9"
        ],
        [
         "6",
         "1981",
         "6.9",
         "9.4",
         "4.3",
         "-5.1"
        ],
        [
         "7",
         "1982",
         "7.2",
         "9.8",
         "4.6",
         "-5.2"
        ],
        [
         "8",
         "1983",
         "7.6",
         "10.2",
         "4.8",
         "-5.4"
        ],
        [
         "9",
         "1984",
         "7.9",
         "10.6",
         "5.1",
         "-5.5"
        ],
        [
         "10",
         "1985",
         "8.3",
         "11.0",
         "5.4",
         "-5.6"
        ],
        [
         "11",
         "1986",
         "8.6",
         "11.4",
         "5.7",
         "-5.7"
        ],
        [
         "12",
         "1987",
         "9.0",
         "11.8",
         "6.0",
         "-5.8"
        ],
        [
         "13",
         "1988",
         "9.4",
         "12.2",
         "6.3",
         "-5.9"
        ],
        [
         "14",
         "1989",
         "9.8",
         "12.7",
         "6.7",
         "-6.0"
        ],
        [
         "15",
         "1990",
         "10.2",
         "13.1",
         "7.0",
         "-6.1"
        ],
        [
         "16",
         "1991",
         "10.6",
         "13.5",
         "7.4",
         "-6.1"
        ],
        [
         "17",
         "1992",
         "11.0",
         "14.0",
         "7.7",
         "-6.3"
        ],
        [
         "18",
         "1993",
         "11.4",
         "14.4",
         "8.1",
         "-6.3"
        ],
        [
         "19",
         "1994",
         "11.8",
         "14.9",
         "8.5",
         "-6.4"
        ],
        [
         "20",
         "1995",
         "12.2",
         "15.3",
         "8.9",
         "-6.4"
        ],
        [
         "21",
         "1996",
         "12.7",
         "15.8",
         "9.3",
         "-6.5"
        ],
        [
         "22",
         "1997",
         "13.1",
         "16.3",
         "9.7",
         "-6.6"
        ],
        [
         "23",
         "1998",
         "13.6",
         "16.8",
         "10.1",
         "-6.7"
        ],
        [
         "24",
         "1999",
         "14.1",
         "17.3",
         "10.5",
         "-6.8"
        ],
        [
         "25",
         "2000",
         "14.5",
         "17.8",
         "11.0",
         "-6.8"
        ],
        [
         "26",
         "2001",
         "15.0",
         "18.2",
         "11.4",
         "-6.8"
        ],
        [
         "27",
         "2002",
         "15.5",
         "18.7",
         "11.9",
         "-6.8"
        ],
        [
         "28",
         "2003",
         "15.9",
         "19.2",
         "12.3",
         "-6.9"
        ],
        [
         "29",
         "2004",
         "16.4",
         "19.7",
         "12.8",
         "-6.9"
        ],
        [
         "30",
         "2005",
         "16.8",
         "20.1",
         "13.2",
         "-6.9"
        ],
        [
         "31",
         "2006",
         "17.3",
         "20.6",
         "13.7",
         "-6.9"
        ],
        [
         "32",
         "2007",
         "17.8",
         "21.1",
         "14.1",
         "-7.0"
        ],
        [
         "33",
         "2008",
         "18.2",
         "21.5",
         "14.6",
         "-6.9"
        ],
        [
         "34",
         "2009",
         "18.7",
         "22.0",
         "15.0",
         "-7.0"
        ],
        [
         "35",
         "2010",
         "19.2",
         "22.5",
         "15.5",
         "-7.0"
        ],
        [
         "36",
         "2011",
         "19.6",
         "22.9",
         "16.0",
         "-6.9"
        ],
        [
         "37",
         "2012",
         "20.1",
         "23.4",
         "16.5",
         "-6.9"
        ],
        [
         "38",
         "2013",
         "20.6",
         "23.9",
         "17.0",
         "-6.9"
        ],
        [
         "39",
         "2014",
         "21.1",
         "24.4",
         "17.5",
         "-6.9"
        ],
        [
         "40",
         "2015",
         "21.6",
         "24.9",
         "18.0",
         "-6.9"
        ],
        [
         "41",
         "2016",
         "22.1",
         "25.4",
         "18.5",
         "-6.9"
        ]
       ],
       "shape": {
        "columns": 5,
        "rows": 42
       }
      },
      "text/html": [
       "<div>\n",
       "<style scoped>\n",
       "    .dataframe tbody tr th:only-of-type {\n",
       "        vertical-align: middle;\n",
       "    }\n",
       "\n",
       "    .dataframe tbody tr th {\n",
       "        vertical-align: top;\n",
       "    }\n",
       "\n",
       "    .dataframe thead th {\n",
       "        text-align: right;\n",
       "    }\n",
       "</style>\n",
       "<table border=\"1\" class=\"dataframe\">\n",
       "  <thead>\n",
       "    <tr style=\"text-align: right;\">\n",
       "      <th>Sex</th>\n",
       "      <th>Year</th>\n",
       "      <th>Obesity Both (%)</th>\n",
       "      <th>Obesity Female (%)</th>\n",
       "      <th>Obesity Male (%)</th>\n",
       "      <th>Diferença entre sexos (%) (M - F)</th>\n",
       "    </tr>\n",
       "  </thead>\n",
       "  <tbody>\n",
       "    <tr>\n",
       "      <th>0</th>\n",
       "      <td>1975</td>\n",
       "      <td>5.2</td>\n",
       "      <td>7.3</td>\n",
       "      <td>3.0</td>\n",
       "      <td>-4.3</td>\n",
       "    </tr>\n",
       "    <tr>\n",
       "      <th>1</th>\n",
       "      <td>1976</td>\n",
       "      <td>5.5</td>\n",
       "      <td>7.6</td>\n",
       "      <td>3.2</td>\n",
       "      <td>-4.4</td>\n",
       "    </tr>\n",
       "    <tr>\n",
       "      <th>2</th>\n",
       "      <td>1977</td>\n",
       "      <td>5.7</td>\n",
       "      <td>8.0</td>\n",
       "      <td>3.4</td>\n",
       "      <td>-4.6</td>\n",
       "    </tr>\n",
       "    <tr>\n",
       "      <th>3</th>\n",
       "      <td>1978</td>\n",
       "      <td>6.0</td>\n",
       "      <td>8.3</td>\n",
       "      <td>3.6</td>\n",
       "      <td>-4.7</td>\n",
       "    </tr>\n",
       "    <tr>\n",
       "      <th>4</th>\n",
       "      <td>1979</td>\n",
       "      <td>6.3</td>\n",
       "      <td>8.7</td>\n",
       "      <td>3.8</td>\n",
       "      <td>-4.9</td>\n",
       "    </tr>\n",
       "    <tr>\n",
       "      <th>5</th>\n",
       "      <td>1980</td>\n",
       "      <td>6.6</td>\n",
       "      <td>9.0</td>\n",
       "      <td>4.1</td>\n",
       "      <td>-4.9</td>\n",
       "    </tr>\n",
       "    <tr>\n",
       "      <th>6</th>\n",
       "      <td>1981</td>\n",
       "      <td>6.9</td>\n",
       "      <td>9.4</td>\n",
       "      <td>4.3</td>\n",
       "      <td>-5.1</td>\n",
       "    </tr>\n",
       "    <tr>\n",
       "      <th>7</th>\n",
       "      <td>1982</td>\n",
       "      <td>7.2</td>\n",
       "      <td>9.8</td>\n",
       "      <td>4.6</td>\n",
       "      <td>-5.2</td>\n",
       "    </tr>\n",
       "    <tr>\n",
       "      <th>8</th>\n",
       "      <td>1983</td>\n",
       "      <td>7.6</td>\n",
       "      <td>10.2</td>\n",
       "      <td>4.8</td>\n",
       "      <td>-5.4</td>\n",
       "    </tr>\n",
       "    <tr>\n",
       "      <th>9</th>\n",
       "      <td>1984</td>\n",
       "      <td>7.9</td>\n",
       "      <td>10.6</td>\n",
       "      <td>5.1</td>\n",
       "      <td>-5.5</td>\n",
       "    </tr>\n",
       "    <tr>\n",
       "      <th>10</th>\n",
       "      <td>1985</td>\n",
       "      <td>8.3</td>\n",
       "      <td>11.0</td>\n",
       "      <td>5.4</td>\n",
       "      <td>-5.6</td>\n",
       "    </tr>\n",
       "    <tr>\n",
       "      <th>11</th>\n",
       "      <td>1986</td>\n",
       "      <td>8.6</td>\n",
       "      <td>11.4</td>\n",
       "      <td>5.7</td>\n",
       "      <td>-5.7</td>\n",
       "    </tr>\n",
       "    <tr>\n",
       "      <th>12</th>\n",
       "      <td>1987</td>\n",
       "      <td>9.0</td>\n",
       "      <td>11.8</td>\n",
       "      <td>6.0</td>\n",
       "      <td>-5.8</td>\n",
       "    </tr>\n",
       "    <tr>\n",
       "      <th>13</th>\n",
       "      <td>1988</td>\n",
       "      <td>9.4</td>\n",
       "      <td>12.2</td>\n",
       "      <td>6.3</td>\n",
       "      <td>-5.9</td>\n",
       "    </tr>\n",
       "    <tr>\n",
       "      <th>14</th>\n",
       "      <td>1989</td>\n",
       "      <td>9.8</td>\n",
       "      <td>12.7</td>\n",
       "      <td>6.7</td>\n",
       "      <td>-6.0</td>\n",
       "    </tr>\n",
       "    <tr>\n",
       "      <th>15</th>\n",
       "      <td>1990</td>\n",
       "      <td>10.2</td>\n",
       "      <td>13.1</td>\n",
       "      <td>7.0</td>\n",
       "      <td>-6.1</td>\n",
       "    </tr>\n",
       "    <tr>\n",
       "      <th>16</th>\n",
       "      <td>1991</td>\n",
       "      <td>10.6</td>\n",
       "      <td>13.5</td>\n",
       "      <td>7.4</td>\n",
       "      <td>-6.1</td>\n",
       "    </tr>\n",
       "    <tr>\n",
       "      <th>17</th>\n",
       "      <td>1992</td>\n",
       "      <td>11.0</td>\n",
       "      <td>14.0</td>\n",
       "      <td>7.7</td>\n",
       "      <td>-6.3</td>\n",
       "    </tr>\n",
       "    <tr>\n",
       "      <th>18</th>\n",
       "      <td>1993</td>\n",
       "      <td>11.4</td>\n",
       "      <td>14.4</td>\n",
       "      <td>8.1</td>\n",
       "      <td>-6.3</td>\n",
       "    </tr>\n",
       "    <tr>\n",
       "      <th>19</th>\n",
       "      <td>1994</td>\n",
       "      <td>11.8</td>\n",
       "      <td>14.9</td>\n",
       "      <td>8.5</td>\n",
       "      <td>-6.4</td>\n",
       "    </tr>\n",
       "    <tr>\n",
       "      <th>20</th>\n",
       "      <td>1995</td>\n",
       "      <td>12.2</td>\n",
       "      <td>15.3</td>\n",
       "      <td>8.9</td>\n",
       "      <td>-6.4</td>\n",
       "    </tr>\n",
       "    <tr>\n",
       "      <th>21</th>\n",
       "      <td>1996</td>\n",
       "      <td>12.7</td>\n",
       "      <td>15.8</td>\n",
       "      <td>9.3</td>\n",
       "      <td>-6.5</td>\n",
       "    </tr>\n",
       "    <tr>\n",
       "      <th>22</th>\n",
       "      <td>1997</td>\n",
       "      <td>13.1</td>\n",
       "      <td>16.3</td>\n",
       "      <td>9.7</td>\n",
       "      <td>-6.6</td>\n",
       "    </tr>\n",
       "    <tr>\n",
       "      <th>23</th>\n",
       "      <td>1998</td>\n",
       "      <td>13.6</td>\n",
       "      <td>16.8</td>\n",
       "      <td>10.1</td>\n",
       "      <td>-6.7</td>\n",
       "    </tr>\n",
       "    <tr>\n",
       "      <th>24</th>\n",
       "      <td>1999</td>\n",
       "      <td>14.1</td>\n",
       "      <td>17.3</td>\n",
       "      <td>10.5</td>\n",
       "      <td>-6.8</td>\n",
       "    </tr>\n",
       "    <tr>\n",
       "      <th>25</th>\n",
       "      <td>2000</td>\n",
       "      <td>14.5</td>\n",
       "      <td>17.8</td>\n",
       "      <td>11.0</td>\n",
       "      <td>-6.8</td>\n",
       "    </tr>\n",
       "    <tr>\n",
       "      <th>26</th>\n",
       "      <td>2001</td>\n",
       "      <td>15.0</td>\n",
       "      <td>18.2</td>\n",
       "      <td>11.4</td>\n",
       "      <td>-6.8</td>\n",
       "    </tr>\n",
       "    <tr>\n",
       "      <th>27</th>\n",
       "      <td>2002</td>\n",
       "      <td>15.5</td>\n",
       "      <td>18.7</td>\n",
       "      <td>11.9</td>\n",
       "      <td>-6.8</td>\n",
       "    </tr>\n",
       "    <tr>\n",
       "      <th>28</th>\n",
       "      <td>2003</td>\n",
       "      <td>15.9</td>\n",
       "      <td>19.2</td>\n",
       "      <td>12.3</td>\n",
       "      <td>-6.9</td>\n",
       "    </tr>\n",
       "    <tr>\n",
       "      <th>29</th>\n",
       "      <td>2004</td>\n",
       "      <td>16.4</td>\n",
       "      <td>19.7</td>\n",
       "      <td>12.8</td>\n",
       "      <td>-6.9</td>\n",
       "    </tr>\n",
       "    <tr>\n",
       "      <th>30</th>\n",
       "      <td>2005</td>\n",
       "      <td>16.8</td>\n",
       "      <td>20.1</td>\n",
       "      <td>13.2</td>\n",
       "      <td>-6.9</td>\n",
       "    </tr>\n",
       "    <tr>\n",
       "      <th>31</th>\n",
       "      <td>2006</td>\n",
       "      <td>17.3</td>\n",
       "      <td>20.6</td>\n",
       "      <td>13.7</td>\n",
       "      <td>-6.9</td>\n",
       "    </tr>\n",
       "    <tr>\n",
       "      <th>32</th>\n",
       "      <td>2007</td>\n",
       "      <td>17.8</td>\n",
       "      <td>21.1</td>\n",
       "      <td>14.1</td>\n",
       "      <td>-7.0</td>\n",
       "    </tr>\n",
       "    <tr>\n",
       "      <th>33</th>\n",
       "      <td>2008</td>\n",
       "      <td>18.2</td>\n",
       "      <td>21.5</td>\n",
       "      <td>14.6</td>\n",
       "      <td>-6.9</td>\n",
       "    </tr>\n",
       "    <tr>\n",
       "      <th>34</th>\n",
       "      <td>2009</td>\n",
       "      <td>18.7</td>\n",
       "      <td>22.0</td>\n",
       "      <td>15.0</td>\n",
       "      <td>-7.0</td>\n",
       "    </tr>\n",
       "    <tr>\n",
       "      <th>35</th>\n",
       "      <td>2010</td>\n",
       "      <td>19.2</td>\n",
       "      <td>22.5</td>\n",
       "      <td>15.5</td>\n",
       "      <td>-7.0</td>\n",
       "    </tr>\n",
       "    <tr>\n",
       "      <th>36</th>\n",
       "      <td>2011</td>\n",
       "      <td>19.6</td>\n",
       "      <td>22.9</td>\n",
       "      <td>16.0</td>\n",
       "      <td>-6.9</td>\n",
       "    </tr>\n",
       "    <tr>\n",
       "      <th>37</th>\n",
       "      <td>2012</td>\n",
       "      <td>20.1</td>\n",
       "      <td>23.4</td>\n",
       "      <td>16.5</td>\n",
       "      <td>-6.9</td>\n",
       "    </tr>\n",
       "    <tr>\n",
       "      <th>38</th>\n",
       "      <td>2013</td>\n",
       "      <td>20.6</td>\n",
       "      <td>23.9</td>\n",
       "      <td>17.0</td>\n",
       "      <td>-6.9</td>\n",
       "    </tr>\n",
       "    <tr>\n",
       "      <th>39</th>\n",
       "      <td>2014</td>\n",
       "      <td>21.1</td>\n",
       "      <td>24.4</td>\n",
       "      <td>17.5</td>\n",
       "      <td>-6.9</td>\n",
       "    </tr>\n",
       "    <tr>\n",
       "      <th>40</th>\n",
       "      <td>2015</td>\n",
       "      <td>21.6</td>\n",
       "      <td>24.9</td>\n",
       "      <td>18.0</td>\n",
       "      <td>-6.9</td>\n",
       "    </tr>\n",
       "    <tr>\n",
       "      <th>41</th>\n",
       "      <td>2016</td>\n",
       "      <td>22.1</td>\n",
       "      <td>25.4</td>\n",
       "      <td>18.5</td>\n",
       "      <td>-6.9</td>\n",
       "    </tr>\n",
       "  </tbody>\n",
       "</table>\n",
       "</div>"
      ],
      "text/plain": [
       "Sex  Year  Obesity Both (%)  Obesity Female (%)  Obesity Male (%)  \\\n",
       "0    1975               5.2                 7.3               3.0   \n",
       "1    1976               5.5                 7.6               3.2   \n",
       "2    1977               5.7                 8.0               3.4   \n",
       "3    1978               6.0                 8.3               3.6   \n",
       "4    1979               6.3                 8.7               3.8   \n",
       "5    1980               6.6                 9.0               4.1   \n",
       "6    1981               6.9                 9.4               4.3   \n",
       "7    1982               7.2                 9.8               4.6   \n",
       "8    1983               7.6                10.2               4.8   \n",
       "9    1984               7.9                10.6               5.1   \n",
       "10   1985               8.3                11.0               5.4   \n",
       "11   1986               8.6                11.4               5.7   \n",
       "12   1987               9.0                11.8               6.0   \n",
       "13   1988               9.4                12.2               6.3   \n",
       "14   1989               9.8                12.7               6.7   \n",
       "15   1990              10.2                13.1               7.0   \n",
       "16   1991              10.6                13.5               7.4   \n",
       "17   1992              11.0                14.0               7.7   \n",
       "18   1993              11.4                14.4               8.1   \n",
       "19   1994              11.8                14.9               8.5   \n",
       "20   1995              12.2                15.3               8.9   \n",
       "21   1996              12.7                15.8               9.3   \n",
       "22   1997              13.1                16.3               9.7   \n",
       "23   1998              13.6                16.8              10.1   \n",
       "24   1999              14.1                17.3              10.5   \n",
       "25   2000              14.5                17.8              11.0   \n",
       "26   2001              15.0                18.2              11.4   \n",
       "27   2002              15.5                18.7              11.9   \n",
       "28   2003              15.9                19.2              12.3   \n",
       "29   2004              16.4                19.7              12.8   \n",
       "30   2005              16.8                20.1              13.2   \n",
       "31   2006              17.3                20.6              13.7   \n",
       "32   2007              17.8                21.1              14.1   \n",
       "33   2008              18.2                21.5              14.6   \n",
       "34   2009              18.7                22.0              15.0   \n",
       "35   2010              19.2                22.5              15.5   \n",
       "36   2011              19.6                22.9              16.0   \n",
       "37   2012              20.1                23.4              16.5   \n",
       "38   2013              20.6                23.9              17.0   \n",
       "39   2014              21.1                24.4              17.5   \n",
       "40   2015              21.6                24.9              18.0   \n",
       "41   2016              22.1                25.4              18.5   \n",
       "\n",
       "Sex  Diferença entre sexos (%) (M - F)  \n",
       "0                                 -4.3  \n",
       "1                                 -4.4  \n",
       "2                                 -4.6  \n",
       "3                                 -4.7  \n",
       "4                                 -4.9  \n",
       "5                                 -4.9  \n",
       "6                                 -5.1  \n",
       "7                                 -5.2  \n",
       "8                                 -5.4  \n",
       "9                                 -5.5  \n",
       "10                                -5.6  \n",
       "11                                -5.7  \n",
       "12                                -5.8  \n",
       "13                                -5.9  \n",
       "14                                -6.0  \n",
       "15                                -6.1  \n",
       "16                                -6.1  \n",
       "17                                -6.3  \n",
       "18                                -6.3  \n",
       "19                                -6.4  \n",
       "20                                -6.4  \n",
       "21                                -6.5  \n",
       "22                                -6.6  \n",
       "23                                -6.7  \n",
       "24                                -6.8  \n",
       "25                                -6.8  \n",
       "26                                -6.8  \n",
       "27                                -6.8  \n",
       "28                                -6.9  \n",
       "29                                -6.9  \n",
       "30                                -6.9  \n",
       "31                                -6.9  \n",
       "32                                -7.0  \n",
       "33                                -6.9  \n",
       "34                                -7.0  \n",
       "35                                -7.0  \n",
       "36                                -6.9  \n",
       "37                                -6.9  \n",
       "38                                -6.9  \n",
       "39                                -6.9  \n",
       "40                                -6.9  \n",
       "41                                -6.9  "
      ]
     },
     "execution_count": 35,
     "metadata": {},
     "output_type": "execute_result"
    }
   ],
   "source": [
    "df_obesity_in_brasil_per_year"
   ]
  },
  {
   "cell_type": "code",
   "execution_count": 34,
   "id": "1ad52d12",
   "metadata": {},
   "outputs": [],
   "source": [
    "df_obesity_in_brasil_per_year['Diferença entre sexos (%) (M - F)'] = round((df_obesity_in_brasil_per_year['Male'] - df_obesity_in_brasil_per_year['Female']), 2)\n",
    "df_obesity_in_brasil_per_year = df_obesity_in_brasil_per_year.rename(\n",
    "    columns={'Male': 'Obesity Male (%)', 'Female': 'Obesity Female (%)', 'Both sexes': 'Obesity Both (%)'}\n",
    ")"
   ]
  },
  {
   "cell_type": "markdown",
   "id": "rising-exhaust",
   "metadata": {},
   "source": [
    "- Você conseguiria plotar um gráfico mostrando a evolução da obesidade para ambos sexos no mundo?"
   ]
  },
  {
   "cell_type": "code",
   "execution_count": 36,
   "id": "senior-recruitment",
   "metadata": {},
   "outputs": [],
   "source": [
    "df_obesity_in_world_per_year = df_obesity.groupby(['Year', 'Sex'])['Obesity (%)'].mean().unstack().reset_index()"
   ]
  },
  {
   "cell_type": "code",
   "execution_count": 39,
   "id": "57452065",
   "metadata": {},
   "outputs": [
    {
     "data": {
      "application/vnd.microsoft.datawrangler.viewer.v0+json": {
       "columns": [
        {
         "name": "index",
         "rawType": "int64",
         "type": "integer"
        },
        {
         "name": "Year",
         "rawType": "int64",
         "type": "integer"
        },
        {
         "name": "Both sexes",
         "rawType": "float64",
         "type": "float"
        },
        {
         "name": "Female",
         "rawType": "float64",
         "type": "float"
        },
        {
         "name": "Male",
         "rawType": "float64",
         "type": "float"
        }
       ],
       "conversionMethod": "pd.DataFrame",
       "ref": "73a28472-e182-46d8-97a9-8898b51606a2",
       "rows": [
        [
         "0",
         "1975",
         "6.510994764397905",
         "8.850261780104713",
         "4.076439790575916"
        ],
        [
         "1",
         "1976",
         "6.737696335078534",
         "9.120418848167539",
         "4.2518324607329845"
        ],
        [
         "2",
         "1977",
         "6.962303664921466",
         "9.396858638743455",
         "4.4272251308900525"
        ],
        [
         "3",
         "1978",
         "7.193717277486911",
         "9.67696335078534",
         "4.612565445026178"
        ],
        [
         "4",
         "1979",
         "7.430890052356021",
         "9.963350785340314",
         "4.805235602094241"
        ],
        [
         "5",
         "1980",
         "7.676439790575916",
         "10.256020942408377",
         "5.002094240837696"
        ],
        [
         "6",
         "1981",
         "7.9235602094240845",
         "10.552356020942408",
         "5.205759162303664"
        ],
        [
         "7",
         "1982",
         "8.181151832460733",
         "10.850261780104713",
         "5.4214659685863875"
        ],
        [
         "8",
         "1983",
         "8.434031413612566",
         "11.159162303664923",
         "5.63717277486911"
        ],
        [
         "9",
         "1984",
         "8.709947643979056",
         "11.465445026178012",
         "5.858115183246074"
        ],
        [
         "10",
         "1985",
         "8.97958115183246",
         "11.779581151832462",
         "6.0900523560209425"
        ],
        [
         "11",
         "1986",
         "9.256020942408377",
         "12.095811518324608",
         "6.328795811518324"
        ],
        [
         "12",
         "1987",
         "9.537696335078534",
         "12.41780104712042",
         "6.571727748691099"
        ],
        [
         "13",
         "1988",
         "9.828272251308901",
         "12.741884816753926",
         "6.819371727748691"
        ],
        [
         "14",
         "1989",
         "10.114659685863876",
         "13.073298429319372",
         "7.0785340314136125"
        ],
        [
         "15",
         "1990",
         "10.414659685863874",
         "13.404712041884817",
         "7.342408376963351"
        ],
        [
         "16",
         "1991",
         "10.716230366492146",
         "13.739790575916231",
         "7.606282722513089"
        ],
        [
         "17",
         "1992",
         "11.018324607329843",
         "14.075916230366492",
         "7.878010471204188"
        ],
        [
         "18",
         "1993",
         "11.319895287958115",
         "14.410471204188482",
         "8.153926701570681"
        ],
        [
         "19",
         "1994",
         "11.62565445026178",
         "14.747120418848166",
         "8.43717277486911"
        ],
        [
         "20",
         "1995",
         "11.935602094240837",
         "15.09005235602094",
         "8.724607329842932"
        ],
        [
         "21",
         "1996",
         "12.260732984293195",
         "15.433507853403142",
         "9.014659685863874"
        ],
        [
         "22",
         "1997",
         "12.58324607329843",
         "15.77696335078534",
         "9.309424083769633"
        ],
        [
         "23",
         "1998",
         "12.91413612565445",
         "16.12565445026178",
         "9.616230366492147"
        ],
        [
         "24",
         "1999",
         "13.256020942408377",
         "16.478534031413613",
         "9.923560209424084"
        ],
        [
         "25",
         "2000",
         "13.596858638743456",
         "16.838743455497383",
         "10.241884816753927"
        ],
        [
         "26",
         "2001",
         "13.937696335078533",
         "17.20366492146597",
         "10.564921465968586"
        ],
        [
         "27",
         "2002",
         "14.283769633507852",
         "17.577486910994764",
         "10.895811518324606"
        ],
        [
         "28",
         "2003",
         "14.642931937172776",
         "17.95130890052356",
         "11.23717277486911"
        ],
        [
         "29",
         "2004",
         "15.015706806282722",
         "18.334031413612568",
         "11.58586387434555"
        ],
        [
         "30",
         "2005",
         "15.379057591623036",
         "18.719895287958114",
         "11.94502617801047"
        ],
        [
         "31",
         "2006",
         "15.751832460732984",
         "19.117277486910996",
         "12.303664921465968"
        ],
        [
         "32",
         "2007",
         "16.150785340314137",
         "19.514659685863876",
         "12.676963350785341"
        ],
        [
         "33",
         "2008",
         "16.54240837696335",
         "19.916230366492147",
         "13.06282722513089"
        ],
        [
         "34",
         "2009",
         "16.939267015706807",
         "20.32565445026178",
         "13.44869109947644"
        ],
        [
         "35",
         "2010",
         "17.349214659685863",
         "20.740837696335078",
         "13.847643979057592"
        ],
        [
         "36",
         "2011",
         "17.763874345549738",
         "21.164397905759163",
         "14.254973821989529"
        ],
        [
         "37",
         "2012",
         "18.178534031413612",
         "21.589005235602095",
         "14.672251308900524"
        ],
        [
         "38",
         "2013",
         "18.609424083769635",
         "22.02198952879581",
         "15.097382198952879"
        ],
        [
         "39",
         "2014",
         "19.043979057591624",
         "22.457068062827226",
         "15.534031413612565"
        ],
        [
         "40",
         "2015",
         "19.508376963350784",
         "22.899476439790575",
         "15.98062827225131"
        ],
        [
         "41",
         "2016",
         "19.960732984293195",
         "23.35026178010471",
         "16.442931937172773"
        ]
       ],
       "shape": {
        "columns": 4,
        "rows": 42
       }
      },
      "text/html": [
       "<div>\n",
       "<style scoped>\n",
       "    .dataframe tbody tr th:only-of-type {\n",
       "        vertical-align: middle;\n",
       "    }\n",
       "\n",
       "    .dataframe tbody tr th {\n",
       "        vertical-align: top;\n",
       "    }\n",
       "\n",
       "    .dataframe thead th {\n",
       "        text-align: right;\n",
       "    }\n",
       "</style>\n",
       "<table border=\"1\" class=\"dataframe\">\n",
       "  <thead>\n",
       "    <tr style=\"text-align: right;\">\n",
       "      <th>Sex</th>\n",
       "      <th>Year</th>\n",
       "      <th>Both sexes</th>\n",
       "      <th>Female</th>\n",
       "      <th>Male</th>\n",
       "    </tr>\n",
       "  </thead>\n",
       "  <tbody>\n",
       "    <tr>\n",
       "      <th>0</th>\n",
       "      <td>1975</td>\n",
       "      <td>6.510995</td>\n",
       "      <td>8.850262</td>\n",
       "      <td>4.076440</td>\n",
       "    </tr>\n",
       "    <tr>\n",
       "      <th>1</th>\n",
       "      <td>1976</td>\n",
       "      <td>6.737696</td>\n",
       "      <td>9.120419</td>\n",
       "      <td>4.251832</td>\n",
       "    </tr>\n",
       "    <tr>\n",
       "      <th>2</th>\n",
       "      <td>1977</td>\n",
       "      <td>6.962304</td>\n",
       "      <td>9.396859</td>\n",
       "      <td>4.427225</td>\n",
       "    </tr>\n",
       "    <tr>\n",
       "      <th>3</th>\n",
       "      <td>1978</td>\n",
       "      <td>7.193717</td>\n",
       "      <td>9.676963</td>\n",
       "      <td>4.612565</td>\n",
       "    </tr>\n",
       "    <tr>\n",
       "      <th>4</th>\n",
       "      <td>1979</td>\n",
       "      <td>7.430890</td>\n",
       "      <td>9.963351</td>\n",
       "      <td>4.805236</td>\n",
       "    </tr>\n",
       "    <tr>\n",
       "      <th>5</th>\n",
       "      <td>1980</td>\n",
       "      <td>7.676440</td>\n",
       "      <td>10.256021</td>\n",
       "      <td>5.002094</td>\n",
       "    </tr>\n",
       "    <tr>\n",
       "      <th>6</th>\n",
       "      <td>1981</td>\n",
       "      <td>7.923560</td>\n",
       "      <td>10.552356</td>\n",
       "      <td>5.205759</td>\n",
       "    </tr>\n",
       "    <tr>\n",
       "      <th>7</th>\n",
       "      <td>1982</td>\n",
       "      <td>8.181152</td>\n",
       "      <td>10.850262</td>\n",
       "      <td>5.421466</td>\n",
       "    </tr>\n",
       "    <tr>\n",
       "      <th>8</th>\n",
       "      <td>1983</td>\n",
       "      <td>8.434031</td>\n",
       "      <td>11.159162</td>\n",
       "      <td>5.637173</td>\n",
       "    </tr>\n",
       "    <tr>\n",
       "      <th>9</th>\n",
       "      <td>1984</td>\n",
       "      <td>8.709948</td>\n",
       "      <td>11.465445</td>\n",
       "      <td>5.858115</td>\n",
       "    </tr>\n",
       "    <tr>\n",
       "      <th>10</th>\n",
       "      <td>1985</td>\n",
       "      <td>8.979581</td>\n",
       "      <td>11.779581</td>\n",
       "      <td>6.090052</td>\n",
       "    </tr>\n",
       "    <tr>\n",
       "      <th>11</th>\n",
       "      <td>1986</td>\n",
       "      <td>9.256021</td>\n",
       "      <td>12.095812</td>\n",
       "      <td>6.328796</td>\n",
       "    </tr>\n",
       "    <tr>\n",
       "      <th>12</th>\n",
       "      <td>1987</td>\n",
       "      <td>9.537696</td>\n",
       "      <td>12.417801</td>\n",
       "      <td>6.571728</td>\n",
       "    </tr>\n",
       "    <tr>\n",
       "      <th>13</th>\n",
       "      <td>1988</td>\n",
       "      <td>9.828272</td>\n",
       "      <td>12.741885</td>\n",
       "      <td>6.819372</td>\n",
       "    </tr>\n",
       "    <tr>\n",
       "      <th>14</th>\n",
       "      <td>1989</td>\n",
       "      <td>10.114660</td>\n",
       "      <td>13.073298</td>\n",
       "      <td>7.078534</td>\n",
       "    </tr>\n",
       "    <tr>\n",
       "      <th>15</th>\n",
       "      <td>1990</td>\n",
       "      <td>10.414660</td>\n",
       "      <td>13.404712</td>\n",
       "      <td>7.342408</td>\n",
       "    </tr>\n",
       "    <tr>\n",
       "      <th>16</th>\n",
       "      <td>1991</td>\n",
       "      <td>10.716230</td>\n",
       "      <td>13.739791</td>\n",
       "      <td>7.606283</td>\n",
       "    </tr>\n",
       "    <tr>\n",
       "      <th>17</th>\n",
       "      <td>1992</td>\n",
       "      <td>11.018325</td>\n",
       "      <td>14.075916</td>\n",
       "      <td>7.878010</td>\n",
       "    </tr>\n",
       "    <tr>\n",
       "      <th>18</th>\n",
       "      <td>1993</td>\n",
       "      <td>11.319895</td>\n",
       "      <td>14.410471</td>\n",
       "      <td>8.153927</td>\n",
       "    </tr>\n",
       "    <tr>\n",
       "      <th>19</th>\n",
       "      <td>1994</td>\n",
       "      <td>11.625654</td>\n",
       "      <td>14.747120</td>\n",
       "      <td>8.437173</td>\n",
       "    </tr>\n",
       "    <tr>\n",
       "      <th>20</th>\n",
       "      <td>1995</td>\n",
       "      <td>11.935602</td>\n",
       "      <td>15.090052</td>\n",
       "      <td>8.724607</td>\n",
       "    </tr>\n",
       "    <tr>\n",
       "      <th>21</th>\n",
       "      <td>1996</td>\n",
       "      <td>12.260733</td>\n",
       "      <td>15.433508</td>\n",
       "      <td>9.014660</td>\n",
       "    </tr>\n",
       "    <tr>\n",
       "      <th>22</th>\n",
       "      <td>1997</td>\n",
       "      <td>12.583246</td>\n",
       "      <td>15.776963</td>\n",
       "      <td>9.309424</td>\n",
       "    </tr>\n",
       "    <tr>\n",
       "      <th>23</th>\n",
       "      <td>1998</td>\n",
       "      <td>12.914136</td>\n",
       "      <td>16.125654</td>\n",
       "      <td>9.616230</td>\n",
       "    </tr>\n",
       "    <tr>\n",
       "      <th>24</th>\n",
       "      <td>1999</td>\n",
       "      <td>13.256021</td>\n",
       "      <td>16.478534</td>\n",
       "      <td>9.923560</td>\n",
       "    </tr>\n",
       "    <tr>\n",
       "      <th>25</th>\n",
       "      <td>2000</td>\n",
       "      <td>13.596859</td>\n",
       "      <td>16.838743</td>\n",
       "      <td>10.241885</td>\n",
       "    </tr>\n",
       "    <tr>\n",
       "      <th>26</th>\n",
       "      <td>2001</td>\n",
       "      <td>13.937696</td>\n",
       "      <td>17.203665</td>\n",
       "      <td>10.564921</td>\n",
       "    </tr>\n",
       "    <tr>\n",
       "      <th>27</th>\n",
       "      <td>2002</td>\n",
       "      <td>14.283770</td>\n",
       "      <td>17.577487</td>\n",
       "      <td>10.895812</td>\n",
       "    </tr>\n",
       "    <tr>\n",
       "      <th>28</th>\n",
       "      <td>2003</td>\n",
       "      <td>14.642932</td>\n",
       "      <td>17.951309</td>\n",
       "      <td>11.237173</td>\n",
       "    </tr>\n",
       "    <tr>\n",
       "      <th>29</th>\n",
       "      <td>2004</td>\n",
       "      <td>15.015707</td>\n",
       "      <td>18.334031</td>\n",
       "      <td>11.585864</td>\n",
       "    </tr>\n",
       "    <tr>\n",
       "      <th>30</th>\n",
       "      <td>2005</td>\n",
       "      <td>15.379058</td>\n",
       "      <td>18.719895</td>\n",
       "      <td>11.945026</td>\n",
       "    </tr>\n",
       "    <tr>\n",
       "      <th>31</th>\n",
       "      <td>2006</td>\n",
       "      <td>15.751832</td>\n",
       "      <td>19.117277</td>\n",
       "      <td>12.303665</td>\n",
       "    </tr>\n",
       "    <tr>\n",
       "      <th>32</th>\n",
       "      <td>2007</td>\n",
       "      <td>16.150785</td>\n",
       "      <td>19.514660</td>\n",
       "      <td>12.676963</td>\n",
       "    </tr>\n",
       "    <tr>\n",
       "      <th>33</th>\n",
       "      <td>2008</td>\n",
       "      <td>16.542408</td>\n",
       "      <td>19.916230</td>\n",
       "      <td>13.062827</td>\n",
       "    </tr>\n",
       "    <tr>\n",
       "      <th>34</th>\n",
       "      <td>2009</td>\n",
       "      <td>16.939267</td>\n",
       "      <td>20.325654</td>\n",
       "      <td>13.448691</td>\n",
       "    </tr>\n",
       "    <tr>\n",
       "      <th>35</th>\n",
       "      <td>2010</td>\n",
       "      <td>17.349215</td>\n",
       "      <td>20.740838</td>\n",
       "      <td>13.847644</td>\n",
       "    </tr>\n",
       "    <tr>\n",
       "      <th>36</th>\n",
       "      <td>2011</td>\n",
       "      <td>17.763874</td>\n",
       "      <td>21.164398</td>\n",
       "      <td>14.254974</td>\n",
       "    </tr>\n",
       "    <tr>\n",
       "      <th>37</th>\n",
       "      <td>2012</td>\n",
       "      <td>18.178534</td>\n",
       "      <td>21.589005</td>\n",
       "      <td>14.672251</td>\n",
       "    </tr>\n",
       "    <tr>\n",
       "      <th>38</th>\n",
       "      <td>2013</td>\n",
       "      <td>18.609424</td>\n",
       "      <td>22.021990</td>\n",
       "      <td>15.097382</td>\n",
       "    </tr>\n",
       "    <tr>\n",
       "      <th>39</th>\n",
       "      <td>2014</td>\n",
       "      <td>19.043979</td>\n",
       "      <td>22.457068</td>\n",
       "      <td>15.534031</td>\n",
       "    </tr>\n",
       "    <tr>\n",
       "      <th>40</th>\n",
       "      <td>2015</td>\n",
       "      <td>19.508377</td>\n",
       "      <td>22.899476</td>\n",
       "      <td>15.980628</td>\n",
       "    </tr>\n",
       "    <tr>\n",
       "      <th>41</th>\n",
       "      <td>2016</td>\n",
       "      <td>19.960733</td>\n",
       "      <td>23.350262</td>\n",
       "      <td>16.442932</td>\n",
       "    </tr>\n",
       "  </tbody>\n",
       "</table>\n",
       "</div>"
      ],
      "text/plain": [
       "Sex  Year  Both sexes     Female       Male\n",
       "0    1975    6.510995   8.850262   4.076440\n",
       "1    1976    6.737696   9.120419   4.251832\n",
       "2    1977    6.962304   9.396859   4.427225\n",
       "3    1978    7.193717   9.676963   4.612565\n",
       "4    1979    7.430890   9.963351   4.805236\n",
       "5    1980    7.676440  10.256021   5.002094\n",
       "6    1981    7.923560  10.552356   5.205759\n",
       "7    1982    8.181152  10.850262   5.421466\n",
       "8    1983    8.434031  11.159162   5.637173\n",
       "9    1984    8.709948  11.465445   5.858115\n",
       "10   1985    8.979581  11.779581   6.090052\n",
       "11   1986    9.256021  12.095812   6.328796\n",
       "12   1987    9.537696  12.417801   6.571728\n",
       "13   1988    9.828272  12.741885   6.819372\n",
       "14   1989   10.114660  13.073298   7.078534\n",
       "15   1990   10.414660  13.404712   7.342408\n",
       "16   1991   10.716230  13.739791   7.606283\n",
       "17   1992   11.018325  14.075916   7.878010\n",
       "18   1993   11.319895  14.410471   8.153927\n",
       "19   1994   11.625654  14.747120   8.437173\n",
       "20   1995   11.935602  15.090052   8.724607\n",
       "21   1996   12.260733  15.433508   9.014660\n",
       "22   1997   12.583246  15.776963   9.309424\n",
       "23   1998   12.914136  16.125654   9.616230\n",
       "24   1999   13.256021  16.478534   9.923560\n",
       "25   2000   13.596859  16.838743  10.241885\n",
       "26   2001   13.937696  17.203665  10.564921\n",
       "27   2002   14.283770  17.577487  10.895812\n",
       "28   2003   14.642932  17.951309  11.237173\n",
       "29   2004   15.015707  18.334031  11.585864\n",
       "30   2005   15.379058  18.719895  11.945026\n",
       "31   2006   15.751832  19.117277  12.303665\n",
       "32   2007   16.150785  19.514660  12.676963\n",
       "33   2008   16.542408  19.916230  13.062827\n",
       "34   2009   16.939267  20.325654  13.448691\n",
       "35   2010   17.349215  20.740838  13.847644\n",
       "36   2011   17.763874  21.164398  14.254974\n",
       "37   2012   18.178534  21.589005  14.672251\n",
       "38   2013   18.609424  22.021990  15.097382\n",
       "39   2014   19.043979  22.457068  15.534031\n",
       "40   2015   19.508377  22.899476  15.980628\n",
       "41   2016   19.960733  23.350262  16.442932"
      ]
     },
     "execution_count": 39,
     "metadata": {},
     "output_type": "execute_result"
    }
   ],
   "source": [
    "df_obesity_in_world_per_year"
   ]
  },
  {
   "cell_type": "code",
   "execution_count": 42,
   "id": "a457653b",
   "metadata": {},
   "outputs": [
    {
     "data": {
      "text/plain": [
       "<Axes: xlabel='Year'>"
      ]
     },
     "execution_count": 42,
     "metadata": {},
     "output_type": "execute_result"
    },
    {
     "data": {
      "image/png": "[encoded data removed]",
      "text/plain": [
       "<Figure size 1000x500 with 1 Axes>"
      ]
     },
     "metadata": {},
     "output_type": "display_data"
    }
   ],
   "source": [
    "df_obesity_in_world_per_year.plot(x='Year', kind='line', marker='o', label='World', figsize=(10, 5))  "
   ]
  },
  {
   "cell_type": "markdown",
   "id": "labeled-rainbow",
   "metadata": {},
   "source": [
    "## Perguntas - GDP Per Person (1901-2011)"
   ]
  },
  {
   "cell_type": "code",
   "execution_count": null,
   "id": "thermal-breeding",
   "metadata": {},
   "outputs": [],
   "source": [
    "df_gdp = pd.read_csv(\"Datasets/GDP.csv\", decimal=\".\")"
   ]
  },
  {
   "cell_type": "markdown",
   "id": "suffering-guitar",
   "metadata": {},
   "source": [
    "- Limpe o conjunto de dados, convertendo strings em datas ou float, quando necessário."
   ]
  },
  {
   "cell_type": "code",
   "execution_count": null,
   "id": "fundamental-occasions",
   "metadata": {},
   "outputs": [],
   "source": []
  },
  {
   "cell_type": "markdown",
   "id": "studied-validity",
   "metadata": {},
   "source": [
    "- Você conseguiria informar o primeiro valor registrado de cada país?"
   ]
  },
  {
   "cell_type": "code",
   "execution_count": null,
   "id": "frequent-rental",
   "metadata": {},
   "outputs": [],
   "source": []
  },
  {
   "cell_type": "markdown",
   "id": "tutorial-softball",
   "metadata": {},
   "source": [
    "- Informe as regiões com maiores crescimentos de PIB per capita no século passado."
   ]
  },
  {
   "cell_type": "code",
   "execution_count": null,
   "id": "given-colorado",
   "metadata": {},
   "outputs": [],
   "source": []
  },
  {
   "cell_type": "markdown",
   "id": "textile-afternoon",
   "metadata": {},
   "source": [
    "- Preecha os anos ausentes em cada país com uma estimativa, baseada na diferença entre o próximo registro e o anterior."
   ]
  },
  {
   "cell_type": "code",
   "execution_count": null,
   "id": "hydraulic-confidentiality",
   "metadata": {},
   "outputs": [],
   "source": []
  },
  {
   "cell_type": "markdown",
   "id": "revised-helicopter",
   "metadata": {},
   "source": [
    "### DESAFIOS\n",
    "- Você conseguiria criar um mapa do gdp ou da obesidade no mundo ao longo dos anos?"
   ]
  },
  {
   "cell_type": "code",
   "execution_count": null,
   "id": "advised-sample",
   "metadata": {},
   "outputs": [],
   "source": []
  },
  {
   "cell_type": "markdown",
   "id": "lesbian-flight",
   "metadata": {},
   "source": [
    "- Há uma relação entre níveis de obesidade e gdp per capita?"
   ]
  },
  {
   "cell_type": "code",
   "execution_count": null,
   "id": "fluid-enemy",
   "metadata": {},
   "outputs": [],
   "source": []
  }
 ],
 "metadata": {
  "kernelspec": {
   "display_name": "Python 3",
   "language": "python",
   "name": "python3"
  },
  "language_info": {
   "codemirror_mode": {
    "name": "ipython",
    "version": 3
   },
   "file_extension": ".py",
   "mimetype": "text/x-python",
   "name": "python",
   "nbconvert_exporter": "python",
   "pygments_lexer": "ipython3",
   "version": "3.13.2"
  }
 },
 "nbformat": 4,
 "nbformat_minor": 5
}
